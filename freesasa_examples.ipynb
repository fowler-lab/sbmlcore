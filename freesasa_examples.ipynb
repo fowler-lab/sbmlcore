{
 "cells": [
  {
   "cell_type": "markdown",
   "id": "5f754c44-549c-4a81-b6fc-fa239748aed7",
   "metadata": {},
   "source": [
    "# Examples of using the FreeSASA class in sbmlcore #\n",
    "\n",
    "Overall workflow:\n",
    "1. Provide an initial mutation dataframe\n",
    "2. Load the FreeSASA class, specifying the relevant pdb file and a dictionary of offsets (if required) to bring the resids in the pdb inline with those in the mutation dataframe. Offsets must be a dictionary of the form {segid: int}. The offsets will be the same as those used for the StructuralFeatures class. "
   ]
  },
  {
   "cell_type": "code",
   "execution_count": 176,
   "id": "59d75ddc-4788-43c1-874d-cd8a6b6017ce",
   "metadata": {},
   "outputs": [
    {
     "name": "stdout",
     "output_type": "stream",
     "text": [
      "The autoreload extension is already loaded. To reload it, use:\n",
      "  %reload_ext autoreload\n"
     ]
    }
   ],
   "source": [
    "import sbmlcore, pandas, numpy, pytest\n",
    "%load_ext autoreload\n",
    "%autoreload 2"
   ]
  },
  {
   "cell_type": "markdown",
   "id": "bf263ec2-50cf-4193-bcb7-9babadd2da5b",
   "metadata": {},
   "source": [
    "## Example 1: PncA ##\n",
    "This example requires no offsets.\n",
    "\n",
    "First, load FreeSASA class, specifying the correct pdb file and no offsets. "
   ]
  },
  {
   "cell_type": "code",
   "execution_count": 177,
   "id": "e7575e11-3575-44e7-b80c-c19c809a1271",
   "metadata": {},
   "outputs": [
    {
     "name": "stdout",
     "output_type": "stream",
     "text": [
      "offsets = None, are you sure?\n"
     ]
    }
   ],
   "source": [
    "file = sbmlcore.FreeSASA('tests/3pl1.pdb')\n"
   ]
  },
  {
   "cell_type": "code",
   "execution_count": 178,
   "id": "e9c2887e-6a80-4e7a-9346-6809da2c830a",
   "metadata": {},
   "outputs": [
    {
     "data": {
      "text/html": [
       "<div>\n",
       "<style scoped>\n",
       "    .dataframe tbody tr th:only-of-type {\n",
       "        vertical-align: middle;\n",
       "    }\n",
       "\n",
       "    .dataframe tbody tr th {\n",
       "        vertical-align: top;\n",
       "    }\n",
       "\n",
       "    .dataframe thead th {\n",
       "        text-align: right;\n",
       "    }\n",
       "</style>\n",
       "<table border=\"1\" class=\"dataframe\">\n",
       "  <thead>\n",
       "    <tr style=\"text-align: right;\">\n",
       "      <th></th>\n",
       "      <th>segid</th>\n",
       "      <th>mutation</th>\n",
       "    </tr>\n",
       "  </thead>\n",
       "  <tbody>\n",
       "    <tr>\n",
       "      <th>0</th>\n",
       "      <td>A</td>\n",
       "      <td>M1D</td>\n",
       "    </tr>\n",
       "    <tr>\n",
       "      <th>1</th>\n",
       "      <td>A</td>\n",
       "      <td>R2K</td>\n",
       "    </tr>\n",
       "    <tr>\n",
       "      <th>2</th>\n",
       "      <td>A</td>\n",
       "      <td>A3V</td>\n",
       "    </tr>\n",
       "  </tbody>\n",
       "</table>\n",
       "</div>"
      ],
      "text/plain": [
       "  segid mutation\n",
       "0     A      M1D\n",
       "1     A      R2K\n",
       "2     A      A3V"
      ]
     },
     "execution_count": 178,
     "metadata": {},
     "output_type": "execute_result"
    }
   ],
   "source": [
    "b = {'segid': ['A', 'A', 'A'], 'mutation': ['M1D','R2K', 'A3V']}\n",
    "df = pandas.DataFrame(b)\n",
    "df"
   ]
  },
  {
   "cell_type": "markdown",
   "id": "50669a13-687f-4650-9c05-b0bd65f97a56",
   "metadata": {},
   "source": [
    "Now calculate the surface accessible surface areas for each residue and attach to the mutation dataframe. "
   ]
  },
  {
   "cell_type": "code",
   "execution_count": 179,
   "id": "3581b29f-66bc-49db-999b-eca494e1806e",
   "metadata": {},
   "outputs": [
    {
     "data": {
      "text/html": [
       "<div>\n",
       "<style scoped>\n",
       "    .dataframe tbody tr th:only-of-type {\n",
       "        vertical-align: middle;\n",
       "    }\n",
       "\n",
       "    .dataframe tbody tr th {\n",
       "        vertical-align: top;\n",
       "    }\n",
       "\n",
       "    .dataframe thead th {\n",
       "        text-align: right;\n",
       "    }\n",
       "</style>\n",
       "<table border=\"1\" class=\"dataframe\">\n",
       "  <thead>\n",
       "    <tr style=\"text-align: right;\">\n",
       "      <th></th>\n",
       "      <th>segid</th>\n",
       "      <th>mutation</th>\n",
       "      <th>resid</th>\n",
       "      <th>resname_1</th>\n",
       "      <th>chain_offsets</th>\n",
       "      <th>resname_3</th>\n",
       "      <th>pdb_resid</th>\n",
       "      <th>SASA</th>\n",
       "    </tr>\n",
       "    <tr>\n",
       "      <th>id</th>\n",
       "      <th></th>\n",
       "      <th></th>\n",
       "      <th></th>\n",
       "      <th></th>\n",
       "      <th></th>\n",
       "      <th></th>\n",
       "      <th></th>\n",
       "      <th></th>\n",
       "    </tr>\n",
       "  </thead>\n",
       "  <tbody>\n",
       "    <tr>\n",
       "      <th>A1</th>\n",
       "      <td>A</td>\n",
       "      <td>M1D</td>\n",
       "      <td>1</td>\n",
       "      <td>M</td>\n",
       "      <td>0</td>\n",
       "      <td>MET</td>\n",
       "      <td>1</td>\n",
       "      <td>96.204428</td>\n",
       "    </tr>\n",
       "    <tr>\n",
       "      <th>A2</th>\n",
       "      <td>A</td>\n",
       "      <td>R2K</td>\n",
       "      <td>2</td>\n",
       "      <td>R</td>\n",
       "      <td>0</td>\n",
       "      <td>ARG</td>\n",
       "      <td>2</td>\n",
       "      <td>57.391769</td>\n",
       "    </tr>\n",
       "    <tr>\n",
       "      <th>A3</th>\n",
       "      <td>A</td>\n",
       "      <td>A3V</td>\n",
       "      <td>3</td>\n",
       "      <td>A</td>\n",
       "      <td>0</td>\n",
       "      <td>ALA</td>\n",
       "      <td>3</td>\n",
       "      <td>0.000000</td>\n",
       "    </tr>\n",
       "  </tbody>\n",
       "</table>\n",
       "</div>"
      ],
      "text/plain": [
       "   segid mutation  resid resname_1  chain_offsets resname_3  pdb_resid  \\\n",
       "id                                                                       \n",
       "A1     A      M1D      1         M              0       MET          1   \n",
       "A2     A      R2K      2         R              0       ARG          2   \n",
       "A3     A      A3V      3         A              0       ALA          3   \n",
       "\n",
       "         SASA  \n",
       "id             \n",
       "A1  96.204428  \n",
       "A2  57.391769  \n",
       "A3   0.000000  "
      ]
     },
     "execution_count": 179,
     "metadata": {},
     "output_type": "execute_result"
    }
   ],
   "source": [
    "sasa_df = file.add_feature(df)\n",
    "sasa_df"
   ]
  },
  {
   "cell_type": "markdown",
   "id": "e57ac629-b4dd-4495-8fe5-dc9b6d0ab5a9",
   "metadata": {},
   "source": [
    "## Example 2: RNAP ##\n",
    "This example requires offsets to bring the resids from the mutation in line with the pdb file. \n",
    "A 'pdb_resid' column is given so that you can check the that you have specified the offsets correctly such that the \n",
    "entries in this column are the same as in the pdb file. For a further check, if you use the StructuralFeatures class, \n",
    "the offsets should be the same for both classes. "
   ]
  },
  {
   "cell_type": "code",
   "execution_count": 180,
   "id": "114036db-8d2b-45fc-9ce0-d5967e9bdd8a",
   "metadata": {},
   "outputs": [
    {
     "data": {
      "text/html": [
       "<div>\n",
       "<style scoped>\n",
       "    .dataframe tbody tr th:only-of-type {\n",
       "        vertical-align: middle;\n",
       "    }\n",
       "\n",
       "    .dataframe tbody tr th {\n",
       "        vertical-align: top;\n",
       "    }\n",
       "\n",
       "    .dataframe thead th {\n",
       "        text-align: right;\n",
       "    }\n",
       "</style>\n",
       "<table border=\"1\" class=\"dataframe\">\n",
       "  <thead>\n",
       "    <tr style=\"text-align: right;\">\n",
       "      <th></th>\n",
       "      <th>segid</th>\n",
       "      <th>mutation</th>\n",
       "    </tr>\n",
       "  </thead>\n",
       "  <tbody>\n",
       "    <tr>\n",
       "      <th>0</th>\n",
       "      <td>A</td>\n",
       "      <td>I3D</td>\n",
       "    </tr>\n",
       "    <tr>\n",
       "      <th>1</th>\n",
       "      <td>A</td>\n",
       "      <td>S4K</td>\n",
       "    </tr>\n",
       "    <tr>\n",
       "      <th>2</th>\n",
       "      <td>A</td>\n",
       "      <td>Q5V</td>\n",
       "    </tr>\n",
       "    <tr>\n",
       "      <th>3</th>\n",
       "      <td>B</td>\n",
       "      <td>R6D</td>\n",
       "    </tr>\n",
       "    <tr>\n",
       "      <th>4</th>\n",
       "      <td>C</td>\n",
       "      <td>S450F</td>\n",
       "    </tr>\n",
       "    <tr>\n",
       "      <th>5</th>\n",
       "      <td>C</td>\n",
       "      <td>D435F</td>\n",
       "    </tr>\n",
       "  </tbody>\n",
       "</table>\n",
       "</div>"
      ],
      "text/plain": [
       "  segid mutation\n",
       "0     A      I3D\n",
       "1     A      S4K\n",
       "2     A      Q5V\n",
       "3     B      R6D\n",
       "4     C    S450F\n",
       "5     C    D435F"
      ]
     },
     "execution_count": 180,
     "metadata": {},
     "output_type": "execute_result"
    }
   ],
   "source": [
    "file = sbmlcore.FreeSASA('tests/5uh6.pdb', offsets = {'A': 0, 'B': 0, 'C': -6}) #\n",
    "b = {'segid': ['A', 'A', 'A', 'B', 'C', 'C'], 'mutation': ['I3D','S4K', 'Q5V', 'R6D', 'S450F', 'D435F']}\n",
    "df = pandas.DataFrame(b)\n",
    "df"
   ]
  },
  {
   "cell_type": "code",
   "execution_count": 181,
   "id": "005887bf-577b-454c-ae61-7c3a3fb575a0",
   "metadata": {},
   "outputs": [
    {
     "data": {
      "text/html": [
       "<div>\n",
       "<style scoped>\n",
       "    .dataframe tbody tr th:only-of-type {\n",
       "        vertical-align: middle;\n",
       "    }\n",
       "\n",
       "    .dataframe tbody tr th {\n",
       "        vertical-align: top;\n",
       "    }\n",
       "\n",
       "    .dataframe thead th {\n",
       "        text-align: right;\n",
       "    }\n",
       "</style>\n",
       "<table border=\"1\" class=\"dataframe\">\n",
       "  <thead>\n",
       "    <tr style=\"text-align: right;\">\n",
       "      <th></th>\n",
       "      <th>segid</th>\n",
       "      <th>mutation</th>\n",
       "      <th>resid</th>\n",
       "      <th>resname_1</th>\n",
       "      <th>chain_offsets</th>\n",
       "      <th>resname_3</th>\n",
       "      <th>pdb_resid</th>\n",
       "      <th>SASA</th>\n",
       "    </tr>\n",
       "    <tr>\n",
       "      <th>id</th>\n",
       "      <th></th>\n",
       "      <th></th>\n",
       "      <th></th>\n",
       "      <th></th>\n",
       "      <th></th>\n",
       "      <th></th>\n",
       "      <th></th>\n",
       "      <th></th>\n",
       "    </tr>\n",
       "  </thead>\n",
       "  <tbody>\n",
       "    <tr>\n",
       "      <th>A3</th>\n",
       "      <td>A</td>\n",
       "      <td>I3D</td>\n",
       "      <td>3</td>\n",
       "      <td>I</td>\n",
       "      <td>0</td>\n",
       "      <td>ILE</td>\n",
       "      <td>3</td>\n",
       "      <td>50.869281</td>\n",
       "    </tr>\n",
       "    <tr>\n",
       "      <th>A4</th>\n",
       "      <td>A</td>\n",
       "      <td>S4K</td>\n",
       "      <td>4</td>\n",
       "      <td>S</td>\n",
       "      <td>0</td>\n",
       "      <td>SER</td>\n",
       "      <td>4</td>\n",
       "      <td>61.119937</td>\n",
       "    </tr>\n",
       "    <tr>\n",
       "      <th>A5</th>\n",
       "      <td>A</td>\n",
       "      <td>Q5V</td>\n",
       "      <td>5</td>\n",
       "      <td>Q</td>\n",
       "      <td>0</td>\n",
       "      <td>GLN</td>\n",
       "      <td>5</td>\n",
       "      <td>123.631715</td>\n",
       "    </tr>\n",
       "    <tr>\n",
       "      <th>B6</th>\n",
       "      <td>B</td>\n",
       "      <td>R6D</td>\n",
       "      <td>6</td>\n",
       "      <td>R</td>\n",
       "      <td>0</td>\n",
       "      <td>ARG</td>\n",
       "      <td>6</td>\n",
       "      <td>112.768052</td>\n",
       "    </tr>\n",
       "    <tr>\n",
       "      <th>C450</th>\n",
       "      <td>C</td>\n",
       "      <td>S450F</td>\n",
       "      <td>450</td>\n",
       "      <td>S</td>\n",
       "      <td>-6</td>\n",
       "      <td>SER</td>\n",
       "      <td>456</td>\n",
       "      <td>8.757060</td>\n",
       "    </tr>\n",
       "    <tr>\n",
       "      <th>C435</th>\n",
       "      <td>C</td>\n",
       "      <td>D435F</td>\n",
       "      <td>435</td>\n",
       "      <td>D</td>\n",
       "      <td>-6</td>\n",
       "      <td>ASP</td>\n",
       "      <td>441</td>\n",
       "      <td>15.857350</td>\n",
       "    </tr>\n",
       "  </tbody>\n",
       "</table>\n",
       "</div>"
      ],
      "text/plain": [
       "     segid mutation  resid resname_1  chain_offsets resname_3  pdb_resid  \\\n",
       "id                                                                         \n",
       "A3       A      I3D      3         I              0       ILE          3   \n",
       "A4       A      S4K      4         S              0       SER          4   \n",
       "A5       A      Q5V      5         Q              0       GLN          5   \n",
       "B6       B      R6D      6         R              0       ARG          6   \n",
       "C450     C    S450F    450         S             -6       SER        456   \n",
       "C435     C    D435F    435         D             -6       ASP        441   \n",
       "\n",
       "            SASA  \n",
       "id                \n",
       "A3     50.869281  \n",
       "A4     61.119937  \n",
       "A5    123.631715  \n",
       "B6    112.768052  \n",
       "C450    8.757060  \n",
       "C435   15.857350  "
      ]
     },
     "execution_count": 181,
     "metadata": {},
     "output_type": "execute_result"
    }
   ],
   "source": [
    "sasa_df = file.add_feature(df)\n",
    "sasa_df"
   ]
  },
  {
   "cell_type": "code",
   "execution_count": null,
   "id": "e7008e70-3f3b-44e8-b9fd-5753bf5d1bde",
   "metadata": {},
   "outputs": [],
   "source": []
  }
 ],
 "metadata": {
  "kernelspec": {
   "display_name": "Python 3",
   "language": "python",
   "name": "python3"
  },
  "language_info": {
   "codemirror_mode": {
    "name": "ipython",
    "version": 3
   },
   "file_extension": ".py",
   "mimetype": "text/x-python",
   "name": "python",
   "nbconvert_exporter": "python",
   "pygments_lexer": "ipython3",
   "version": "3.9.9"
  }
 },
 "nbformat": 4,
 "nbformat_minor": 5
}
