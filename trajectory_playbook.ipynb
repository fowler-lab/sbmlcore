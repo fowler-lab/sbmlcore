{
 "cells": [
  {
   "cell_type": "markdown",
   "metadata": {},
   "source": [
    "# Notebook for testing and playing with TrajectoryDistances "
   ]
  },
  {
   "cell_type": "code",
   "execution_count": 1,
   "metadata": {},
   "outputs": [],
   "source": [
    "import sbmlcore\n",
    "import pandas as pd"
   ]
  },
  {
   "cell_type": "code",
   "execution_count": null,
   "metadata": {},
   "outputs": [],
   "source": [
    "b = {'segid': ['A', 'A', 'A', 'B', 'C', 'C'], 'mutation': ['I3D','S4K', 'Q5V', 'R6D', 'S450F', 'D435F']} #N.B. Mutation must include offset\n",
    "df = pd.DataFrame.from_dict(b)\n",
    "df.columns"
   ]
  },
  {
   "cell_type": "code",
   "execution_count": 2,
   "metadata": {},
   "outputs": [
    {
     "name": "stdout",
     "output_type": "stream",
     "text": [
      "frames: [0, 1, 2, 3, 4, 5]\n",
      "frames: [0, 1, 2]\n"
     ]
    },
    {
     "data": {
      "text/html": [
       "<div>\n",
       "<style scoped>\n",
       "    .dataframe tbody tr th:only-of-type {\n",
       "        vertical-align: middle;\n",
       "    }\n",
       "\n",
       "    .dataframe tbody tr th {\n",
       "        vertical-align: top;\n",
       "    }\n",
       "\n",
       "    .dataframe thead th {\n",
       "        text-align: right;\n",
       "    }\n",
       "</style>\n",
       "<table border=\"1\" class=\"dataframe\">\n",
       "  <thead>\n",
       "    <tr style=\"text-align: right;\">\n",
       "      <th></th>\n",
       "      <th>segid</th>\n",
       "      <th>resid</th>\n",
       "      <th>max RFP</th>\n",
       "      <th>amino_acid</th>\n",
       "    </tr>\n",
       "  </thead>\n",
       "  <tbody>\n",
       "    <tr>\n",
       "      <th>0</th>\n",
       "      <td>A</td>\n",
       "      <td>3</td>\n",
       "      <td>72.000161</td>\n",
       "      <td>I</td>\n",
       "    </tr>\n",
       "    <tr>\n",
       "      <th>1</th>\n",
       "      <td>A</td>\n",
       "      <td>4</td>\n",
       "      <td>71.859083</td>\n",
       "      <td>S</td>\n",
       "    </tr>\n",
       "    <tr>\n",
       "      <th>2</th>\n",
       "      <td>A</td>\n",
       "      <td>5</td>\n",
       "      <td>75.431009</td>\n",
       "      <td>Q</td>\n",
       "    </tr>\n",
       "    <tr>\n",
       "      <th>3</th>\n",
       "      <td>A</td>\n",
       "      <td>6</td>\n",
       "      <td>74.446025</td>\n",
       "      <td>R</td>\n",
       "    </tr>\n",
       "    <tr>\n",
       "      <th>4</th>\n",
       "      <td>A</td>\n",
       "      <td>7</td>\n",
       "      <td>71.537496</td>\n",
       "      <td>P</td>\n",
       "    </tr>\n",
       "    <tr>\n",
       "      <th>...</th>\n",
       "      <td>...</td>\n",
       "      <td>...</td>\n",
       "      <td>...</td>\n",
       "      <td>...</td>\n",
       "    </tr>\n",
       "    <tr>\n",
       "      <th>3238</th>\n",
       "      <td>F</td>\n",
       "      <td>524</td>\n",
       "      <td>54.412016</td>\n",
       "      <td>R</td>\n",
       "    </tr>\n",
       "    <tr>\n",
       "      <th>3239</th>\n",
       "      <td>F</td>\n",
       "      <td>525</td>\n",
       "      <td>50.833875</td>\n",
       "      <td>D</td>\n",
       "    </tr>\n",
       "    <tr>\n",
       "      <th>3240</th>\n",
       "      <td>F</td>\n",
       "      <td>526</td>\n",
       "      <td>50.095013</td>\n",
       "      <td>Y</td>\n",
       "    </tr>\n",
       "    <tr>\n",
       "      <th>3241</th>\n",
       "      <td>F</td>\n",
       "      <td>527</td>\n",
       "      <td>49.678343</td>\n",
       "      <td>L</td>\n",
       "    </tr>\n",
       "    <tr>\n",
       "      <th>3242</th>\n",
       "      <td>F</td>\n",
       "      <td>528</td>\n",
       "      <td>46.477291</td>\n",
       "      <td>D</td>\n",
       "    </tr>\n",
       "  </tbody>\n",
       "</table>\n",
       "<p>3243 rows × 4 columns</p>\n",
       "</div>"
      ],
      "text/plain": [
       "     segid  resid    max RFP amino_acid\n",
       "0        A      3  72.000161          I\n",
       "1        A      4  71.859083          S\n",
       "2        A      5  75.431009          Q\n",
       "3        A      6  74.446025          R\n",
       "4        A      7  71.537496          P\n",
       "...    ...    ...        ...        ...\n",
       "3238     F    524  54.412016          R\n",
       "3239     F    525  50.833875          D\n",
       "3240     F    526  50.095013          Y\n",
       "3241     F    527  49.678343          L\n",
       "3242     F    528  46.477291          D\n",
       "\n",
       "[3243 rows x 4 columns]"
      ]
     },
     "execution_count": 2,
     "metadata": {},
     "output_type": "execute_result"
    }
   ],
   "source": [
    "a = sbmlcore.TrajectoryDistances(\n",
    "        \"./tests/rpob-5uh6-3-warm.gro.gz\",\n",
    "        [\n",
    "            \"./tests/rpob-5uh6-3-md-1-50ns-dt10ns-nojump.xtc\",\n",
    "            \"./tests/rpob-5uh6-3-md-2-50ns-dt10ns-nojump.xtc\",\n",
    "        ],\n",
    "        \"./tests/5uh6.pdb\",\n",
    "        \"resname RFP\",\n",
    "        \"max RFP\",\n",
    "        distance_type=\"max\",\n",
    "        offsets = {'A': 0, 'B': 0, 'C': -6},\n",
    "        percentile_exclusion=True,\n",
    "    )\n",
    "a.return_dist_df()"
   ]
  },
  {
   "cell_type": "code",
   "execution_count": null,
   "metadata": {},
   "outputs": [],
   "source": [
    "df = a.add_feature(df)\n",
    "df"
   ]
  },
  {
   "cell_type": "code",
   "execution_count": null,
   "metadata": {},
   "outputs": [],
   "source": [
    "t = sbmlcore.TrajectoryDistances(\n",
    "        \"./tests/rpob-5uh6-3-warm.gro.gz\",\n",
    "        [\n",
    "            \"./tests/rpob-5uh6-3-md-1-50ns-dt10ns-nojump.xtc\",\n",
    "            \"./tests/rpob-5uh6-3-md-2-50ns-dt10ns-nojump.xtc\",\n",
    "            \"./tests/rpob-5uh6-3-md-3-50ns-dt10ns-nojump.xtc\",\n",
    "        ],\n",
    "        \"./tests/5uh6.pdb\",\n",
    "        \"resname RFP\",\n",
    "        \"mean RFP\",\n",
    "        distance_type=\"mean\",\n",
    "        offsets = {'A': 0, 'B': 0, 'C': -6},\n",
    "        percentile_exclusion=True,\n",
    "    )\n",
    "t.return_dist_df()"
   ]
  },
  {
   "cell_type": "code",
   "execution_count": null,
   "metadata": {},
   "outputs": [],
   "source": [
    "df = t.add_feature(df)\n",
    "df"
   ]
  },
  {
   "cell_type": "code",
   "execution_count": null,
   "metadata": {},
   "outputs": [],
   "source": [
    "df.to_csv('./tests/5uh6_added_traj_distances.csv')"
   ]
  },
  {
   "cell_type": "code",
   "execution_count": null,
   "metadata": {},
   "outputs": [],
   "source": [
    "p = sbmlcore.TrajectoryDistances(\n",
    "        \"./tests/rpob-5uh6-3-warm.gro.gz\",\n",
    "        [\n",
    "            \"./tests/rpob-5uh6-3-md-1-50ns-dt10ns-nojump.xtc\",\n",
    "            \"./tests/rpob-5uh6-3-md-2-50ns-dt10ns-nojump.xtc\",\n",
    "        ],\n",
    "        \"./tests/5uh6.pdb\",\n",
    "        \"resname RFP\",\n",
    "        \"median RFP\",\n",
    "        distance_type=\"median\",\n",
    "        offsets = {'A': 0, 'B': 0, 'C': -6},\n",
    "        percentile_exclusion=True,\n",
    "    )\n",
    "df = p.add_feature(df)\n",
    "df"
   ]
  },
  {
   "cell_type": "code",
   "execution_count": null,
   "metadata": {},
   "outputs": [],
   "source": [
    "p = sbmlcore.TrajectoryDistances(\n",
    "        \"./tests/rpob-5uh6-3-warm.gro.gz\",\n",
    "        [\n",
    "            \"./tests/rpob-5uh6-3-md-1-50ns-dt10ns-nojump.xtc\",\n",
    "            \"./tests/rpob-5uh6-3-md-2-50ns-dt10ns-nojump.xtc\",\n",
    "        ],\n",
    "        \"./tests/5uh6.pdb\",\n",
    "        \"resname RFP\",\n",
    "        \"min RFP\",\n",
    "        distance_type=\"min\",\n",
    "        offsets = {'A': 0, 'B': 0, 'C': -6},\n",
    "        percentile_exclusion=True,\n",
    "    )\n",
    "df = p.add_feature(df)\n",
    "df\n"
   ]
  },
  {
   "cell_type": "code",
   "execution_count": null,
   "metadata": {},
   "outputs": [],
   "source": [
    "df.to_csv('./tests/5uh6_added_traj_distances.csv')"
   ]
  },
  {
   "cell_type": "code",
   "execution_count": null,
   "metadata": {},
   "outputs": [],
   "source": [
    "import sbmlcore"
   ]
  },
  {
   "cell_type": "code",
   "execution_count": null,
   "metadata": {},
   "outputs": [],
   "source": []
  },
  {
   "cell_type": "code",
   "execution_count": null,
   "metadata": {},
   "outputs": [],
   "source": []
  },
  {
   "cell_type": "code",
   "execution_count": null,
   "metadata": {},
   "outputs": [],
   "source": [
    "a = sbmlcore.TrajectoryDihedrals(\n",
    "        \"./tests/rpob-5uh6-3-warm.gro.gz\",\n",
    "        [\n",
    "            \"./tests/rpob-5uh6-3-md-1-50ns-dt10ns-nojump.xtc\",\n",
    "        ],\n",
    "        \"./tests/5uh6.pdb\",\n",
    "        \"phi\",\n",
    "        \"phi\",\n",
    "        angle_type=\"mean\",\n",
    "\n",
    ")\n",
    "a"
   ]
  },
  {
   "cell_type": "code",
   "execution_count": null,
   "metadata": {},
   "outputs": [],
   "source": [
    "a = sbmlcore.TrajectoryDihedrals(\n",
    "        \"./tests/rpob-5uh6-3-warm.gro.gz\",\n",
    "        [\n",
    "            \"./tests/rpob-5uh6-3-md-1-50ns-dt10ns-nojump.xtc\",\n",
    "        ],\n",
    "        \"./tests/5uh6.pdb\",\n",
    "        \"phi\",\n",
    "        \"phi\",\n",
    "        angle_type=\"max\",\n",
    "\n",
    ")\n",
    "a"
   ]
  },
  {
   "cell_type": "code",
   "execution_count": null,
   "metadata": {},
   "outputs": [],
   "source": [
    "a = sbmlcore.TrajectoryDihedrals(\n",
    "        \"./tests/rpob-5uh6-3-warm.gro.gz\",\n",
    "        [\n",
    "            \"./tests/rpob-5uh6-3-md-1-50ns-dt10ns-nojump.xtc\",\n",
    "        ],\n",
    "        \"./tests/5uh6.pdb\",\n",
    "        \"omega\",\n",
    "        \"omega\",\n",
    "        angle_type=\"mean\",\n",
    "\n",
    ")\n",
    "a.return_angle_df()"
   ]
  },
  {
   "cell_type": "code",
   "execution_count": 15,
   "metadata": {},
   "outputs": [],
   "source": [
    "import sbmlcore\n",
    "import numpy as np\n",
    "from numpy import testing as npt"
   ]
  },
  {
   "cell_type": "code",
   "execution_count": 10,
   "metadata": {},
   "outputs": [
    {
     "name": "stdout",
     "output_type": "stream",
     "text": [
      "1.7000000000000002 14.299999999999999\n"
     ]
    }
   ],
   "source": [
    "input = np.array([[1, 2, 3, 4, 5, 6, 7, 8, 9, 10, 11, 12, 13, 14, 15]])\n",
    "expected_output = np.array([[2, 3, 4, 5, 6, 7, 8, 9, 10, 11, 12, 13, 14]])\n",
    "output = sbmlcore.TrajectoryDistances._exclude_percentiles(input)"
   ]
  },
  {
   "cell_type": "code",
   "execution_count": 11,
   "metadata": {},
   "outputs": [],
   "source": [
    "npt.assert_array_equal(expected_output, output, verbose=True)"
   ]
  },
  {
   "cell_type": "code",
   "execution_count": 13,
   "metadata": {},
   "outputs": [],
   "source": [
    "input = np.array([[0, 0, 0, 0, 0, 0, 0, 0, 0, 0]])\n",
    "expected_output = np.array([[0, 0, 0, 0, 0, 0, 0, 0]])\n",
    "output = sbmlcore.TrajectoryDihedrals._exclude_percentiles(input)\n",
    "npt.assert_array_equal(expected_output, output, verbose=True)"
   ]
  },
  {
   "cell_type": "code",
   "execution_count": null,
   "metadata": {},
   "outputs": [],
   "source": [
    "a = sbmlcore.TrajectoryDihedrals(\n",
    "        \"./tests/rpob-5uh6-3-warm.gro.gz\",\n",
    "        [\n",
    "            \"./tests/rpob-5uh6-3-md-1-50ns-dt10ns-nojump.xtc\",\n",
    "        ],\n",
    "        \"./tests/5uh6.pdb\",\n",
    "        \"omega\",\n",
    "        \"omega\",\n",
    "        angle_type=\"max\",\n",
    "        add_bonds=True,\n",
    "        offsets = {'A': 0, 'B': 0, 'C': -6},\n",
    "        percentile_exclusion=True\n",
    ")\n",
    "a.return_angle_df()"
   ]
  },
  {
   "cell_type": "code",
   "execution_count": 2,
   "metadata": {},
   "outputs": [
    {
     "data": {
      "text/plain": [
       "Index(['segid', 'mutation'], dtype='object')"
      ]
     },
     "execution_count": 2,
     "metadata": {},
     "output_type": "execute_result"
    }
   ],
   "source": [
    "import pandas as pd\n",
    "b = {'segid': ['A', 'A', 'A', 'B', 'C', 'C'], 'mutation': ['I3D','S4K', 'Q5V', 'R6D', 'S450F', 'D435F']} #N.B. Mutation must include offset\n",
    "df = pd.DataFrame.from_dict(b)\n",
    "df.columns"
   ]
  },
  {
   "cell_type": "code",
   "execution_count": null,
   "metadata": {},
   "outputs": [],
   "source": [
    "df = a.add_feature(df)"
   ]
  },
  {
   "cell_type": "code",
   "execution_count": null,
   "metadata": {},
   "outputs": [],
   "source": [
    "df"
   ]
  },
  {
   "cell_type": "code",
   "execution_count": null,
   "metadata": {},
   "outputs": [],
   "source": [
    "\n",
    "a = sbmlcore.TrajectoryDihedrals(\n",
    "        \"./tests/rpob-5uh6-3-warm.gro.gz\",\n",
    "        [\n",
    "            \"./tests/rpob-5uh6-3-md-1-50ns-dt10ns-nojump.xtc\",\n",
    "        ],\n",
    "        \"./tests/5uh6.pdb\",\n",
    "        \"phi\",\n",
    "        \"mean_phi\",\n",
    "        angle_type=\"mean\",\n",
    "        add_bonds=True,\n",
    "        offsets = {'A': 0, 'B': 0, 'C': -6},\n",
    "        percentile_exclusion=True\n",
    ")\n",
    "a.return_angle_df()"
   ]
  },
  {
   "cell_type": "code",
   "execution_count": 3,
   "metadata": {},
   "outputs": [
    {
     "data": {
      "text/html": [
       "<div>\n",
       "<style scoped>\n",
       "    .dataframe tbody tr th:only-of-type {\n",
       "        vertical-align: middle;\n",
       "    }\n",
       "\n",
       "    .dataframe tbody tr th {\n",
       "        vertical-align: top;\n",
       "    }\n",
       "\n",
       "    .dataframe thead th {\n",
       "        text-align: right;\n",
       "    }\n",
       "</style>\n",
       "<table border=\"1\" class=\"dataframe\">\n",
       "  <thead>\n",
       "    <tr style=\"text-align: right;\">\n",
       "      <th></th>\n",
       "      <th>segid</th>\n",
       "      <th>resid</th>\n",
       "      <th>mean_psi</th>\n",
       "      <th>amino_acid</th>\n",
       "    </tr>\n",
       "  </thead>\n",
       "  <tbody>\n",
       "    <tr>\n",
       "      <th>0</th>\n",
       "      <td>A</td>\n",
       "      <td>3</td>\n",
       "      <td>129.122716</td>\n",
       "      <td>I</td>\n",
       "    </tr>\n",
       "    <tr>\n",
       "      <th>1</th>\n",
       "      <td>A</td>\n",
       "      <td>4</td>\n",
       "      <td>142.420616</td>\n",
       "      <td>S</td>\n",
       "    </tr>\n",
       "    <tr>\n",
       "      <th>2</th>\n",
       "      <td>A</td>\n",
       "      <td>5</td>\n",
       "      <td>6.811578</td>\n",
       "      <td>Q</td>\n",
       "    </tr>\n",
       "    <tr>\n",
       "      <th>3</th>\n",
       "      <td>A</td>\n",
       "      <td>6</td>\n",
       "      <td>151.231070</td>\n",
       "      <td>R</td>\n",
       "    </tr>\n",
       "    <tr>\n",
       "      <th>4</th>\n",
       "      <td>A</td>\n",
       "      <td>7</td>\n",
       "      <td>154.188473</td>\n",
       "      <td>P</td>\n",
       "    </tr>\n",
       "    <tr>\n",
       "      <th>...</th>\n",
       "      <td>...</td>\n",
       "      <td>...</td>\n",
       "      <td>...</td>\n",
       "      <td>...</td>\n",
       "    </tr>\n",
       "    <tr>\n",
       "      <th>3238</th>\n",
       "      <td>F</td>\n",
       "      <td>524</td>\n",
       "      <td>-29.667966</td>\n",
       "      <td>R</td>\n",
       "    </tr>\n",
       "    <tr>\n",
       "      <th>3239</th>\n",
       "      <td>F</td>\n",
       "      <td>525</td>\n",
       "      <td>-12.762533</td>\n",
       "      <td>D</td>\n",
       "    </tr>\n",
       "    <tr>\n",
       "      <th>3240</th>\n",
       "      <td>F</td>\n",
       "      <td>526</td>\n",
       "      <td>-11.782550</td>\n",
       "      <td>Y</td>\n",
       "    </tr>\n",
       "    <tr>\n",
       "      <th>3241</th>\n",
       "      <td>F</td>\n",
       "      <td>527</td>\n",
       "      <td>44.139849</td>\n",
       "      <td>L</td>\n",
       "    </tr>\n",
       "    <tr>\n",
       "      <th>3242</th>\n",
       "      <td>F</td>\n",
       "      <td>528</td>\n",
       "      <td>-17.936739</td>\n",
       "      <td>D</td>\n",
       "    </tr>\n",
       "  </tbody>\n",
       "</table>\n",
       "<p>3243 rows × 4 columns</p>\n",
       "</div>"
      ],
      "text/plain": [
       "     segid  resid    mean_psi amino_acid\n",
       "0        A      3  129.122716          I\n",
       "1        A      4  142.420616          S\n",
       "2        A      5    6.811578          Q\n",
       "3        A      6  151.231070          R\n",
       "4        A      7  154.188473          P\n",
       "...    ...    ...         ...        ...\n",
       "3238     F    524  -29.667966          R\n",
       "3239     F    525  -12.762533          D\n",
       "3240     F    526  -11.782550          Y\n",
       "3241     F    527   44.139849          L\n",
       "3242     F    528  -17.936739          D\n",
       "\n",
       "[3243 rows x 4 columns]"
      ]
     },
     "execution_count": 3,
     "metadata": {},
     "output_type": "execute_result"
    }
   ],
   "source": [
    "a = sbmlcore.TrajectoryDihedrals(\n",
    "        \"./tests/rpob-5uh6-3-warm.gro.gz\",\n",
    "        [\n",
    "            \"./tests/rpob-5uh6-3-md-1-50ns-dt10ns-nojump.xtc\",\n",
    "            \"./tests/rpob-5uh6-3-md-2-50ns-dt10ns-nojump.xtc\",\n",
    "            \"./tests/rpob-5uh6-3-md-3-50ns-dt10ns-nojump.xtc\",\n",
    "        ],\n",
    "        \"./tests/5uh6.pdb\",\n",
    "        \"psi\",\n",
    "        \"mean_psi\",\n",
    "        angle_type=\"mean\",\n",
    "        add_bonds=True,\n",
    "        offsets = {'A': 0, 'B': 0, 'C': -6},\n",
    "        percentile_exclusion=True\n",
    ")\n",
    "a.return_angle_df()"
   ]
  },
  {
   "cell_type": "code",
   "execution_count": 4,
   "metadata": {},
   "outputs": [],
   "source": [
    "df = a.add_feature(df)"
   ]
  },
  {
   "cell_type": "code",
   "execution_count": 5,
   "metadata": {},
   "outputs": [
    {
     "data": {
      "text/html": [
       "<div>\n",
       "<style scoped>\n",
       "    .dataframe tbody tr th:only-of-type {\n",
       "        vertical-align: middle;\n",
       "    }\n",
       "\n",
       "    .dataframe tbody tr th {\n",
       "        vertical-align: top;\n",
       "    }\n",
       "\n",
       "    .dataframe thead th {\n",
       "        text-align: right;\n",
       "    }\n",
       "</style>\n",
       "<table border=\"1\" class=\"dataframe\">\n",
       "  <thead>\n",
       "    <tr style=\"text-align: right;\">\n",
       "      <th></th>\n",
       "      <th>segid</th>\n",
       "      <th>resid</th>\n",
       "      <th>mutation</th>\n",
       "      <th>mean_psi</th>\n",
       "    </tr>\n",
       "  </thead>\n",
       "  <tbody>\n",
       "    <tr>\n",
       "      <th>0</th>\n",
       "      <td>A</td>\n",
       "      <td>3</td>\n",
       "      <td>I3D</td>\n",
       "      <td>129.122716</td>\n",
       "    </tr>\n",
       "    <tr>\n",
       "      <th>1</th>\n",
       "      <td>A</td>\n",
       "      <td>4</td>\n",
       "      <td>S4K</td>\n",
       "      <td>142.420616</td>\n",
       "    </tr>\n",
       "    <tr>\n",
       "      <th>2</th>\n",
       "      <td>A</td>\n",
       "      <td>5</td>\n",
       "      <td>Q5V</td>\n",
       "      <td>6.811578</td>\n",
       "    </tr>\n",
       "    <tr>\n",
       "      <th>3</th>\n",
       "      <td>B</td>\n",
       "      <td>6</td>\n",
       "      <td>R6D</td>\n",
       "      <td>128.101059</td>\n",
       "    </tr>\n",
       "    <tr>\n",
       "      <th>4</th>\n",
       "      <td>C</td>\n",
       "      <td>450</td>\n",
       "      <td>S450F</td>\n",
       "      <td>153.389332</td>\n",
       "    </tr>\n",
       "    <tr>\n",
       "      <th>5</th>\n",
       "      <td>C</td>\n",
       "      <td>435</td>\n",
       "      <td>D435F</td>\n",
       "      <td>115.020766</td>\n",
       "    </tr>\n",
       "  </tbody>\n",
       "</table>\n",
       "</div>"
      ],
      "text/plain": [
       "  segid  resid mutation    mean_psi\n",
       "0     A      3      I3D  129.122716\n",
       "1     A      4      S4K  142.420616\n",
       "2     A      5      Q5V    6.811578\n",
       "3     B      6      R6D  128.101059\n",
       "4     C    450    S450F  153.389332\n",
       "5     C    435    D435F  115.020766"
      ]
     },
     "execution_count": 5,
     "metadata": {},
     "output_type": "execute_result"
    }
   ],
   "source": [
    "df"
   ]
  },
  {
   "cell_type": "code",
   "execution_count": 17,
   "metadata": {},
   "outputs": [],
   "source": [
    "import MDAnalysis"
   ]
  },
  {
   "cell_type": "code",
   "execution_count": 19,
   "metadata": {},
   "outputs": [],
   "source": [
    "u = MDAnalysis.Universe('tests/rpob-5uh6-3-warm.gro.gz','tests/rpob-5uh6-3-md-1-50ns-dt10ns-nojump.xtc')"
   ]
  },
  {
   "cell_type": "code",
   "execution_count": 20,
   "metadata": {},
   "outputs": [],
   "source": [
    "coordinates = (MDAnalysis.analysis.base.AnalysisFromFunction(\n",
    "            lambda ag: ag.positions.copy(), u.atoms\n",
    "        )\n",
    "        .run()\n",
    "        .results\n",
    "     )"
   ]
  },
  {
   "cell_type": "code",
   "execution_count": 21,
   "metadata": {},
   "outputs": [
    {
     "data": {
      "text/plain": [
       "{'timeseries': array([[[ 32.16      ,  69.990005  ,  72.14      ],\n",
       "        [ 31.710003  ,  69.200005  ,  71.71001   ],\n",
       "        [ 33.14      ,  70.060005  ,  71.920006  ],\n",
       "        ...,\n",
       "        [196.74002   ,  94.630005  ,  21.43      ],\n",
       "        [197.20001   , 127.030014  ,  87.40001   ],\n",
       "        [198.07      , 144.73001   ,  95.48      ]],\n",
       "\n",
       "       [[ 35.820004  ,  71.69      ,  69.770004  ],\n",
       "        [ 34.95      ,  71.18001   ,  69.79001   ],\n",
       "        [ 36.63      ,  71.19      ,  69.41      ],\n",
       "        ...,\n",
       "        [193.52002   ,  60.990005  ,  70.66      ],\n",
       "        [ 48.83      ,  31.43      ,  60.010002  ],\n",
       "        [ 30.400002  , 100.17      , 117.600006  ]],\n",
       "\n",
       "       [[ 37.510002  ,  72.200005  ,  78.9       ],\n",
       "        [ 38.07      ,  72.04001   ,  78.07      ],\n",
       "        [ 38.030003  ,  72.840004  ,  79.490005  ],\n",
       "        ...,\n",
       "        [154.53001   ,  73.22      ,   8.37      ],\n",
       "        [  8.31      ,  70.9       ,   0.52      ],\n",
       "        [108.12      , 117.44      ,   3.5800002 ]],\n",
       "\n",
       "       [[ 35.980003  ,  72.36001   ,  72.22      ],\n",
       "        [ 36.640003  ,  71.98      ,  71.57001   ],\n",
       "        [ 36.63      ,  72.67      ,  72.93      ],\n",
       "        ...,\n",
       "        [179.87001   , 108.83      ,  86.990005  ],\n",
       "        [ 10.35      , 135.8       ,  21.310001  ],\n",
       "        [ 34.82      ,   9.9800005 ,  98.41      ]],\n",
       "\n",
       "       [[ 34.780003  ,  67.54      ,  75.4       ],\n",
       "        [ 34.02      ,  66.880005  ,  75.31      ],\n",
       "        [ 35.56      ,  67.07      ,  74.96001   ],\n",
       "        ...,\n",
       "        [162.87001   ,  76.11001   ,  30.370003  ],\n",
       "        [ 64.41      ,  17.84      ,   0.45000002],\n",
       "        [ 46.070004  , 123.09001   ,  30.150002  ]],\n",
       "\n",
       "       [[ 36.600002  ,  69.04      ,  71.270004  ],\n",
       "        [ 37.22      ,  68.3       ,  70.990005  ],\n",
       "        [ 36.68      ,  68.850006  ,  72.26      ],\n",
       "        ...,\n",
       "        [194.97002   ,  69.3       ,  12.66      ],\n",
       "        [163.84001   ,  77.47      ,  75.520004  ],\n",
       "        [ 85.03      ,  90.82001   ,  98.01001   ]]], dtype=float32), 'frames': array([0, 1, 2, 3, 4, 5]), 'times': array([    0., 10000., 20000., 30000., 40000., 50000.])}"
      ]
     },
     "execution_count": 21,
     "metadata": {},
     "output_type": "execute_result"
    }
   ],
   "source": [
    "coordinates"
   ]
  },
  {
   "cell_type": "code",
   "execution_count": 22,
   "metadata": {},
   "outputs": [],
   "source": [
    "dt = u.trajectory[1].time - u.trajectory[0].time\n",
    "\n",
    "uz = sbmlcore.TrajectoryDihedrals._filter_frames(\n",
    "    'tests/rpob-5uh6-3-warm.gro.gz',\n",
    "    u,\n",
    "    'start',\n",
    "    20000,\n",
    "    dt\n",
    ")"
   ]
  },
  {
   "cell_type": "code",
   "execution_count": 23,
   "metadata": {},
   "outputs": [
    {
     "data": {
      "text/plain": [
       "<Universe with 396776 atoms>"
      ]
     },
     "execution_count": 23,
     "metadata": {},
     "output_type": "execute_result"
    }
   ],
   "source": [
    "uz"
   ]
  },
  {
   "cell_type": "code",
   "execution_count": 24,
   "metadata": {},
   "outputs": [],
   "source": [
    "coordinates = (MDAnalysis.analysis.base.AnalysisFromFunction(\n",
    "            lambda ag: ag.positions.copy(), uz.atoms\n",
    "        )\n",
    "        .run()\n",
    "        .results\n",
    "     )"
   ]
  },
  {
   "cell_type": "code",
   "execution_count": 56,
   "metadata": {},
   "outputs": [],
   "source": [
    "df = pandas.DataFrame.from_dict(coordinates.timeseries[0])"
   ]
  },
  {
   "cell_type": "code",
   "execution_count": 59,
   "metadata": {},
   "outputs": [],
   "source": [
    "df.to_csv('tests/test_start_coordinates_frame0.csv')"
   ]
  },
  {
   "cell_type": "code",
   "execution_count": 26,
   "metadata": {},
   "outputs": [],
   "source": [
    "dt = u.trajectory[1].time - u.trajectory[0].time\n",
    "\n",
    "uy = sbmlcore.TrajectoryDihedrals._filter_frames(\n",
    "    'tests/rpob-5uh6-3-warm.gro.gz',\n",
    "    u,\n",
    "    'end',\n",
    "    30000,\n",
    "    dt\n",
    ")"
   ]
  },
  {
   "cell_type": "code",
   "execution_count": 27,
   "metadata": {},
   "outputs": [],
   "source": [
    "coordinates = (MDAnalysis.analysis.base.AnalysisFromFunction(\n",
    "            lambda ag: ag.positions.copy(), uy.atoms\n",
    "        )\n",
    "        .run()\n",
    "        .results\n",
    "     )"
   ]
  },
  {
   "cell_type": "code",
   "execution_count": 28,
   "metadata": {},
   "outputs": [
    {
     "data": {
      "text/plain": [
       "{'timeseries': array([[[ 32.16     ,  69.990005 ,  72.14     ],\n",
       "        [ 31.710003 ,  69.200005 ,  71.71001  ],\n",
       "        [ 33.14     ,  70.060005 ,  71.920006 ],\n",
       "        ...,\n",
       "        [196.74002  ,  94.630005 ,  21.43     ],\n",
       "        [197.20001  , 127.030014 ,  87.40001  ],\n",
       "        [198.07     , 144.73001  ,  95.48     ]],\n",
       "\n",
       "       [[ 35.820004 ,  71.69     ,  69.770004 ],\n",
       "        [ 34.95     ,  71.18001  ,  69.79001  ],\n",
       "        [ 36.63     ,  71.19     ,  69.41     ],\n",
       "        ...,\n",
       "        [193.52002  ,  60.990005 ,  70.66     ],\n",
       "        [ 48.83     ,  31.43     ,  60.010002 ],\n",
       "        [ 30.400002 , 100.17     , 117.600006 ]],\n",
       "\n",
       "       [[ 37.510002 ,  72.200005 ,  78.9      ],\n",
       "        [ 38.07     ,  72.04001  ,  78.07     ],\n",
       "        [ 38.030003 ,  72.840004 ,  79.490005 ],\n",
       "        ...,\n",
       "        [154.53001  ,  73.22     ,   8.37     ],\n",
       "        [  8.31     ,  70.9      ,   0.52     ],\n",
       "        [108.12     , 117.44     ,   3.5800002]]], dtype=float32), 'frames': array([0, 1, 2]), 'times': array([    0., 10000., 20000.])}"
      ]
     },
     "execution_count": 28,
     "metadata": {},
     "output_type": "execute_result"
    }
   ],
   "source": [
    "coordinates.to_csv()"
   ]
  },
  {
   "cell_type": "code",
   "execution_count": 45,
   "metadata": {},
   "outputs": [],
   "source": [
    "import pandas\n",
    "df = pandas.DataFrame.from_dict(coordinates.timeseries[2])"
   ]
  },
  {
   "cell_type": "code",
   "execution_count": 60,
   "metadata": {},
   "outputs": [
    {
     "data": {
      "text/plain": [
       "3"
      ]
     },
     "execution_count": 60,
     "metadata": {},
     "output_type": "execute_result"
    }
   ],
   "source": [
    "len(coordinates.timeseries)"
   ]
  },
  {
   "cell_type": "code",
   "execution_count": 47,
   "metadata": {},
   "outputs": [
    {
     "data": {
      "text/plain": [
       "(3, 396776, 3)"
      ]
     },
     "execution_count": 47,
     "metadata": {},
     "output_type": "execute_result"
    }
   ],
   "source": [
    "coordinates.timeseries.shape"
   ]
  },
  {
   "cell_type": "code",
   "execution_count": 64,
   "metadata": {},
   "outputs": [],
   "source": [
    "df = pandas.read_csv('tests/test_start_coordinates_frame0.csv', index_col=0)"
   ]
  },
  {
   "cell_type": "code",
   "execution_count": 65,
   "metadata": {},
   "outputs": [
    {
     "data": {
      "text/html": [
       "<div>\n",
       "<style scoped>\n",
       "    .dataframe tbody tr th:only-of-type {\n",
       "        vertical-align: middle;\n",
       "    }\n",
       "\n",
       "    .dataframe tbody tr th {\n",
       "        vertical-align: top;\n",
       "    }\n",
       "\n",
       "    .dataframe thead th {\n",
       "        text-align: right;\n",
       "    }\n",
       "</style>\n",
       "<table border=\"1\" class=\"dataframe\">\n",
       "  <thead>\n",
       "    <tr style=\"text-align: right;\">\n",
       "      <th></th>\n",
       "      <th>0</th>\n",
       "      <th>1</th>\n",
       "      <th>2</th>\n",
       "    </tr>\n",
       "  </thead>\n",
       "  <tbody>\n",
       "    <tr>\n",
       "      <th>0</th>\n",
       "      <td>32.160000</td>\n",
       "      <td>69.990005</td>\n",
       "      <td>72.140000</td>\n",
       "    </tr>\n",
       "    <tr>\n",
       "      <th>1</th>\n",
       "      <td>31.710003</td>\n",
       "      <td>69.200005</td>\n",
       "      <td>71.710010</td>\n",
       "    </tr>\n",
       "    <tr>\n",
       "      <th>2</th>\n",
       "      <td>33.140000</td>\n",
       "      <td>70.060005</td>\n",
       "      <td>71.920006</td>\n",
       "    </tr>\n",
       "    <tr>\n",
       "      <th>3</th>\n",
       "      <td>32.070004</td>\n",
       "      <td>69.860010</td>\n",
       "      <td>73.140000</td>\n",
       "    </tr>\n",
       "    <tr>\n",
       "      <th>4</th>\n",
       "      <td>31.510002</td>\n",
       "      <td>71.170000</td>\n",
       "      <td>71.530010</td>\n",
       "    </tr>\n",
       "    <tr>\n",
       "      <th>...</th>\n",
       "      <td>...</td>\n",
       "      <td>...</td>\n",
       "      <td>...</td>\n",
       "    </tr>\n",
       "    <tr>\n",
       "      <th>396771</th>\n",
       "      <td>1.280000</td>\n",
       "      <td>77.370000</td>\n",
       "      <td>22.740002</td>\n",
       "    </tr>\n",
       "    <tr>\n",
       "      <th>396772</th>\n",
       "      <td>196.990020</td>\n",
       "      <td>99.630005</td>\n",
       "      <td>119.000010</td>\n",
       "    </tr>\n",
       "    <tr>\n",
       "      <th>396773</th>\n",
       "      <td>196.740020</td>\n",
       "      <td>94.630005</td>\n",
       "      <td>21.430000</td>\n",
       "    </tr>\n",
       "    <tr>\n",
       "      <th>396774</th>\n",
       "      <td>197.200010</td>\n",
       "      <td>127.030014</td>\n",
       "      <td>87.400010</td>\n",
       "    </tr>\n",
       "    <tr>\n",
       "      <th>396775</th>\n",
       "      <td>198.070000</td>\n",
       "      <td>144.730010</td>\n",
       "      <td>95.480000</td>\n",
       "    </tr>\n",
       "  </tbody>\n",
       "</table>\n",
       "<p>396776 rows × 3 columns</p>\n",
       "</div>"
      ],
      "text/plain": [
       "                 0           1           2\n",
       "0        32.160000   69.990005   72.140000\n",
       "1        31.710003   69.200005   71.710010\n",
       "2        33.140000   70.060005   71.920006\n",
       "3        32.070004   69.860010   73.140000\n",
       "4        31.510002   71.170000   71.530010\n",
       "...            ...         ...         ...\n",
       "396771    1.280000   77.370000   22.740002\n",
       "396772  196.990020   99.630005  119.000010\n",
       "396773  196.740020   94.630005   21.430000\n",
       "396774  197.200010  127.030014   87.400010\n",
       "396775  198.070000  144.730010   95.480000\n",
       "\n",
       "[396776 rows x 3 columns]"
      ]
     },
     "execution_count": 65,
     "metadata": {},
     "output_type": "execute_result"
    }
   ],
   "source": [
    "df"
   ]
  },
  {
   "cell_type": "code",
   "execution_count": 76,
   "metadata": {},
   "outputs": [],
   "source": [
    "u = MDAnalysis.Universe('tests/rpob-5uh6-3-warm.gro.gz','tests/rpob-5uh6-3-md-1-50ns-dt10ns-nojump.xtc')\n",
    "a = sbmlcore.TrajectoryDihedrals(\n",
    "        \"tests/rpob-5uh6-3-warm.gro.gz\",\n",
    "        [\"tests/rpob-5uh6-3-md-1-50ns-dt10ns-nojump.xtc\"],\n",
    "        \"tests/5uh6.pdb\",\n",
    "        \"phi\",\n",
    "        \"phi\",\n",
    ")"
   ]
  },
  {
   "cell_type": "code",
   "execution_count": 78,
   "metadata": {},
   "outputs": [],
   "source": [
    "protein_res = u.select_atoms(\"protein\")\n",
    "output = a.calculate_dihedrals(u, protein_res)"
   ]
  },
  {
   "cell_type": "code",
   "execution_count": 80,
   "metadata": {},
   "outputs": [
    {
     "data": {
      "text/plain": [
       "array([[   0.        , -151.23822323,  -64.51229901, ...,  -83.22788545,\n",
       "        -102.55454468, -121.76174434],\n",
       "       [   0.        ,  -60.71776329, -128.50734723, ...,  -57.01884257,\n",
       "        -111.1412427 , -141.48849942],\n",
       "       [   0.        , -107.18091898, -102.75659101, ...,  -81.8968086 ,\n",
       "        -111.49977121, -122.74544862],\n",
       "       [   0.        , -101.54740077,  -91.38323483, ...,  -74.09517636,\n",
       "         -98.94747099, -153.5874848 ],\n",
       "       [   0.        ,  -97.29903725,  -83.37468626, ...,  -76.95795224,\n",
       "         -88.824621  ,  -76.05911572],\n",
       "       [   0.        ,  -85.70734004,  -87.73925586, ...,  -67.58047774,\n",
       "         -94.25880243, -109.75704746]])"
      ]
     },
     "execution_count": 80,
     "metadata": {},
     "output_type": "execute_result"
    }
   ],
   "source": [
    "output"
   ]
  },
  {
   "cell_type": "code",
   "execution_count": 82,
   "metadata": {},
   "outputs": [],
   "source": [
    "df = pandas.DataFrame(output)"
   ]
  },
  {
   "cell_type": "code",
   "execution_count": 83,
   "metadata": {},
   "outputs": [
    {
     "data": {
      "text/html": [
       "<div>\n",
       "<style scoped>\n",
       "    .dataframe tbody tr th:only-of-type {\n",
       "        vertical-align: middle;\n",
       "    }\n",
       "\n",
       "    .dataframe tbody tr th {\n",
       "        vertical-align: top;\n",
       "    }\n",
       "\n",
       "    .dataframe thead th {\n",
       "        text-align: right;\n",
       "    }\n",
       "</style>\n",
       "<table border=\"1\" class=\"dataframe\">\n",
       "  <thead>\n",
       "    <tr style=\"text-align: right;\">\n",
       "      <th></th>\n",
       "      <th>0</th>\n",
       "      <th>1</th>\n",
       "      <th>2</th>\n",
       "      <th>3</th>\n",
       "      <th>4</th>\n",
       "      <th>5</th>\n",
       "      <th>6</th>\n",
       "      <th>7</th>\n",
       "      <th>8</th>\n",
       "      <th>9</th>\n",
       "      <th>...</th>\n",
       "      <th>3233</th>\n",
       "      <th>3234</th>\n",
       "      <th>3235</th>\n",
       "      <th>3236</th>\n",
       "      <th>3237</th>\n",
       "      <th>3238</th>\n",
       "      <th>3239</th>\n",
       "      <th>3240</th>\n",
       "      <th>3241</th>\n",
       "      <th>3242</th>\n",
       "    </tr>\n",
       "  </thead>\n",
       "  <tbody>\n",
       "    <tr>\n",
       "      <th>0</th>\n",
       "      <td>0.0</td>\n",
       "      <td>-151.238223</td>\n",
       "      <td>-64.512299</td>\n",
       "      <td>-113.577704</td>\n",
       "      <td>-70.107189</td>\n",
       "      <td>-77.659282</td>\n",
       "      <td>-146.372610</td>\n",
       "      <td>-143.859592</td>\n",
       "      <td>-143.227885</td>\n",
       "      <td>-118.818611</td>\n",
       "      <td>...</td>\n",
       "      <td>-116.645882</td>\n",
       "      <td>-69.393580</td>\n",
       "      <td>70.082909</td>\n",
       "      <td>-140.817268</td>\n",
       "      <td>-84.547267</td>\n",
       "      <td>-76.528578</td>\n",
       "      <td>-66.722240</td>\n",
       "      <td>-83.227885</td>\n",
       "      <td>-102.554545</td>\n",
       "      <td>-121.761744</td>\n",
       "    </tr>\n",
       "    <tr>\n",
       "      <th>1</th>\n",
       "      <td>0.0</td>\n",
       "      <td>-60.717763</td>\n",
       "      <td>-128.507347</td>\n",
       "      <td>-71.359612</td>\n",
       "      <td>-68.910213</td>\n",
       "      <td>-84.816975</td>\n",
       "      <td>-131.863610</td>\n",
       "      <td>-133.793014</td>\n",
       "      <td>-131.493058</td>\n",
       "      <td>-151.835309</td>\n",
       "      <td>...</td>\n",
       "      <td>-45.364262</td>\n",
       "      <td>-97.703757</td>\n",
       "      <td>56.148632</td>\n",
       "      <td>-60.750352</td>\n",
       "      <td>-94.093880</td>\n",
       "      <td>-64.561886</td>\n",
       "      <td>-59.504043</td>\n",
       "      <td>-57.018843</td>\n",
       "      <td>-111.141243</td>\n",
       "      <td>-141.488499</td>\n",
       "    </tr>\n",
       "    <tr>\n",
       "      <th>2</th>\n",
       "      <td>0.0</td>\n",
       "      <td>-107.180919</td>\n",
       "      <td>-102.756591</td>\n",
       "      <td>-132.797246</td>\n",
       "      <td>-84.276058</td>\n",
       "      <td>-66.769939</td>\n",
       "      <td>-121.665850</td>\n",
       "      <td>-148.144450</td>\n",
       "      <td>-144.920262</td>\n",
       "      <td>-127.339602</td>\n",
       "      <td>...</td>\n",
       "      <td>-39.890445</td>\n",
       "      <td>-68.072864</td>\n",
       "      <td>63.707289</td>\n",
       "      <td>-56.664100</td>\n",
       "      <td>-57.934465</td>\n",
       "      <td>-85.791179</td>\n",
       "      <td>-68.369913</td>\n",
       "      <td>-81.896809</td>\n",
       "      <td>-111.499771</td>\n",
       "      <td>-122.745449</td>\n",
       "    </tr>\n",
       "    <tr>\n",
       "      <th>3</th>\n",
       "      <td>0.0</td>\n",
       "      <td>-101.547401</td>\n",
       "      <td>-91.383235</td>\n",
       "      <td>-118.700847</td>\n",
       "      <td>-87.884712</td>\n",
       "      <td>-80.745510</td>\n",
       "      <td>-141.418410</td>\n",
       "      <td>-144.279987</td>\n",
       "      <td>-116.035732</td>\n",
       "      <td>-136.165801</td>\n",
       "      <td>...</td>\n",
       "      <td>-58.158551</td>\n",
       "      <td>-76.333741</td>\n",
       "      <td>57.152147</td>\n",
       "      <td>-58.436172</td>\n",
       "      <td>-80.638356</td>\n",
       "      <td>-57.800060</td>\n",
       "      <td>-75.480024</td>\n",
       "      <td>-74.095176</td>\n",
       "      <td>-98.947471</td>\n",
       "      <td>-153.587485</td>\n",
       "    </tr>\n",
       "    <tr>\n",
       "      <th>4</th>\n",
       "      <td>0.0</td>\n",
       "      <td>-97.299037</td>\n",
       "      <td>-83.374686</td>\n",
       "      <td>-153.412077</td>\n",
       "      <td>-83.001789</td>\n",
       "      <td>-83.059526</td>\n",
       "      <td>-140.760926</td>\n",
       "      <td>-124.245216</td>\n",
       "      <td>-143.196878</td>\n",
       "      <td>-160.749681</td>\n",
       "      <td>...</td>\n",
       "      <td>-87.520254</td>\n",
       "      <td>-62.603573</td>\n",
       "      <td>68.854686</td>\n",
       "      <td>-72.923559</td>\n",
       "      <td>-67.718178</td>\n",
       "      <td>-59.196685</td>\n",
       "      <td>-74.722858</td>\n",
       "      <td>-76.957952</td>\n",
       "      <td>-88.824621</td>\n",
       "      <td>-76.059116</td>\n",
       "    </tr>\n",
       "    <tr>\n",
       "      <th>5</th>\n",
       "      <td>0.0</td>\n",
       "      <td>-85.707340</td>\n",
       "      <td>-87.739256</td>\n",
       "      <td>-148.927488</td>\n",
       "      <td>-51.986569</td>\n",
       "      <td>-74.574792</td>\n",
       "      <td>-128.190456</td>\n",
       "      <td>-107.696773</td>\n",
       "      <td>-138.284379</td>\n",
       "      <td>-164.364016</td>\n",
       "      <td>...</td>\n",
       "      <td>-97.948709</td>\n",
       "      <td>-110.761720</td>\n",
       "      <td>69.492942</td>\n",
       "      <td>-53.112103</td>\n",
       "      <td>-70.002269</td>\n",
       "      <td>-68.269252</td>\n",
       "      <td>-74.964241</td>\n",
       "      <td>-67.580478</td>\n",
       "      <td>-94.258802</td>\n",
       "      <td>-109.757047</td>\n",
       "    </tr>\n",
       "  </tbody>\n",
       "</table>\n",
       "<p>6 rows × 3243 columns</p>\n",
       "</div>"
      ],
      "text/plain": [
       "   0           1           2           3          4          5           6     \\\n",
       "0   0.0 -151.238223  -64.512299 -113.577704 -70.107189 -77.659282 -146.372610   \n",
       "1   0.0  -60.717763 -128.507347  -71.359612 -68.910213 -84.816975 -131.863610   \n",
       "2   0.0 -107.180919 -102.756591 -132.797246 -84.276058 -66.769939 -121.665850   \n",
       "3   0.0 -101.547401  -91.383235 -118.700847 -87.884712 -80.745510 -141.418410   \n",
       "4   0.0  -97.299037  -83.374686 -153.412077 -83.001789 -83.059526 -140.760926   \n",
       "5   0.0  -85.707340  -87.739256 -148.927488 -51.986569 -74.574792 -128.190456   \n",
       "\n",
       "         7           8           9     ...        3233        3234       3235  \\\n",
       "0 -143.859592 -143.227885 -118.818611  ... -116.645882  -69.393580  70.082909   \n",
       "1 -133.793014 -131.493058 -151.835309  ...  -45.364262  -97.703757  56.148632   \n",
       "2 -148.144450 -144.920262 -127.339602  ...  -39.890445  -68.072864  63.707289   \n",
       "3 -144.279987 -116.035732 -136.165801  ...  -58.158551  -76.333741  57.152147   \n",
       "4 -124.245216 -143.196878 -160.749681  ...  -87.520254  -62.603573  68.854686   \n",
       "5 -107.696773 -138.284379 -164.364016  ...  -97.948709 -110.761720  69.492942   \n",
       "\n",
       "         3236       3237       3238       3239       3240        3241  \\\n",
       "0 -140.817268 -84.547267 -76.528578 -66.722240 -83.227885 -102.554545   \n",
       "1  -60.750352 -94.093880 -64.561886 -59.504043 -57.018843 -111.141243   \n",
       "2  -56.664100 -57.934465 -85.791179 -68.369913 -81.896809 -111.499771   \n",
       "3  -58.436172 -80.638356 -57.800060 -75.480024 -74.095176  -98.947471   \n",
       "4  -72.923559 -67.718178 -59.196685 -74.722858 -76.957952  -88.824621   \n",
       "5  -53.112103 -70.002269 -68.269252 -74.964241 -67.580478  -94.258802   \n",
       "\n",
       "         3242  \n",
       "0 -121.761744  \n",
       "1 -141.488499  \n",
       "2 -122.745449  \n",
       "3 -153.587485  \n",
       "4  -76.059116  \n",
       "5 -109.757047  \n",
       "\n",
       "[6 rows x 3243 columns]"
      ]
     },
     "execution_count": 83,
     "metadata": {},
     "output_type": "execute_result"
    }
   ],
   "source": [
    "df"
   ]
  },
  {
   "cell_type": "code",
   "execution_count": 84,
   "metadata": {},
   "outputs": [],
   "source": [
    "df.to_csv('tests/test_dihedrals.csv')"
   ]
  },
  {
   "cell_type": "code",
   "execution_count": 1,
   "metadata": {},
   "outputs": [],
   "source": [
    "import sbmlcore"
   ]
  },
  {
   "cell_type": "code",
   "execution_count": 5,
   "metadata": {},
   "outputs": [],
   "source": [
    "a = sbmlcore.TrajectoryDihedrals(\n",
    "        \"tests/rpob-5uh6-3-warm.gro.gz\",\n",
    "        [\"tests/rpob-5uh6-3-md-1-50ns-dt10ns-nojump.xtc\",\n",
    "         \"tests/rpob-5uh6-3-md-2-50ns-dt10ns-nojump.xtc\"],\n",
    "        \"tests/5uh6.pdb\",\n",
    "        \"phi\",\n",
    "        \"phi\",\n",
    "        angle_type='max',\n",
    "        offsets={\"A\": 0, \"B\": 0, \"C\": -6},\n",
    "        percentile_exclusion=True,\n",
    "        start_time=10000.0,\n",
    "        end_time=40000.0,\n",
    "    ).return_angle_df()"
   ]
  },
  {
   "cell_type": "code",
   "execution_count": 10,
   "metadata": {},
   "outputs": [],
   "source": [
    "import pandas"
   ]
  },
  {
   "cell_type": "code",
   "execution_count": 7,
   "metadata": {},
   "outputs": [],
   "source": [
    "a.to_csv('tests/5uh6_traj_angles.csv')"
   ]
  },
  {
   "cell_type": "code",
   "execution_count": 11,
   "metadata": {},
   "outputs": [],
   "source": [
    "a = {\n",
    "\"segid\": [\"A\", \"A\", \"A\", \"B\", \"C\", \"C\"],\n",
    "\"mutation\": [\"I3D\", \"S4K\", \"Q5V\", \"R6D\", \"S450F\", \"D435F\"],\n",
    "    }\n",
    "df = pandas.DataFrame.from_dict(a)\n",
    "a = sbmlcore.TrajectoryDihedrals( \n",
    "        \"tests/rpob-5uh6-3-warm.gro.gz\",\n",
    "        [\"tests/rpob-5uh6-3-md-1-50ns-dt10ns-nojump.xtc\",\n",
    "         \"tests/rpob-5uh6-3-md-2-50ns-dt10ns-nojump.xtc\"],\n",
    "        \"tests/5uh6.pdb\",\n",
    "        \"psi\",\n",
    "        \"max psi\",\n",
    "        angle_type='max',\n",
    "        offsets={\"A\": 0, \"B\": 0, \"C\": -6},\n",
    "        percentile_exclusion=True,\n",
    "        end_time=40000.0,\n",
    "    )\n",
    "\n",
    "df = a.add_feature(df)\n"
   ]
  },
  {
   "cell_type": "code",
   "execution_count": 12,
   "metadata": {},
   "outputs": [
    {
     "data": {
      "text/html": [
       "<div>\n",
       "<style scoped>\n",
       "    .dataframe tbody tr th:only-of-type {\n",
       "        vertical-align: middle;\n",
       "    }\n",
       "\n",
       "    .dataframe tbody tr th {\n",
       "        vertical-align: top;\n",
       "    }\n",
       "\n",
       "    .dataframe thead th {\n",
       "        text-align: right;\n",
       "    }\n",
       "</style>\n",
       "<table border=\"1\" class=\"dataframe\">\n",
       "  <thead>\n",
       "    <tr style=\"text-align: right;\">\n",
       "      <th></th>\n",
       "      <th>segid</th>\n",
       "      <th>resid</th>\n",
       "      <th>mutation</th>\n",
       "      <th>max psi</th>\n",
       "    </tr>\n",
       "  </thead>\n",
       "  <tbody>\n",
       "    <tr>\n",
       "      <th>0</th>\n",
       "      <td>A</td>\n",
       "      <td>3</td>\n",
       "      <td>I3D</td>\n",
       "      <td>144.512421</td>\n",
       "    </tr>\n",
       "    <tr>\n",
       "      <th>1</th>\n",
       "      <td>A</td>\n",
       "      <td>4</td>\n",
       "      <td>S4K</td>\n",
       "      <td>147.142197</td>\n",
       "    </tr>\n",
       "    <tr>\n",
       "      <th>2</th>\n",
       "      <td>A</td>\n",
       "      <td>5</td>\n",
       "      <td>Q5V</td>\n",
       "      <td>26.642541</td>\n",
       "    </tr>\n",
       "    <tr>\n",
       "      <th>3</th>\n",
       "      <td>B</td>\n",
       "      <td>6</td>\n",
       "      <td>R6D</td>\n",
       "      <td>139.097679</td>\n",
       "    </tr>\n",
       "    <tr>\n",
       "      <th>4</th>\n",
       "      <td>C</td>\n",
       "      <td>450</td>\n",
       "      <td>S450F</td>\n",
       "      <td>164.293520</td>\n",
       "    </tr>\n",
       "    <tr>\n",
       "      <th>5</th>\n",
       "      <td>C</td>\n",
       "      <td>435</td>\n",
       "      <td>D435F</td>\n",
       "      <td>121.794394</td>\n",
       "    </tr>\n",
       "  </tbody>\n",
       "</table>\n",
       "</div>"
      ],
      "text/plain": [
       "  segid  resid mutation     max psi\n",
       "0     A      3      I3D  144.512421\n",
       "1     A      4      S4K  147.142197\n",
       "2     A      5      Q5V   26.642541\n",
       "3     B      6      R6D  139.097679\n",
       "4     C    450    S450F  164.293520\n",
       "5     C    435    D435F  121.794394"
      ]
     },
     "execution_count": 12,
     "metadata": {},
     "output_type": "execute_result"
    }
   ],
   "source": [
    "df"
   ]
  },
  {
   "cell_type": "code",
   "execution_count": 13,
   "metadata": {},
   "outputs": [],
   "source": [
    "c = sbmlcore.TrajectoryDihedrals(\n",
    "        \"tests/rpob-5uh6-3-warm.gro.gz\",\n",
    "        [\n",
    "            \"tests/rpob-5uh6-3-md-1-50ns-dt10ns-nojump.xtc\",\n",
    "            \"tests/rpob-5uh6-3-md-2-50ns-dt10ns-nojump.xtc\",\n",
    "        ],\n",
    "        \"tests/5uh6.pdb\",\n",
    "        \"omega\",\n",
    "        \"min omega\",\n",
    "        angle_type=\"min\",\n",
    "        offsets={\"A\": 0, \"B\": 0, \"C\": -6},\n",
    "        percentile_exclusion=True,\n",
    "        end_time=40000.0,\n",
    "    )\n",
    "\n",
    "df = c.add_feature(df)"
   ]
  },
  {
   "cell_type": "code",
   "execution_count": 14,
   "metadata": {},
   "outputs": [
    {
     "data": {
      "text/html": [
       "<div>\n",
       "<style scoped>\n",
       "    .dataframe tbody tr th:only-of-type {\n",
       "        vertical-align: middle;\n",
       "    }\n",
       "\n",
       "    .dataframe tbody tr th {\n",
       "        vertical-align: top;\n",
       "    }\n",
       "\n",
       "    .dataframe thead th {\n",
       "        text-align: right;\n",
       "    }\n",
       "</style>\n",
       "<table border=\"1\" class=\"dataframe\">\n",
       "  <thead>\n",
       "    <tr style=\"text-align: right;\">\n",
       "      <th></th>\n",
       "      <th>segid</th>\n",
       "      <th>resid</th>\n",
       "      <th>mutation</th>\n",
       "      <th>max psi</th>\n",
       "      <th>min omega</th>\n",
       "    </tr>\n",
       "  </thead>\n",
       "  <tbody>\n",
       "    <tr>\n",
       "      <th>0</th>\n",
       "      <td>A</td>\n",
       "      <td>3</td>\n",
       "      <td>I3D</td>\n",
       "      <td>144.512421</td>\n",
       "      <td>-177.314589</td>\n",
       "    </tr>\n",
       "    <tr>\n",
       "      <th>1</th>\n",
       "      <td>A</td>\n",
       "      <td>4</td>\n",
       "      <td>S4K</td>\n",
       "      <td>147.142197</td>\n",
       "      <td>-169.461819</td>\n",
       "    </tr>\n",
       "    <tr>\n",
       "      <th>2</th>\n",
       "      <td>A</td>\n",
       "      <td>5</td>\n",
       "      <td>Q5V</td>\n",
       "      <td>26.642541</td>\n",
       "      <td>-172.799910</td>\n",
       "    </tr>\n",
       "    <tr>\n",
       "      <th>3</th>\n",
       "      <td>B</td>\n",
       "      <td>6</td>\n",
       "      <td>R6D</td>\n",
       "      <td>139.097679</td>\n",
       "      <td>-175.744029</td>\n",
       "    </tr>\n",
       "    <tr>\n",
       "      <th>4</th>\n",
       "      <td>C</td>\n",
       "      <td>450</td>\n",
       "      <td>S450F</td>\n",
       "      <td>164.293520</td>\n",
       "      <td>169.355237</td>\n",
       "    </tr>\n",
       "    <tr>\n",
       "      <th>5</th>\n",
       "      <td>C</td>\n",
       "      <td>435</td>\n",
       "      <td>D435F</td>\n",
       "      <td>121.794394</td>\n",
       "      <td>-168.869292</td>\n",
       "    </tr>\n",
       "  </tbody>\n",
       "</table>\n",
       "</div>"
      ],
      "text/plain": [
       "  segid  resid mutation     max psi   min omega\n",
       "0     A      3      I3D  144.512421 -177.314589\n",
       "1     A      4      S4K  147.142197 -169.461819\n",
       "2     A      5      Q5V   26.642541 -172.799910\n",
       "3     B      6      R6D  139.097679 -175.744029\n",
       "4     C    450    S450F  164.293520  169.355237\n",
       "5     C    435    D435F  121.794394 -168.869292"
      ]
     },
     "execution_count": 14,
     "metadata": {},
     "output_type": "execute_result"
    }
   ],
   "source": [
    "df"
   ]
  },
  {
   "cell_type": "code",
   "execution_count": 16,
   "metadata": {},
   "outputs": [],
   "source": [
    "df.to_csv('tests/5uh6_added_traj_angles.csv')"
   ]
  },
  {
   "cell_type": "code",
   "execution_count": 19,
   "metadata": {},
   "outputs": [],
   "source": [
    "import MDAnalysis"
   ]
  },
  {
   "cell_type": "code",
   "execution_count": 28,
   "metadata": {},
   "outputs": [],
   "source": [
    "u = MDAnalysis.Universe(\n",
    "        \"tests/rpob-5uh6-3-warm.gro.gz\", \"tests/rpob-5uh6-3-md-1-50ns-dt10ns-nojump.xtc\"\n",
    "    )\n",
    "dt = u.trajectory[1].time - u.trajectory[0].time\n",
    "u = sbmlcore.TrajectoryDihedrals._filter_frames(\n",
    "        \"tests/rpob-5uh6-3-warm.gro.gz\", u, \"start\", 20000, dt\n",
    "    )\n",
    "test_coordinates = (\n",
    "    MDAnalysis.analysis.base.AnalysisFromFunction(\n",
    "            lambda ag: ag.positions.copy(), u.atoms\n",
    "        )\n",
    "        .run()\n",
    "        .results\n",
    "    )\n",
    "test_coordinates = pandas.DataFrame.from_dict(test_coordinates.timeseries[0])"
   ]
  },
  {
   "cell_type": "code",
   "execution_count": 57,
   "metadata": {},
   "outputs": [],
   "source": [
    "test_coordinates.to_csv('tests/test_start_coordinates_frame0.csv')"
   ]
  },
  {
   "cell_type": "code",
   "execution_count": 41,
   "metadata": {},
   "outputs": [
    {
     "data": {
      "text/html": [
       "<div>\n",
       "<style scoped>\n",
       "    .dataframe tbody tr th:only-of-type {\n",
       "        vertical-align: middle;\n",
       "    }\n",
       "\n",
       "    .dataframe tbody tr th {\n",
       "        vertical-align: top;\n",
       "    }\n",
       "\n",
       "    .dataframe thead th {\n",
       "        text-align: right;\n",
       "    }\n",
       "</style>\n",
       "<table border=\"1\" class=\"dataframe\">\n",
       "  <thead>\n",
       "    <tr style=\"text-align: right;\">\n",
       "      <th></th>\n",
       "      <th>0</th>\n",
       "      <th>1</th>\n",
       "      <th>2</th>\n",
       "    </tr>\n",
       "  </thead>\n",
       "  <tbody>\n",
       "    <tr>\n",
       "      <th>0</th>\n",
       "      <td>37.510002</td>\n",
       "      <td>72.200005</td>\n",
       "      <td>78.900002</td>\n",
       "    </tr>\n",
       "    <tr>\n",
       "      <th>1</th>\n",
       "      <td>38.070000</td>\n",
       "      <td>72.040009</td>\n",
       "      <td>78.070000</td>\n",
       "    </tr>\n",
       "    <tr>\n",
       "      <th>2</th>\n",
       "      <td>38.030003</td>\n",
       "      <td>72.840004</td>\n",
       "      <td>79.490005</td>\n",
       "    </tr>\n",
       "    <tr>\n",
       "      <th>3</th>\n",
       "      <td>37.380001</td>\n",
       "      <td>71.320007</td>\n",
       "      <td>79.370003</td>\n",
       "    </tr>\n",
       "    <tr>\n",
       "      <th>4</th>\n",
       "      <td>36.210003</td>\n",
       "      <td>72.830002</td>\n",
       "      <td>78.510002</td>\n",
       "    </tr>\n",
       "    <tr>\n",
       "      <th>...</th>\n",
       "      <td>...</td>\n",
       "      <td>...</td>\n",
       "      <td>...</td>\n",
       "    </tr>\n",
       "    <tr>\n",
       "      <th>396771</th>\n",
       "      <td>124.450005</td>\n",
       "      <td>40.000000</td>\n",
       "      <td>101.740005</td>\n",
       "    </tr>\n",
       "    <tr>\n",
       "      <th>396772</th>\n",
       "      <td>118.570007</td>\n",
       "      <td>82.860001</td>\n",
       "      <td>34.750000</td>\n",
       "    </tr>\n",
       "    <tr>\n",
       "      <th>396773</th>\n",
       "      <td>154.530014</td>\n",
       "      <td>73.220001</td>\n",
       "      <td>8.370000</td>\n",
       "    </tr>\n",
       "    <tr>\n",
       "      <th>396774</th>\n",
       "      <td>8.310000</td>\n",
       "      <td>70.900002</td>\n",
       "      <td>0.520000</td>\n",
       "    </tr>\n",
       "    <tr>\n",
       "      <th>396775</th>\n",
       "      <td>108.120003</td>\n",
       "      <td>117.440002</td>\n",
       "      <td>3.580000</td>\n",
       "    </tr>\n",
       "  </tbody>\n",
       "</table>\n",
       "<p>396776 rows × 3 columns</p>\n",
       "</div>"
      ],
      "text/plain": [
       "                 0           1           2\n",
       "0        37.510002   72.200005   78.900002\n",
       "1        38.070000   72.040009   78.070000\n",
       "2        38.030003   72.840004   79.490005\n",
       "3        37.380001   71.320007   79.370003\n",
       "4        36.210003   72.830002   78.510002\n",
       "...            ...         ...         ...\n",
       "396771  124.450005   40.000000  101.740005\n",
       "396772  118.570007   82.860001   34.750000\n",
       "396773  154.530014   73.220001    8.370000\n",
       "396774    8.310000   70.900002    0.520000\n",
       "396775  108.120003  117.440002    3.580000\n",
       "\n",
       "[396776 rows x 3 columns]"
      ]
     },
     "execution_count": 41,
     "metadata": {},
     "output_type": "execute_result"
    }
   ],
   "source": [
    "test_coordinates"
   ]
  },
  {
   "cell_type": "code",
   "execution_count": 52,
   "metadata": {},
   "outputs": [],
   "source": [
    "expected_coordinates = pandas.read_csv(\n",
    "        \"tests/test_start_coordinates_frame0.csv\", index_col=0\n",
    "    )"
   ]
  },
  {
   "cell_type": "code",
   "execution_count": 53,
   "metadata": {},
   "outputs": [
    {
     "data": {
      "text/html": [
       "<div>\n",
       "<style scoped>\n",
       "    .dataframe tbody tr th:only-of-type {\n",
       "        vertical-align: middle;\n",
       "    }\n",
       "\n",
       "    .dataframe tbody tr th {\n",
       "        vertical-align: top;\n",
       "    }\n",
       "\n",
       "    .dataframe thead th {\n",
       "        text-align: right;\n",
       "    }\n",
       "</style>\n",
       "<table border=\"1\" class=\"dataframe\">\n",
       "  <thead>\n",
       "    <tr style=\"text-align: right;\">\n",
       "      <th></th>\n",
       "      <th>0</th>\n",
       "      <th>1</th>\n",
       "      <th>2</th>\n",
       "    </tr>\n",
       "  </thead>\n",
       "  <tbody>\n",
       "    <tr>\n",
       "      <th>0</th>\n",
       "      <td>37.510002</td>\n",
       "      <td>72.200005</td>\n",
       "      <td>78.900000</td>\n",
       "    </tr>\n",
       "    <tr>\n",
       "      <th>1</th>\n",
       "      <td>38.070000</td>\n",
       "      <td>72.040010</td>\n",
       "      <td>78.070000</td>\n",
       "    </tr>\n",
       "    <tr>\n",
       "      <th>2</th>\n",
       "      <td>38.030003</td>\n",
       "      <td>72.840004</td>\n",
       "      <td>79.490005</td>\n",
       "    </tr>\n",
       "    <tr>\n",
       "      <th>3</th>\n",
       "      <td>37.380000</td>\n",
       "      <td>71.320010</td>\n",
       "      <td>79.370000</td>\n",
       "    </tr>\n",
       "    <tr>\n",
       "      <th>4</th>\n",
       "      <td>36.210003</td>\n",
       "      <td>72.830000</td>\n",
       "      <td>78.510000</td>\n",
       "    </tr>\n",
       "    <tr>\n",
       "      <th>...</th>\n",
       "      <td>...</td>\n",
       "      <td>...</td>\n",
       "      <td>...</td>\n",
       "    </tr>\n",
       "    <tr>\n",
       "      <th>396771</th>\n",
       "      <td>124.450005</td>\n",
       "      <td>40.000000</td>\n",
       "      <td>101.740005</td>\n",
       "    </tr>\n",
       "    <tr>\n",
       "      <th>396772</th>\n",
       "      <td>118.570010</td>\n",
       "      <td>82.860000</td>\n",
       "      <td>34.750000</td>\n",
       "    </tr>\n",
       "    <tr>\n",
       "      <th>396773</th>\n",
       "      <td>154.530010</td>\n",
       "      <td>73.220000</td>\n",
       "      <td>8.370000</td>\n",
       "    </tr>\n",
       "    <tr>\n",
       "      <th>396774</th>\n",
       "      <td>8.310000</td>\n",
       "      <td>70.900000</td>\n",
       "      <td>0.520000</td>\n",
       "    </tr>\n",
       "    <tr>\n",
       "      <th>396775</th>\n",
       "      <td>108.120000</td>\n",
       "      <td>117.440000</td>\n",
       "      <td>3.580000</td>\n",
       "    </tr>\n",
       "  </tbody>\n",
       "</table>\n",
       "<p>396776 rows × 3 columns</p>\n",
       "</div>"
      ],
      "text/plain": [
       "                 0           1           2\n",
       "0        37.510002   72.200005   78.900000\n",
       "1        38.070000   72.040010   78.070000\n",
       "2        38.030003   72.840004   79.490005\n",
       "3        37.380000   71.320010   79.370000\n",
       "4        36.210003   72.830000   78.510000\n",
       "...            ...         ...         ...\n",
       "396771  124.450005   40.000000  101.740005\n",
       "396772  118.570010   82.860000   34.750000\n",
       "396773  154.530010   73.220000    8.370000\n",
       "396774    8.310000   70.900000    0.520000\n",
       "396775  108.120000  117.440000    3.580000\n",
       "\n",
       "[396776 rows x 3 columns]"
      ]
     },
     "execution_count": 53,
     "metadata": {},
     "output_type": "execute_result"
    }
   ],
   "source": [
    "expected_coordinates"
   ]
  },
  {
   "cell_type": "code",
   "execution_count": 54,
   "metadata": {},
   "outputs": [],
   "source": [
    "expected_coordinates.rename(columns={'0':0, '1':1, \"2\":2}, inplace=True)"
   ]
  },
  {
   "cell_type": "code",
   "execution_count": 61,
   "metadata": {},
   "outputs": [],
   "source": [
    "pandas.testing.assert_frame_equal(test_coordinates, expected_coordinates.astype('float32'))"
   ]
  },
  {
   "cell_type": "code",
   "execution_count": null,
   "metadata": {},
   "outputs": [],
   "source": []
  }
 ],
 "metadata": {
  "interpreter": {
   "hash": "e86185a29b880bbe385911a49b7671122849e75b1e6a606f7ab424b543a1e33a"
  },
  "kernelspec": {
   "display_name": "Python 3.10.4",
   "language": "python",
   "name": "python3"
  },
  "language_info": {
   "codemirror_mode": {
    "name": "ipython",
    "version": 3
   },
   "file_extension": ".py",
   "mimetype": "text/x-python",
   "name": "python",
   "nbconvert_exporter": "python",
   "pygments_lexer": "ipython3",
   "version": "3.10.4"
  },
  "orig_nbformat": 4
 },
 "nbformat": 4,
 "nbformat_minor": 2
}
