{
 "cells": [
  {
   "cell_type": "code",
   "execution_count": 81,
   "id": "1f5d768e-9b78-4ca3-be26-6b8156362a11",
   "metadata": {},
   "outputs": [
    {
     "name": "stdout",
     "output_type": "stream",
     "text": [
      "The autoreload extension is already loaded. To reload it, use:\n",
      "  %reload_ext autoreload\n"
     ]
    }
   ],
   "source": [
    "import sbmlcore, pandas, numpy, pytest\n",
    "%load_ext autoreload\n",
    "%autoreload 2"
   ]
  },
  {
   "cell_type": "code",
   "execution_count": 82,
   "id": "66ab7b8e-1b00-46ce-95c6-3de2a66b82ce",
   "metadata": {},
   "outputs": [
    {
     "data": {
      "text/html": [
       "<div>\n",
       "<style scoped>\n",
       "    .dataframe tbody tr th:only-of-type {\n",
       "        vertical-align: middle;\n",
       "    }\n",
       "\n",
       "    .dataframe tbody tr th {\n",
       "        vertical-align: top;\n",
       "    }\n",
       "\n",
       "    .dataframe thead th {\n",
       "        text-align: right;\n",
       "    }\n",
       "</style>\n",
       "<table border=\"1\" class=\"dataframe\">\n",
       "  <thead>\n",
       "    <tr style=\"text-align: right;\">\n",
       "      <th></th>\n",
       "      <th>mutation</th>\n",
       "    </tr>\n",
       "  </thead>\n",
       "  <tbody>\n",
       "    <tr>\n",
       "      <th>0</th>\n",
       "      <td>A1D</td>\n",
       "    </tr>\n",
       "    <tr>\n",
       "      <th>1</th>\n",
       "      <td>E2K</td>\n",
       "    </tr>\n",
       "  </tbody>\n",
       "</table>\n",
       "</div>"
      ],
      "text/plain": [
       "  mutation\n",
       "0      A1D\n",
       "1      E2K"
      ]
     },
     "execution_count": 82,
     "metadata": {},
     "output_type": "execute_result"
    }
   ],
   "source": [
    "a = {'mutation': ['A1D','E2K']}\n",
    "df = pandas.DataFrame.from_dict(a)\n",
    "df"
   ]
  },
  {
   "cell_type": "code",
   "execution_count": 83,
   "id": "374cb2e9-071c-48f7-a0b5-bb146801f607",
   "metadata": {},
   "outputs": [],
   "source": [
    "a = sbmlcore.AminoAcidVolumeChange()"
   ]
  },
  {
   "cell_type": "code",
   "execution_count": 84,
   "id": "30ad4bc7-f029-44a6-a845-2308e6d1229f",
   "metadata": {},
   "outputs": [
    {
     "data": {
      "text/html": [
       "<div>\n",
       "<style scoped>\n",
       "    .dataframe tbody tr th:only-of-type {\n",
       "        vertical-align: middle;\n",
       "    }\n",
       "\n",
       "    .dataframe tbody tr th {\n",
       "        vertical-align: top;\n",
       "    }\n",
       "\n",
       "    .dataframe thead th {\n",
       "        text-align: right;\n",
       "    }\n",
       "</style>\n",
       "<table border=\"1\" class=\"dataframe\">\n",
       "  <thead>\n",
       "    <tr style=\"text-align: right;\">\n",
       "      <th></th>\n",
       "      <th></th>\n",
       "      <th>d_volume</th>\n",
       "    </tr>\n",
       "    <tr>\n",
       "      <th>ref_amino_acid</th>\n",
       "      <th>alt_amino_acid</th>\n",
       "      <th></th>\n",
       "    </tr>\n",
       "  </thead>\n",
       "  <tbody>\n",
       "    <tr>\n",
       "      <th>D</th>\n",
       "      <th>K</th>\n",
       "      <td>-57.5</td>\n",
       "    </tr>\n",
       "  </tbody>\n",
       "</table>\n",
       "</div>"
      ],
      "text/plain": [
       "                               d_volume\n",
       "ref_amino_acid alt_amino_acid          \n",
       "D              K                  -57.5"
      ]
     },
     "execution_count": 84,
     "metadata": {},
     "output_type": "execute_result"
    }
   ],
   "source": [
    "a.lookup[a.lookup.d_volume==-57.5]"
   ]
  },
  {
   "cell_type": "code",
   "execution_count": 85,
   "id": "163d7d5c-9f19-4a62-9729-c85d0c2c5c0c",
   "metadata": {},
   "outputs": [
    {
     "data": {
      "text/html": [
       "<div>\n",
       "<style scoped>\n",
       "    .dataframe tbody tr th:only-of-type {\n",
       "        vertical-align: middle;\n",
       "    }\n",
       "\n",
       "    .dataframe tbody tr th {\n",
       "        vertical-align: top;\n",
       "    }\n",
       "\n",
       "    .dataframe thead th {\n",
       "        text-align: right;\n",
       "    }\n",
       "</style>\n",
       "<table border=\"1\" class=\"dataframe\">\n",
       "  <thead>\n",
       "    <tr style=\"text-align: right;\">\n",
       "      <th></th>\n",
       "      <th></th>\n",
       "      <th>d_volume</th>\n",
       "    </tr>\n",
       "    <tr>\n",
       "      <th>ref_amino_acid</th>\n",
       "      <th>alt_amino_acid</th>\n",
       "      <th></th>\n",
       "    </tr>\n",
       "  </thead>\n",
       "  <tbody>\n",
       "    <tr>\n",
       "      <th>E</th>\n",
       "      <th>K</th>\n",
       "      <td>-30.2</td>\n",
       "    </tr>\n",
       "  </tbody>\n",
       "</table>\n",
       "</div>"
      ],
      "text/plain": [
       "                               d_volume\n",
       "ref_amino_acid alt_amino_acid          \n",
       "E              K                  -30.2"
      ]
     },
     "execution_count": 85,
     "metadata": {},
     "output_type": "execute_result"
    }
   ],
   "source": [
    "a.lookup[a.lookup.index == ('E', 'K')]"
   ]
  },
  {
   "cell_type": "code",
   "execution_count": 87,
   "id": "9a621864-8e0a-4199-88af-1daba88c6081",
   "metadata": {},
   "outputs": [],
   "source": [
    "df3 = a + df"
   ]
  },
  {
   "cell_type": "code",
   "execution_count": 66,
   "id": "5a00d63b-290e-41d8-96e4-d07a72fe3295",
   "metadata": {},
   "outputs": [
    {
     "data": {
      "text/html": [
       "<div>\n",
       "<style scoped>\n",
       "    .dataframe tbody tr th:only-of-type {\n",
       "        vertical-align: middle;\n",
       "    }\n",
       "\n",
       "    .dataframe tbody tr th {\n",
       "        vertical-align: top;\n",
       "    }\n",
       "\n",
       "    .dataframe thead th {\n",
       "        text-align: right;\n",
       "    }\n",
       "</style>\n",
       "<table border=\"1\" class=\"dataframe\">\n",
       "  <thead>\n",
       "    <tr style=\"text-align: right;\">\n",
       "      <th></th>\n",
       "      <th>mutation</th>\n",
       "      <th>d_volume</th>\n",
       "    </tr>\n",
       "  </thead>\n",
       "  <tbody>\n",
       "    <tr>\n",
       "      <th>0</th>\n",
       "      <td>A1D</td>\n",
       "      <td>-22.5</td>\n",
       "    </tr>\n",
       "    <tr>\n",
       "      <th>1</th>\n",
       "      <td>E2K</td>\n",
       "      <td>-30.2</td>\n",
       "    </tr>\n",
       "  </tbody>\n",
       "</table>\n",
       "</div>"
      ],
      "text/plain": [
       "  mutation  d_volume\n",
       "0      A1D     -22.5\n",
       "1      E2K     -30.2"
      ]
     },
     "execution_count": 66,
     "metadata": {},
     "output_type": "execute_result"
    }
   ],
   "source": [
    "df3"
   ]
  },
  {
   "cell_type": "code",
   "execution_count": 88,
   "id": "410bdcaa-a86a-4b09-ab67-e633a5e15258",
   "metadata": {},
   "outputs": [
    {
     "data": {
      "text/plain": [
       "True"
      ]
     },
     "execution_count": 88,
     "metadata": {},
     "output_type": "execute_result"
    }
   ],
   "source": [
    "df3.d_volume.values == pytest.approx(numpy.array([-22.5, -30.2]))"
   ]
  },
  {
   "cell_type": "code",
   "execution_count": 99,
   "id": "ebeebeb0-c84f-4a0c-8712-16dcef260290",
   "metadata": {},
   "outputs": [
    {
     "data": {
      "text/plain": [
       "True"
      ]
     },
     "execution_count": 99,
     "metadata": {},
     "output_type": "execute_result"
    }
   ],
   "source": [
    "df3.d_volume.values == pytest.approx(numpy.array([-22.5, -30.2]))"
   ]
  },
  {
   "cell_type": "code",
   "execution_count": 91,
   "id": "226dead3-a4e3-46c2-8f7a-609230f05475",
   "metadata": {},
   "outputs": [
    {
     "data": {
      "text/plain": [
       "array([-22.5, -30.2])"
      ]
     },
     "execution_count": 91,
     "metadata": {},
     "output_type": "execute_result"
    }
   ],
   "source": [
    "df3.d_volume.values"
   ]
  },
  {
   "cell_type": "code",
   "execution_count": 103,
   "id": "be0bce07-7c41-4d90-aa25-80dd76a86b18",
   "metadata": {},
   "outputs": [
    {
     "data": {
      "text/plain": [
       "False"
      ]
     },
     "execution_count": 103,
     "metadata": {},
     "output_type": "execute_result"
    }
   ],
   "source": [
    "-22.5000000000001 == -22.5"
   ]
  },
  {
   "cell_type": "code",
   "execution_count": null,
   "id": "ae97cdee-52b4-4c1c-ae21-986094471329",
   "metadata": {},
   "outputs": [],
   "source": []
  }
 ],
 "metadata": {
  "kernelspec": {
   "display_name": "Python 3 (ipykernel)",
   "language": "python",
   "name": "python3"
  },
  "language_info": {
   "codemirror_mode": {
    "name": "ipython",
    "version": 3
   },
   "file_extension": ".py",
   "mimetype": "text/x-python",
   "name": "python",
   "nbconvert_exporter": "python",
   "pygments_lexer": "ipython3",
   "version": "3.9.9"
  }
 },
 "nbformat": 4,
 "nbformat_minor": 5
}
