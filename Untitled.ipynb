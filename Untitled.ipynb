{
 "cells": [
  {
   "cell_type": "code",
   "execution_count": 1,
   "id": "1f5d768e-9b78-4ca3-be26-6b8156362a11",
   "metadata": {},
   "outputs": [],
   "source": [
    "import sbmlcore, pandas, numpy, pytest\n",
    "#MDAnalysis\n",
    "%load_ext autoreload\n",
    "%autoreload 2"
   ]
  },
  {
   "cell_type": "code",
   "execution_count": 25,
   "id": "66ab7b8e-1b00-46ce-95c6-3de2a66b82ce",
   "metadata": {},
   "outputs": [
    {
     "data": {
      "text/html": [
       "<div>\n",
       "<style scoped>\n",
       "    .dataframe tbody tr th:only-of-type {\n",
       "        vertical-align: middle;\n",
       "    }\n",
       "\n",
       "    .dataframe tbody tr th {\n",
       "        vertical-align: top;\n",
       "    }\n",
       "\n",
       "    .dataframe thead th {\n",
       "        text-align: right;\n",
       "    }\n",
       "</style>\n",
       "<table border=\"1\" class=\"dataframe\">\n",
       "  <thead>\n",
       "    <tr style=\"text-align: right;\">\n",
       "      <th></th>\n",
       "      <th>mutation</th>\n",
       "    </tr>\n",
       "  </thead>\n",
       "  <tbody>\n",
       "    <tr>\n",
       "      <th>0</th>\n",
       "      <td>A1D</td>\n",
       "    </tr>\n",
       "    <tr>\n",
       "      <th>1</th>\n",
       "      <td>E2K</td>\n",
       "    </tr>\n",
       "    <tr>\n",
       "      <th>2</th>\n",
       "      <td>A90V</td>\n",
       "    </tr>\n",
       "  </tbody>\n",
       "</table>\n",
       "</div>"
      ],
      "text/plain": [
       "  mutation\n",
       "0      A1D\n",
       "1      E2K\n",
       "2     A90V"
      ]
     },
     "execution_count": 25,
     "metadata": {},
     "output_type": "execute_result"
    }
   ],
   "source": [
    "a = {'mutation': ['A1D','E2K', 'A90V']}\n",
    "df = pandas.DataFrame.from_dict(a)\n",
    "df"
   ]
  },
  {
   "cell_type": "code",
   "execution_count": 26,
   "id": "374cb2e9-071c-48f7-a0b5-bb146801f607",
   "metadata": {},
   "outputs": [
    {
     "data": {
      "text/html": [
       "<div>\n",
       "<style scoped>\n",
       "    .dataframe tbody tr th:only-of-type {\n",
       "        vertical-align: middle;\n",
       "    }\n",
       "\n",
       "    .dataframe tbody tr th {\n",
       "        vertical-align: top;\n",
       "    }\n",
       "\n",
       "    .dataframe thead th {\n",
       "        text-align: right;\n",
       "    }\n",
       "</style>\n",
       "<table border=\"1\" class=\"dataframe\">\n",
       "  <thead>\n",
       "    <tr style=\"text-align: right;\">\n",
       "      <th></th>\n",
       "      <th>mutation</th>\n",
       "      <th>d_volume</th>\n",
       "    </tr>\n",
       "  </thead>\n",
       "  <tbody>\n",
       "    <tr>\n",
       "      <th>0</th>\n",
       "      <td>A1D</td>\n",
       "      <td>22.5</td>\n",
       "    </tr>\n",
       "    <tr>\n",
       "      <th>1</th>\n",
       "      <td>E2K</td>\n",
       "      <td>30.2</td>\n",
       "    </tr>\n",
       "    <tr>\n",
       "      <th>2</th>\n",
       "      <td>A90V</td>\n",
       "      <td>51.4</td>\n",
       "    </tr>\n",
       "  </tbody>\n",
       "</table>\n",
       "</div>"
      ],
      "text/plain": [
       "  mutation  d_volume\n",
       "0      A1D      22.5\n",
       "1      E2K      30.2\n",
       "2     A90V      51.4"
      ]
     },
     "execution_count": 26,
     "metadata": {},
     "output_type": "execute_result"
    }
   ],
   "source": [
    "a = sbmlcore.AminoAcidVolumeChange()\n",
    "df = a.add_data(df)\n",
    "df"
   ]
  },
  {
   "cell_type": "code",
   "execution_count": 27,
   "id": "34b39d5b-45fa-4fac-ad6f-434a734f695b",
   "metadata": {},
   "outputs": [
    {
     "data": {
      "text/html": [
       "<div>\n",
       "<style scoped>\n",
       "    .dataframe tbody tr th:only-of-type {\n",
       "        vertical-align: middle;\n",
       "    }\n",
       "\n",
       "    .dataframe tbody tr th {\n",
       "        vertical-align: top;\n",
       "    }\n",
       "\n",
       "    .dataframe thead th {\n",
       "        text-align: right;\n",
       "    }\n",
       "</style>\n",
       "<table border=\"1\" class=\"dataframe\">\n",
       "  <thead>\n",
       "    <tr style=\"text-align: right;\">\n",
       "      <th></th>\n",
       "      <th>mutation</th>\n",
       "      <th>d_volume</th>\n",
       "      <th>d_hydropathy_KD</th>\n",
       "    </tr>\n",
       "  </thead>\n",
       "  <tbody>\n",
       "    <tr>\n",
       "      <th>0</th>\n",
       "      <td>A1D</td>\n",
       "      <td>22.5</td>\n",
       "      <td>-5.3</td>\n",
       "    </tr>\n",
       "    <tr>\n",
       "      <th>1</th>\n",
       "      <td>E2K</td>\n",
       "      <td>30.2</td>\n",
       "      <td>-0.4</td>\n",
       "    </tr>\n",
       "    <tr>\n",
       "      <th>2</th>\n",
       "      <td>A90V</td>\n",
       "      <td>51.4</td>\n",
       "      <td>2.4</td>\n",
       "    </tr>\n",
       "  </tbody>\n",
       "</table>\n",
       "</div>"
      ],
      "text/plain": [
       "  mutation  d_volume  d_hydropathy_KD\n",
       "0      A1D      22.5             -5.3\n",
       "1      E2K      30.2             -0.4\n",
       "2     A90V      51.4              2.4"
      ]
     },
     "execution_count": 27,
     "metadata": {},
     "output_type": "execute_result"
    }
   ],
   "source": [
    "b = sbmlcore.AminoAcidHydropathyChangeKyteDoolittle()\n",
    "df = b.add_data(df)\n",
    "df"
   ]
  },
  {
   "cell_type": "code",
   "execution_count": 28,
   "id": "ae97cdee-52b4-4c1c-ae21-986094471329",
   "metadata": {},
   "outputs": [
    {
     "data": {
      "text/html": [
       "<div>\n",
       "<style scoped>\n",
       "    .dataframe tbody tr th:only-of-type {\n",
       "        vertical-align: middle;\n",
       "    }\n",
       "\n",
       "    .dataframe tbody tr th {\n",
       "        vertical-align: top;\n",
       "    }\n",
       "\n",
       "    .dataframe thead th {\n",
       "        text-align: right;\n",
       "    }\n",
       "</style>\n",
       "<table border=\"1\" class=\"dataframe\">\n",
       "  <thead>\n",
       "    <tr style=\"text-align: right;\">\n",
       "      <th></th>\n",
       "      <th>mutation</th>\n",
       "      <th>d_volume</th>\n",
       "      <th>d_hydropathy_KD</th>\n",
       "      <th>d_hydropathy_WW</th>\n",
       "    </tr>\n",
       "  </thead>\n",
       "  <tbody>\n",
       "    <tr>\n",
       "      <th>0</th>\n",
       "      <td>A1D</td>\n",
       "      <td>22.5</td>\n",
       "      <td>-5.3</td>\n",
       "      <td>2.08</td>\n",
       "    </tr>\n",
       "    <tr>\n",
       "      <th>1</th>\n",
       "      <td>E2K</td>\n",
       "      <td>30.2</td>\n",
       "      <td>-0.4</td>\n",
       "      <td>0.20</td>\n",
       "    </tr>\n",
       "    <tr>\n",
       "      <th>2</th>\n",
       "      <td>A90V</td>\n",
       "      <td>51.4</td>\n",
       "      <td>2.4</td>\n",
       "      <td>-0.86</td>\n",
       "    </tr>\n",
       "  </tbody>\n",
       "</table>\n",
       "</div>"
      ],
      "text/plain": [
       "  mutation  d_volume  d_hydropathy_KD  d_hydropathy_WW\n",
       "0      A1D      22.5             -5.3             2.08\n",
       "1      E2K      30.2             -0.4             0.20\n",
       "2     A90V      51.4              2.4            -0.86"
      ]
     },
     "execution_count": 28,
     "metadata": {},
     "output_type": "execute_result"
    }
   ],
   "source": [
    "b = sbmlcore.AminoAcidHydropathyChangeWimleyWhite()\n",
    "df = b.add_data(df)\n",
    "df"
   ]
  },
  {
   "cell_type": "code",
   "execution_count": 15,
   "id": "7bbb4350-a9e5-4b42-be57-cfce5e15f014",
   "metadata": {},
   "outputs": [
    {
     "data": {
      "text/html": [
       "<div>\n",
       "<style scoped>\n",
       "    .dataframe tbody tr th:only-of-type {\n",
       "        vertical-align: middle;\n",
       "    }\n",
       "\n",
       "    .dataframe tbody tr th {\n",
       "        vertical-align: top;\n",
       "    }\n",
       "\n",
       "    .dataframe thead th {\n",
       "        text-align: right;\n",
       "    }\n",
       "</style>\n",
       "<table border=\"1\" class=\"dataframe\">\n",
       "  <thead>\n",
       "    <tr style=\"text-align: right;\">\n",
       "      <th></th>\n",
       "      <th>mutation</th>\n",
       "    </tr>\n",
       "  </thead>\n",
       "  <tbody>\n",
       "    <tr>\n",
       "      <th>0</th>\n",
       "      <td>A1D</td>\n",
       "    </tr>\n",
       "    <tr>\n",
       "      <th>1</th>\n",
       "      <td>E2K</td>\n",
       "    </tr>\n",
       "  </tbody>\n",
       "</table>\n",
       "</div>"
      ],
      "text/plain": [
       "  mutation\n",
       "0      A1D\n",
       "1      E2K"
      ]
     },
     "execution_count": 15,
     "metadata": {},
     "output_type": "execute_result"
    }
   ],
   "source": [
    "a = {'mutation': ['A1D', 'E2K']}\n",
    "df = pandas.DataFrame(a)\n",
    "df"
   ]
  },
  {
   "cell_type": "code",
   "execution_count": 23,
   "id": "8fa0dbb0-8354-4023-afe6-581e49d76bf9",
   "metadata": {},
   "outputs": [],
   "source": [
    "def test_amino_acid_hydropathy_KD_change_value():\n",
    "    a = {'mutation': ['A1D', 'E2K']}\n",
    "    df = pandas.DataFrame(a)\n",
    "    a = sbmlcore.AminoAcidHydropathyChangeKyteDoolittle()\n",
    "    df =  a.add_data(df)\n",
    "    assert 'd_hydropathy_KD' in df.columns\n",
    "    "
   ]
  },
  {
   "cell_type": "code",
   "execution_count": 3,
   "id": "1f737fbd-5726-4702-8802-68a58c906cdd",
   "metadata": {},
   "outputs": [],
   "source": [
    "import pandas"
   ]
  },
  {
   "cell_type": "code",
   "execution_count": 11,
   "id": "04acad89-c307-4b3e-b74a-65b3423789d5",
   "metadata": {},
   "outputs": [
    {
     "name": "stdout",
     "output_type": "stream",
     "text": [
      "['REM', '|---Residue---|', '', '|--Structure--|', ' |-Phi-|', ' |-Psi-|', '|-Area-|', '', '', '3PL1\\n']\n"
     ]
    }
   ],
   "source": [
    "line_number = 0\n",
    "with open('tests/3pl1-stride.txt', 'r') as f:\n",
    "    for i in f:\n",
    "        cols = i.split('  ')\n",
    "        line_number+=1\n",
    "        if cols[1] == '|---Residue---|':\n",
    "            print(cols)\n",
    "            break"
   ]
  },
  {
   "cell_type": "code",
   "execution_count": 12,
   "id": "74f6f1ee-c9e6-4c8c-893b-4b1a684958c3",
   "metadata": {},
   "outputs": [
    {
     "data": {
      "text/plain": [
       "96"
      ]
     },
     "execution_count": 12,
     "metadata": {},
     "output_type": "execute_result"
    }
   ],
   "source": [
    "line_number"
   ]
  },
  {
   "cell_type": "code",
   "execution_count": 23,
   "id": "94d3a081-7b19-48a7-af66-e4b606e205c0",
   "metadata": {},
   "outputs": [],
   "source": [
    "df = pandas.read_fwf('tests/3pl1-stride.txt', skiprows=line_number, names=['aminoacid','chain','num1','num2','S','structure','phi','psi','area','pdb'])"
   ]
  },
  {
   "cell_type": "code",
   "execution_count": 24,
   "id": "a71eb94b-52f0-4a86-89be-a33e6de094ea",
   "metadata": {},
   "outputs": [
    {
     "data": {
      "text/html": [
       "<div>\n",
       "<style scoped>\n",
       "    .dataframe tbody tr th:only-of-type {\n",
       "        vertical-align: middle;\n",
       "    }\n",
       "\n",
       "    .dataframe tbody tr th {\n",
       "        vertical-align: top;\n",
       "    }\n",
       "\n",
       "    .dataframe thead th {\n",
       "        text-align: right;\n",
       "    }\n",
       "</style>\n",
       "<table border=\"1\" class=\"dataframe\">\n",
       "  <thead>\n",
       "    <tr style=\"text-align: right;\">\n",
       "      <th></th>\n",
       "      <th>aminoacid</th>\n",
       "      <th>chain</th>\n",
       "      <th>num1</th>\n",
       "      <th>num2</th>\n",
       "      <th>S</th>\n",
       "      <th>structure</th>\n",
       "      <th>phi</th>\n",
       "      <th>psi</th>\n",
       "      <th>area</th>\n",
       "      <th>pdb</th>\n",
       "    </tr>\n",
       "  </thead>\n",
       "  <tbody>\n",
       "    <tr>\n",
       "      <th>ASG</th>\n",
       "      <td>MET</td>\n",
       "      <td>A</td>\n",
       "      <td>1</td>\n",
       "      <td>1</td>\n",
       "      <td>C</td>\n",
       "      <td>Coil</td>\n",
       "      <td>360.00</td>\n",
       "      <td>-35.20</td>\n",
       "      <td>86.2</td>\n",
       "      <td>3PL1</td>\n",
       "    </tr>\n",
       "    <tr>\n",
       "      <th>ASG</th>\n",
       "      <td>ARG</td>\n",
       "      <td>A</td>\n",
       "      <td>2</td>\n",
       "      <td>2</td>\n",
       "      <td>E</td>\n",
       "      <td>Strand</td>\n",
       "      <td>-117.94</td>\n",
       "      <td>133.99</td>\n",
       "      <td>54.7</td>\n",
       "      <td>3PL1</td>\n",
       "    </tr>\n",
       "    <tr>\n",
       "      <th>ASG</th>\n",
       "      <td>ALA</td>\n",
       "      <td>A</td>\n",
       "      <td>3</td>\n",
       "      <td>3</td>\n",
       "      <td>E</td>\n",
       "      <td>Strand</td>\n",
       "      <td>-126.53</td>\n",
       "      <td>153.85</td>\n",
       "      <td>0.0</td>\n",
       "      <td>3PL1</td>\n",
       "    </tr>\n",
       "    <tr>\n",
       "      <th>ASG</th>\n",
       "      <td>LEU</td>\n",
       "      <td>A</td>\n",
       "      <td>4</td>\n",
       "      <td>4</td>\n",
       "      <td>E</td>\n",
       "      <td>Strand</td>\n",
       "      <td>-103.24</td>\n",
       "      <td>132.40</td>\n",
       "      <td>0.2</td>\n",
       "      <td>3PL1</td>\n",
       "    </tr>\n",
       "    <tr>\n",
       "      <th>ASG</th>\n",
       "      <td>ILE</td>\n",
       "      <td>A</td>\n",
       "      <td>5</td>\n",
       "      <td>5</td>\n",
       "      <td>E</td>\n",
       "      <td>Strand</td>\n",
       "      <td>-113.70</td>\n",
       "      <td>111.88</td>\n",
       "      <td>0.2</td>\n",
       "      <td>3PL1</td>\n",
       "    </tr>\n",
       "    <tr>\n",
       "      <th>...</th>\n",
       "      <td>...</td>\n",
       "      <td>...</td>\n",
       "      <td>...</td>\n",
       "      <td>...</td>\n",
       "      <td>...</td>\n",
       "      <td>...</td>\n",
       "      <td>...</td>\n",
       "      <td>...</td>\n",
       "      <td>...</td>\n",
       "      <td>...</td>\n",
       "    </tr>\n",
       "    <tr>\n",
       "      <th>ASG</th>\n",
       "      <td>GLU</td>\n",
       "      <td>A</td>\n",
       "      <td>181</td>\n",
       "      <td>181</td>\n",
       "      <td>E</td>\n",
       "      <td>Strand</td>\n",
       "      <td>-91.73</td>\n",
       "      <td>121.85</td>\n",
       "      <td>105.5</td>\n",
       "      <td>3PL1</td>\n",
       "    </tr>\n",
       "    <tr>\n",
       "      <th>ASG</th>\n",
       "      <td>LEU</td>\n",
       "      <td>A</td>\n",
       "      <td>182</td>\n",
       "      <td>182</td>\n",
       "      <td>E</td>\n",
       "      <td>Strand</td>\n",
       "      <td>-106.70</td>\n",
       "      <td>110.91</td>\n",
       "      <td>50.6</td>\n",
       "      <td>3PL1</td>\n",
       "    </tr>\n",
       "    <tr>\n",
       "      <th>ASG</th>\n",
       "      <td>VAL</td>\n",
       "      <td>A</td>\n",
       "      <td>183</td>\n",
       "      <td>183</td>\n",
       "      <td>E</td>\n",
       "      <td>Strand</td>\n",
       "      <td>-134.36</td>\n",
       "      <td>166.85</td>\n",
       "      <td>33.8</td>\n",
       "      <td>3PL1</td>\n",
       "    </tr>\n",
       "    <tr>\n",
       "      <th>ASG</th>\n",
       "      <td>CYS</td>\n",
       "      <td>A</td>\n",
       "      <td>184</td>\n",
       "      <td>184</td>\n",
       "      <td>C</td>\n",
       "      <td>Coil</td>\n",
       "      <td>-92.41</td>\n",
       "      <td>154.12</td>\n",
       "      <td>95.4</td>\n",
       "      <td>3PL1</td>\n",
       "    </tr>\n",
       "    <tr>\n",
       "      <th>ASG</th>\n",
       "      <td>SER</td>\n",
       "      <td>A</td>\n",
       "      <td>185</td>\n",
       "      <td>185</td>\n",
       "      <td>C</td>\n",
       "      <td>Coil</td>\n",
       "      <td>-73.76</td>\n",
       "      <td>360.00</td>\n",
       "      <td>67.6</td>\n",
       "      <td>3PL1</td>\n",
       "    </tr>\n",
       "  </tbody>\n",
       "</table>\n",
       "<p>185 rows × 10 columns</p>\n",
       "</div>"
      ],
      "text/plain": [
       "    aminoacid chain  num1  num2  S structure     phi     psi   area   pdb\n",
       "ASG       MET     A     1     1  C      Coil  360.00  -35.20   86.2  3PL1\n",
       "ASG       ARG     A     2     2  E    Strand -117.94  133.99   54.7  3PL1\n",
       "ASG       ALA     A     3     3  E    Strand -126.53  153.85    0.0  3PL1\n",
       "ASG       LEU     A     4     4  E    Strand -103.24  132.40    0.2  3PL1\n",
       "ASG       ILE     A     5     5  E    Strand -113.70  111.88    0.2  3PL1\n",
       "..        ...   ...   ...   ... ..       ...     ...     ...    ...   ...\n",
       "ASG       GLU     A   181   181  E    Strand  -91.73  121.85  105.5  3PL1\n",
       "ASG       LEU     A   182   182  E    Strand -106.70  110.91   50.6  3PL1\n",
       "ASG       VAL     A   183   183  E    Strand -134.36  166.85   33.8  3PL1\n",
       "ASG       CYS     A   184   184  C      Coil  -92.41  154.12   95.4  3PL1\n",
       "ASG       SER     A   185   185  C      Coil  -73.76  360.00   67.6  3PL1\n",
       "\n",
       "[185 rows x 10 columns]"
      ]
     },
     "execution_count": 24,
     "metadata": {},
     "output_type": "execute_result"
    }
   ],
   "source": [
    "df"
   ]
  },
  {
   "cell_type": "code",
   "execution_count": null,
   "id": "d62380af-92ca-42b2-abab-60ab8f9eec78",
   "metadata": {},
   "outputs": [],
   "source": []
  }
 ],
 "metadata": {
  "kernelspec": {
   "display_name": "Python 3 (ipykernel)",
   "language": "python",
   "name": "python3"
  },
  "language_info": {
   "codemirror_mode": {
    "name": "ipython",
    "version": 3
   },
   "file_extension": ".py",
   "mimetype": "text/x-python",
   "name": "python",
   "nbconvert_exporter": "python",
   "pygments_lexer": "ipython3",
   "version": "3.9.9"
  }
 },
 "nbformat": 4,
 "nbformat_minor": 5
}
