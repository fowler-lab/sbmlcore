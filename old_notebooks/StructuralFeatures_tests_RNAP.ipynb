{
 "cells": [
  {
   "cell_type": "markdown",
   "id": "6f457273-886f-4e71-8113-a39bb204fbd7",
   "metadata": {
    "tags": []
   },
   "source": [
    "## Tests for StructuralFeatures class on RNAP structure ##"
   ]
  },
  {
   "cell_type": "code",
   "execution_count": 134,
   "id": "2c7fffbc-06ea-4da9-8ba6-d8b2af4a7b9a",
   "metadata": {},
   "outputs": [
    {
     "name": "stdout",
     "output_type": "stream",
     "text": [
      "The autoreload extension is already loaded. To reload it, use:\n",
      "  %reload_ext autoreload\n"
     ]
    }
   ],
   "source": [
    "import sbmlcore, pandas\n",
    "%load_ext autoreload\n",
    "%autoreload 2"
   ]
  },
  {
   "cell_type": "markdown",
   "id": "e3021aa8-5827-4b79-91d0-41c73082bd7f",
   "metadata": {},
   "source": [
    "Create/load in an initial dataframe of mutations \n",
    "N.B. These mutations must be named using residues that actually exist in the wild-type \n",
    "and numbered according to your later specified resid offsets!"
   ]
  },
  {
   "cell_type": "code",
   "execution_count": 173,
   "id": "17b11b77-744d-49f4-9dbe-84bcca6e2571",
   "metadata": {},
   "outputs": [
    {
     "data": {
      "text/plain": [
       "segid       object\n",
       "mutation    object\n",
       "dtype: object"
      ]
     },
     "execution_count": 173,
     "metadata": {},
     "output_type": "execute_result"
    }
   ],
   "source": [
    "b = {'segid': ['A', 'A', 'A', 'B', 'C', 'C'], 'mutation': ['I3D','S4K', 'Q5V', 'R6D', 'S450F', 'D435F']} #N.B. Mutation must include offset\n",
    "df = pandas.DataFrame.from_dict(b)\n",
    "df\n",
    "df.dtypes"
   ]
  },
  {
   "cell_type": "markdown",
   "id": "3a19262e-216d-43df-8195-50cfe704951f",
   "metadata": {},
   "source": [
    "Use the StructuralDistances class to load in the file (first argument), <br/>\n",
    "identify the groups of atoms you care about (second argument, uses MDAnalysis syntax) - distances will be calculated from the centre of mass of this whole selection, <br/>\n",
    "name the resulting column of distances to each Ca in the structure (third argument, string of your choice), <br/>\n",
    "define any offsets for the different chains (fourth argument, must be a dictionary of the form {'segid': int, ...}). <br/>\n",
    "N.B. Distances are from the centre of mass of the specified atom selection to each C-alpha. "
   ]
  },
  {
   "cell_type": "code",
   "execution_count": 174,
   "id": "fc14f0c0-d294-457c-8023-8075816f577e",
   "metadata": {},
   "outputs": [],
   "source": [
    "a = sbmlcore.StructuralDistances('tests/5uh6.pdb','resname MG', 'Mg_distance', offsets = {'A': 1, 'B': 0, 'C': -6})"
   ]
  },
  {
   "cell_type": "markdown",
   "id": "ba0f3540-c433-4884-965a-eff3534f1987",
   "metadata": {},
   "source": [
    "Now add feature of interest to existing dataframe"
   ]
  },
  {
   "cell_type": "code",
   "execution_count": 175,
   "id": "7b342fdf-14f3-47c5-a295-75bcc7a84270",
   "metadata": {},
   "outputs": [
    {
     "ename": "AssertionError",
     "evalue": "Too many NaNs! Have you defined your offsets correctly?",
     "output_type": "error",
     "traceback": [
      "\u001b[0;31m---------------------------------------------------------------------------\u001b[0m",
      "\u001b[0;31mAssertionError\u001b[0m                            Traceback (most recent call last)",
      "Input \u001b[0;32mIn [175]\u001b[0m, in \u001b[0;36m<module>\u001b[0;34m\u001b[0m\n\u001b[0;32m----> 1\u001b[0m df \u001b[38;5;241m=\u001b[39m \u001b[43ma\u001b[49m\u001b[38;5;241;43m.\u001b[39;49m\u001b[43madd_feature\u001b[49m\u001b[43m(\u001b[49m\u001b[43mdf\u001b[49m\u001b[43m)\u001b[49m\n\u001b[1;32m      2\u001b[0m df\n",
      "File \u001b[0;32m~/Documents/Documents – Charlotte’s MacBook Pro 2/ML-postdoc-code/sbmlcore/sbmlcore/StructuralDistances.py:109\u001b[0m, in \u001b[0;36madd_feature\u001b[0;34m(self, other)\u001b[0m\n",
      "\u001b[0;31mAssertionError\u001b[0m: Too many NaNs! Have you defined your offsets correctly?"
     ]
    }
   ],
   "source": [
    "df = a.add_feature(df)\n",
    "df"
   ]
  },
  {
   "cell_type": "code",
   "execution_count": 143,
   "id": "296f9bea-7e7d-4f77-b800-a91acd0634c1",
   "metadata": {},
   "outputs": [
    {
     "name": "stdout",
     "output_type": "stream",
     "text": [
      "This is no rows: 6\n",
      "This is half the no rows, rounded down: 3\n",
      "This is total NaNs: 0\n"
     ]
    }
   ],
   "source": [
    "print(\"This is no rows:\", len(df['Mg_distance'])) #gives length of column 'Mg_distance'\n",
    "\n",
    "half_data = len(df['Mg_distance'])//2 # // divides and rounds DOWN to nearest int\n",
    "print(\"This is half the no rows, rounded down:\", half_data)\n",
    "\n",
    "total_nans = df['Mg_distance'].isna().sum()\n",
    "print(\"This is total NaNs:\", total_nans)\n",
    "\n",
    "if total_nans >= half_data:\n",
    "    print(\"Too many NaNs!\")"
   ]
  },
  {
   "cell_type": "code",
   "execution_count": 144,
   "id": "77e67654-38cd-44d6-8469-eab94154a046",
   "metadata": {},
   "outputs": [
    {
     "data": {
      "text/plain": [
       "59.36286708720095"
      ]
     },
     "execution_count": 144,
     "metadata": {},
     "output_type": "execute_result"
    }
   ],
   "source": [
    "df.loc[1, \"Mg_distance\"]"
   ]
  },
  {
   "cell_type": "code",
   "execution_count": 145,
   "id": "3c3eb021-5164-4302-9906-50a371ab331f",
   "metadata": {},
   "outputs": [
    {
     "data": {
      "text/plain": [
       "dtype('float64')"
      ]
     },
     "execution_count": 145,
     "metadata": {},
     "output_type": "execute_result"
    }
   ],
   "source": [
    "df.dtypes\n",
    "df['Mg_distance'].dtypes"
   ]
  },
  {
   "cell_type": "code",
   "execution_count": 154,
   "id": "d03539e0-78c3-4fb5-8b46-419d59189756",
   "metadata": {},
   "outputs": [
    {
     "name": "stdout",
     "output_type": "stream",
     "text": [
      "<class 'float'>\n",
      "<class 'float'>\n",
      "<class 'float'>\n",
      "<class 'float'>\n",
      "<class 'float'>\n",
      "<class 'float'>\n"
     ]
    }
   ],
   "source": [
    "for i in df['Mg_distance']:\n",
    "    print(type(i))\n",
    "    assert isinstance(i, float), \"Distances must be floats!\""
   ]
  },
  {
   "cell_type": "code",
   "execution_count": 165,
   "id": "9b09c01c-3c70-40bc-af5b-3099908a5a00",
   "metadata": {},
   "outputs": [],
   "source": [
    "a = sbmlcore.StructuralDistances('tests/5uh6.pdb','index 26082', 'Zn1_distance', offsets = {'A': 0, 'B': 0, 'C': -6})"
   ]
  },
  {
   "cell_type": "code",
   "execution_count": 166,
   "id": "2c9827a2-e56f-4dce-9a5a-059014630e33",
   "metadata": {},
   "outputs": [
    {
     "name": "stdout",
     "output_type": "stream",
     "text": [
      "This is no rows: 6\n",
      "This is half the no rows, rounded down: 3\n",
      "This is total NaNs: 0\n"
     ]
    },
    {
     "data": {
      "text/html": [
       "<div>\n",
       "<style scoped>\n",
       "    .dataframe tbody tr th:only-of-type {\n",
       "        vertical-align: middle;\n",
       "    }\n",
       "\n",
       "    .dataframe tbody tr th {\n",
       "        vertical-align: top;\n",
       "    }\n",
       "\n",
       "    .dataframe thead th {\n",
       "        text-align: right;\n",
       "    }\n",
       "</style>\n",
       "<table border=\"1\" class=\"dataframe\">\n",
       "  <thead>\n",
       "    <tr style=\"text-align: right;\">\n",
       "      <th></th>\n",
       "      <th>segid</th>\n",
       "      <th>mutation</th>\n",
       "      <th>Mg_distance</th>\n",
       "      <th>Zn1_distance</th>\n",
       "    </tr>\n",
       "  </thead>\n",
       "  <tbody>\n",
       "    <tr>\n",
       "      <th>0</th>\n",
       "      <td>A</td>\n",
       "      <td>I3D</td>\n",
       "      <td>58.457644</td>\n",
       "      <td>78.048700</td>\n",
       "    </tr>\n",
       "    <tr>\n",
       "      <th>1</th>\n",
       "      <td>A</td>\n",
       "      <td>S4K</td>\n",
       "      <td>59.362867</td>\n",
       "      <td>80.462392</td>\n",
       "    </tr>\n",
       "    <tr>\n",
       "      <th>2</th>\n",
       "      <td>A</td>\n",
       "      <td>Q5V</td>\n",
       "      <td>59.359265</td>\n",
       "      <td>81.153935</td>\n",
       "    </tr>\n",
       "    <tr>\n",
       "      <th>3</th>\n",
       "      <td>B</td>\n",
       "      <td>R6D</td>\n",
       "      <td>43.019331</td>\n",
       "      <td>66.699269</td>\n",
       "    </tr>\n",
       "    <tr>\n",
       "      <th>4</th>\n",
       "      <td>C</td>\n",
       "      <td>S450F</td>\n",
       "      <td>26.846155</td>\n",
       "      <td>58.280002</td>\n",
       "    </tr>\n",
       "    <tr>\n",
       "      <th>5</th>\n",
       "      <td>C</td>\n",
       "      <td>D435F</td>\n",
       "      <td>24.022115</td>\n",
       "      <td>61.736525</td>\n",
       "    </tr>\n",
       "  </tbody>\n",
       "</table>\n",
       "</div>"
      ],
      "text/plain": [
       "  segid mutation  Mg_distance  Zn1_distance\n",
       "0     A      I3D    58.457644     78.048700\n",
       "1     A      S4K    59.362867     80.462392\n",
       "2     A      Q5V    59.359265     81.153935\n",
       "3     B      R6D    43.019331     66.699269\n",
       "4     C    S450F    26.846155     58.280002\n",
       "5     C    D435F    24.022115     61.736525"
      ]
     },
     "execution_count": 166,
     "metadata": {},
     "output_type": "execute_result"
    }
   ],
   "source": [
    "df = a.add_feature(df)\n",
    "df"
   ]
  },
  {
   "cell_type": "code",
   "execution_count": 18,
   "id": "f93ad2a5-3319-42bb-a955-3c97860ed657",
   "metadata": {},
   "outputs": [],
   "source": [
    "a = sbmlcore.StructuralDistances('tests/5uh6.pdb','index 26083', 'Zn2_distance', offsets = {'A': 0, 'B': 0, 'C': -6})"
   ]
  },
  {
   "cell_type": "code",
   "execution_count": 19,
   "id": "47013645-b681-496c-b5a1-40c47c00498d",
   "metadata": {},
   "outputs": [
    {
     "data": {
      "text/html": [
       "<div>\n",
       "<style scoped>\n",
       "    .dataframe tbody tr th:only-of-type {\n",
       "        vertical-align: middle;\n",
       "    }\n",
       "\n",
       "    .dataframe tbody tr th {\n",
       "        vertical-align: top;\n",
       "    }\n",
       "\n",
       "    .dataframe thead th {\n",
       "        text-align: right;\n",
       "    }\n",
       "</style>\n",
       "<table border=\"1\" class=\"dataframe\">\n",
       "  <thead>\n",
       "    <tr style=\"text-align: right;\">\n",
       "      <th></th>\n",
       "      <th>segid</th>\n",
       "      <th>mutation</th>\n",
       "      <th>Zn_distance</th>\n",
       "      <th>Zn1_distance</th>\n",
       "      <th>Zn2_distance</th>\n",
       "    </tr>\n",
       "  </thead>\n",
       "  <tbody>\n",
       "    <tr>\n",
       "      <th>0</th>\n",
       "      <td>A</td>\n",
       "      <td>I3D</td>\n",
       "      <td>89.118035</td>\n",
       "      <td>78.048700</td>\n",
       "      <td>109.942803</td>\n",
       "    </tr>\n",
       "    <tr>\n",
       "      <th>1</th>\n",
       "      <td>A</td>\n",
       "      <td>S4K</td>\n",
       "      <td>90.249681</td>\n",
       "      <td>80.462392</td>\n",
       "      <td>110.049008</td>\n",
       "    </tr>\n",
       "    <tr>\n",
       "      <th>2</th>\n",
       "      <td>A</td>\n",
       "      <td>Q5V</td>\n",
       "      <td>89.621451</td>\n",
       "      <td>81.153935</td>\n",
       "      <td>108.503540</td>\n",
       "    </tr>\n",
       "    <tr>\n",
       "      <th>3</th>\n",
       "      <td>B</td>\n",
       "      <td>R6D</td>\n",
       "      <td>61.392973</td>\n",
       "      <td>66.699269</td>\n",
       "      <td>73.378286</td>\n",
       "    </tr>\n",
       "    <tr>\n",
       "      <th>4</th>\n",
       "      <td>C</td>\n",
       "      <td>S450F</td>\n",
       "      <td>48.693866</td>\n",
       "      <td>58.280002</td>\n",
       "      <td>60.337364</td>\n",
       "    </tr>\n",
       "    <tr>\n",
       "      <th>5</th>\n",
       "      <td>C</td>\n",
       "      <td>D435F</td>\n",
       "      <td>48.628675</td>\n",
       "      <td>61.736525</td>\n",
       "      <td>56.683942</td>\n",
       "    </tr>\n",
       "  </tbody>\n",
       "</table>\n",
       "</div>"
      ],
      "text/plain": [
       "  segid mutation  Zn_distance  Zn1_distance  Zn2_distance\n",
       "0     A      I3D    89.118035     78.048700    109.942803\n",
       "1     A      S4K    90.249681     80.462392    110.049008\n",
       "2     A      Q5V    89.621451     81.153935    108.503540\n",
       "3     B      R6D    61.392973     66.699269     73.378286\n",
       "4     C    S450F    48.693866     58.280002     60.337364\n",
       "5     C    D435F    48.628675     61.736525     56.683942"
      ]
     },
     "execution_count": 19,
     "metadata": {},
     "output_type": "execute_result"
    }
   ],
   "source": [
    "df = a.add_feature(df)\n",
    "df"
   ]
  },
  {
   "cell_type": "code",
   "execution_count": 81,
   "id": "97564a51-fc0a-4227-9ad2-1721a8a367b8",
   "metadata": {},
   "outputs": [],
   "source": [
    "rfp = sbmlcore.StructuralDistances('tests/5uh6.pdb','resname RFP', 'RFP distance', offsets = {'A': 0, 'B': 0, 'C': -5})"
   ]
  },
  {
   "cell_type": "code",
   "execution_count": 82,
   "id": "eb36749a-73df-4ea5-816e-9d64775e4077",
   "metadata": {},
   "outputs": [
    {
     "data": {
      "text/html": [
       "<div>\n",
       "<style scoped>\n",
       "    .dataframe tbody tr th:only-of-type {\n",
       "        vertical-align: middle;\n",
       "    }\n",
       "\n",
       "    .dataframe tbody tr th {\n",
       "        vertical-align: top;\n",
       "    }\n",
       "\n",
       "    .dataframe thead th {\n",
       "        text-align: right;\n",
       "    }\n",
       "</style>\n",
       "<table border=\"1\" class=\"dataframe\">\n",
       "  <thead>\n",
       "    <tr style=\"text-align: right;\">\n",
       "      <th></th>\n",
       "      <th>segid</th>\n",
       "      <th>mutation</th>\n",
       "      <th>Zn_distance</th>\n",
       "      <th>55</th>\n",
       "      <th>RFP distance</th>\n",
       "    </tr>\n",
       "  </thead>\n",
       "  <tbody>\n",
       "    <tr>\n",
       "      <th>0</th>\n",
       "      <td>A</td>\n",
       "      <td>I3D</td>\n",
       "      <td>89.118035</td>\n",
       "      <td>76.681586</td>\n",
       "      <td>76.681586</td>\n",
       "    </tr>\n",
       "    <tr>\n",
       "      <th>1</th>\n",
       "      <td>A</td>\n",
       "      <td>S4K</td>\n",
       "      <td>90.249681</td>\n",
       "      <td>76.972108</td>\n",
       "      <td>76.972108</td>\n",
       "    </tr>\n",
       "    <tr>\n",
       "      <th>2</th>\n",
       "      <td>A</td>\n",
       "      <td>Q5V</td>\n",
       "      <td>89.621451</td>\n",
       "      <td>76.589376</td>\n",
       "      <td>76.589376</td>\n",
       "    </tr>\n",
       "    <tr>\n",
       "      <th>3</th>\n",
       "      <td>B</td>\n",
       "      <td>R6D</td>\n",
       "      <td>61.392973</td>\n",
       "      <td>55.914038</td>\n",
       "      <td>55.914038</td>\n",
       "    </tr>\n",
       "    <tr>\n",
       "      <th>4</th>\n",
       "      <td>C</td>\n",
       "      <td>S450F</td>\n",
       "      <td>48.693866</td>\n",
       "      <td>NaN</td>\n",
       "      <td>NaN</td>\n",
       "    </tr>\n",
       "    <tr>\n",
       "      <th>5</th>\n",
       "      <td>C</td>\n",
       "      <td>D435F</td>\n",
       "      <td>48.628675</td>\n",
       "      <td>NaN</td>\n",
       "      <td>NaN</td>\n",
       "    </tr>\n",
       "  </tbody>\n",
       "</table>\n",
       "</div>"
      ],
      "text/plain": [
       "  segid mutation  Zn_distance         55  RFP distance\n",
       "0     A      I3D    89.118035  76.681586     76.681586\n",
       "1     A      S4K    90.249681  76.972108     76.972108\n",
       "2     A      Q5V    89.621451  76.589376     76.589376\n",
       "3     B      R6D    61.392973  55.914038     55.914038\n",
       "4     C    S450F    48.693866        NaN           NaN\n",
       "5     C    D435F    48.628675        NaN           NaN"
      ]
     },
     "execution_count": 82,
     "metadata": {},
     "output_type": "execute_result"
    }
   ],
   "source": [
    "df = rfp.add_feature(df)\n",
    "df"
   ]
  },
  {
   "cell_type": "code",
   "execution_count": 27,
   "id": "17afda45-42f0-4e17-9723-1dcd7c6b4e21",
   "metadata": {},
   "outputs": [
    {
     "data": {
      "text/plain": [
       "0    76.681586\n",
       "1    76.972108\n",
       "2    76.589376\n",
       "3    55.914038\n",
       "4          NaN\n",
       "5          NaN\n",
       "Name: RFP_distance, dtype: float64"
      ]
     },
     "execution_count": 27,
     "metadata": {},
     "output_type": "execute_result"
    }
   ],
   "source": [
    "df['RFP_distance']"
   ]
  },
  {
   "cell_type": "code",
   "execution_count": 110,
   "id": "5be8c4fb-4f9b-41d2-b6f2-6c85813fc406",
   "metadata": {},
   "outputs": [
    {
     "ename": "AssertionError",
     "evalue": "Atom selection does not exist! Is your selection using the correct MDAnalysis syntax?",
     "output_type": "error",
     "traceback": [
      "\u001b[0;31m---------------------------------------------------------------------------\u001b[0m",
      "\u001b[0;31mAssertionError\u001b[0m                            Traceback (most recent call last)",
      "\u001b[0;32m/var/folders/r0/pkdkgy3s32v47mrcf6rzdf240000gq/T/ipykernel_55702/1847564387.py\u001b[0m in \u001b[0;36m<module>\u001b[0;34m\u001b[0m\n\u001b[0;32m----> 1\u001b[0;31m \u001b[0mmg\u001b[0m \u001b[0;34m=\u001b[0m \u001b[0msbmlcore\u001b[0m\u001b[0;34m.\u001b[0m\u001b[0mStructuralDistances\u001b[0m\u001b[0;34m(\u001b[0m\u001b[0;34m'tests/5uh6.pdb'\u001b[0m\u001b[0;34m,\u001b[0m\u001b[0;34m'resname MG1'\u001b[0m\u001b[0;34m,\u001b[0m \u001b[0;34m'Mg_distance'\u001b[0m\u001b[0;34m,\u001b[0m \u001b[0moffsets\u001b[0m \u001b[0;34m=\u001b[0m \u001b[0;34m{\u001b[0m\u001b[0;34m'A'\u001b[0m\u001b[0;34m:\u001b[0m \u001b[0;36m0\u001b[0m\u001b[0;34m,\u001b[0m \u001b[0;34m'B'\u001b[0m\u001b[0;34m:\u001b[0m \u001b[0;36m0\u001b[0m\u001b[0;34m,\u001b[0m \u001b[0;34m'C'\u001b[0m\u001b[0;34m:\u001b[0m \u001b[0;34m-\u001b[0m\u001b[0;36m6\u001b[0m\u001b[0;34m}\u001b[0m\u001b[0;34m)\u001b[0m\u001b[0;34m\u001b[0m\u001b[0;34m\u001b[0m\u001b[0m\n\u001b[0m",
      "\u001b[0;32m~/Documents/Documents – Charlotte’s MacBook Pro 2/ML-postdoc-code/sbmlcore/sbmlcore/StructuralDistances.py\u001b[0m in \u001b[0;36m__init__\u001b[0;34m(self, pdb_file, distance_selection, distance_name, offsets)\u001b[0m\n\u001b[1;32m     23\u001b[0m         \u001b[0mreference_com\u001b[0m \u001b[0;34m=\u001b[0m \u001b[0mu\u001b[0m\u001b[0;34m.\u001b[0m\u001b[0mselect_atoms\u001b[0m\u001b[0;34m(\u001b[0m\u001b[0mdistance_selection\u001b[0m\u001b[0;34m)\u001b[0m\u001b[0;34m.\u001b[0m\u001b[0mcenter_of_mass\u001b[0m\u001b[0;34m(\u001b[0m\u001b[0;34m)\u001b[0m\u001b[0;34m\u001b[0m\u001b[0;34m\u001b[0m\u001b[0m\n\u001b[1;32m     24\u001b[0m         \u001b[0;31m#Check atom selection exists\u001b[0m\u001b[0;34m\u001b[0m\u001b[0;34m\u001b[0m\u001b[0m\n\u001b[0;32m---> 25\u001b[0;31m         \u001b[0;32massert\u001b[0m \u001b[0mu\u001b[0m\u001b[0;34m.\u001b[0m\u001b[0mselect_atoms\u001b[0m\u001b[0;34m(\u001b[0m\u001b[0mdistance_selection\u001b[0m\u001b[0;34m)\u001b[0m\u001b[0;34m.\u001b[0m\u001b[0mn_atoms\u001b[0m \u001b[0;34m>\u001b[0m \u001b[0;36m0\u001b[0m\u001b[0;34m,\u001b[0m \u001b[0;34m\"Atom selection does not exist! Is your selection using the correct MDAnalysis syntax?\"\u001b[0m\u001b[0;34m\u001b[0m\u001b[0;34m\u001b[0m\u001b[0m\n\u001b[0m\u001b[1;32m     26\u001b[0m \u001b[0;34m\u001b[0m\u001b[0m\n\u001b[1;32m     27\u001b[0m         \u001b[0;31m# apply any offsets to the residue numbering\u001b[0m\u001b[0;34m\u001b[0m\u001b[0;34m\u001b[0m\u001b[0m\n",
      "\u001b[0;31mAssertionError\u001b[0m: Atom selection does not exist! Is your selection using the correct MDAnalysis syntax?"
     ]
    }
   ],
   "source": [
    "mg1 = sbmlcore.StructuralDistances('tests/5uh6.pdb','resname MG1', 'Mg_distance', offsets = {'A': 0, 'B': 0, 'C': -6})"
   ]
  },
  {
   "cell_type": "code",
   "execution_count": 111,
   "id": "9e84b915-1997-427f-a73d-4ee9e3d4dd60",
   "metadata": {},
   "outputs": [
    {
     "ename": "AssertionError",
     "evalue": "You've already added that feature!",
     "output_type": "error",
     "traceback": [
      "\u001b[0;31m---------------------------------------------------------------------------\u001b[0m",
      "\u001b[0;31mAssertionError\u001b[0m                            Traceback (most recent call last)",
      "\u001b[0;32m/var/folders/r0/pkdkgy3s32v47mrcf6rzdf240000gq/T/ipykernel_55702/3888737452.py\u001b[0m in \u001b[0;36m<module>\u001b[0;34m\u001b[0m\n\u001b[0;32m----> 1\u001b[0;31m \u001b[0mdf\u001b[0m \u001b[0;34m=\u001b[0m \u001b[0mmg\u001b[0m\u001b[0;34m.\u001b[0m\u001b[0madd_feature\u001b[0m\u001b[0;34m(\u001b[0m\u001b[0mdf\u001b[0m\u001b[0;34m)\u001b[0m\u001b[0;34m\u001b[0m\u001b[0;34m\u001b[0m\u001b[0m\n\u001b[0m\u001b[1;32m      2\u001b[0m \u001b[0mdf\u001b[0m\u001b[0;34m\u001b[0m\u001b[0;34m\u001b[0m\u001b[0m\n",
      "\u001b[0;32m~/Documents/Documents – Charlotte’s MacBook Pro 2/ML-postdoc-code/sbmlcore/sbmlcore/StructuralDistances.py\u001b[0m in \u001b[0;36madd_feature\u001b[0;34m(self, other)\u001b[0m\n\u001b[1;32m     56\u001b[0m         \u001b[0;32massert\u001b[0m \u001b[0misinstance\u001b[0m\u001b[0;34m(\u001b[0m\u001b[0mother\u001b[0m\u001b[0;34m,\u001b[0m \u001b[0mpandas\u001b[0m\u001b[0;34m.\u001b[0m\u001b[0mDataFrame\u001b[0m\u001b[0;34m)\u001b[0m\u001b[0;34m,\u001b[0m \u001b[0;34m\"You must be adding the extra feature to an existing dataframe!\"\u001b[0m\u001b[0;34m\u001b[0m\u001b[0;34m\u001b[0m\u001b[0m\n\u001b[1;32m     57\u001b[0m \u001b[0;34m\u001b[0m\u001b[0m\n\u001b[0;32m---> 58\u001b[0;31m         \u001b[0;32massert\u001b[0m \u001b[0mself\u001b[0m\u001b[0;34m.\u001b[0m\u001b[0mdistance_name\u001b[0m \u001b[0;32mnot\u001b[0m \u001b[0;32min\u001b[0m \u001b[0mother\u001b[0m\u001b[0;34m.\u001b[0m\u001b[0mcolumns\u001b[0m\u001b[0;34m,\u001b[0m \u001b[0;34m\"You've already added that feature!\"\u001b[0m\u001b[0;34m\u001b[0m\u001b[0;34m\u001b[0m\u001b[0m\n\u001b[0m\u001b[1;32m     59\u001b[0m \u001b[0;34m\u001b[0m\u001b[0m\n\u001b[1;32m     60\u001b[0m         \u001b[0;32massert\u001b[0m \u001b[0;34m'mutation'\u001b[0m \u001b[0;32min\u001b[0m \u001b[0mother\u001b[0m\u001b[0;34m.\u001b[0m\u001b[0mcolumns\u001b[0m\u001b[0;34m,\u001b[0m \u001b[0;34m\"Passed dataframe must contain a column called mutation\"\u001b[0m\u001b[0;34m\u001b[0m\u001b[0;34m\u001b[0m\u001b[0m\n",
      "\u001b[0;31mAssertionError\u001b[0m: You've already added that feature!"
     ]
    }
   ],
   "source": [
    "df = mg1.add_feature(df)\n",
    "df"
   ]
  },
  {
   "cell_type": "code",
   "execution_count": 70,
   "id": "e7dadecc-beca-4e63-9fa3-8dfdf1a67f8b",
   "metadata": {},
   "outputs": [],
   "source": [
    "import MDAnalysis\n",
    "u = MDAnalysis.Universe(\"tests/5uh6.pdb\")"
   ]
  },
  {
   "cell_type": "code",
   "execution_count": 79,
   "id": "5407e09e-9448-44e1-bc1f-7f32c4d42bab",
   "metadata": {},
   "outputs": [
    {
     "name": "stdout",
     "output_type": "stream",
     "text": [
      "<AtomGroup [<Atom 1: N of type N of resname ILE, resid 3 and segid A and altLoc >, <Atom 2: CA of type C of resname ILE, resid 3 and segid A and altLoc >, <Atom 3: C of type C of resname ILE, resid 3 and segid A and altLoc >, ..., <Atom 1702: CG of type C of resname ASN, resid 226 and segid A and altLoc >, <Atom 1703: OD1 of type O of resname ASN, resid 226 and segid A and altLoc >, <Atom 1704: ND2 of type N of resname ASN, resid 226 and segid A and altLoc >]>\n",
      "[  3   4   5   6   7   8   9  10  11  12  13  14  15  16  17  18  19  20\n",
      "  21  22  23  24  25  26  27  28  29  30  31  32  33  34  35  36  37  38\n",
      "  39  40  41  42  43  44  45  46  47  48  49  50  51  52  53  54  55  56\n",
      "  57  58  59  60  61  62  63  64  65  66  67  68  69  70  71  72  73  74\n",
      "  75  76  77  78  79  80  81  82  83  84  85  86  87  88  89  90  91  92\n",
      "  93  94  95  96  97  98  99 100 101 102 103 104 105 106 107 108 109 110\n",
      " 111 112 113 114 115 116 117 118 119 120 121 122 123 124 125 126 127 128\n",
      " 129 130 131 132 133 134 135 136 137 138 139 140 141 142 143 144 145 146\n",
      " 147 148 149 150 151 152 153 154 155 156 157 158 159 160 161 162 163 164\n",
      " 165 166 167 168 169 170 171 172 173 174 175 176 177 178 179 180 181 182\n",
      " 183 184 185 186 187 188 189 190 191 192 193 194 195 196 197 198 199 200\n",
      " 201 202 203 204 205 206 207 208 209 210 211 212 213 214 215 216 217 218\n",
      " 219 220 221 222 223 224 225 226]\n",
      "<class 'numpy.ndarray'>\n",
      "<AtomGroup [<Atom 1: N of type N of resname ILE, resid 3 and segid A and altLoc >, <Atom 2: CA of type C of resname ILE, resid 3 and segid A and altLoc >, <Atom 3: C of type C of resname ILE, resid 3 and segid A and altLoc >, ..., <Atom 1702: CG of type C of resname ASN, resid 226 and segid A and altLoc >, <Atom 1703: OD1 of type O of resname ASN, resid 226 and segid A and altLoc >, <Atom 1704: ND2 of type N of resname ASN, resid 226 and segid A and altLoc >]>\n",
      "[  6   7   8   9  10  11  12  13  14  15  16  17  18  19  20  21  22  23\n",
      "  24  25  26  27  28  29  30  31  32  33  34  35  36  37  38  39  40  41\n",
      "  42  43  44  45  46  47  48  49  50  51  52  53  54  55  56  57  58  59\n",
      "  60  61  62  63  64  65  66  67  68  69  70  71  72  73  74  75  76  77\n",
      "  78  79  80  81  82  83  84  85  86  87  88  89  90  91  92  93  94  95\n",
      "  96  97  98  99 100 101 102 103 104 105 106 107 108 109 110 111 112 113\n",
      " 114 115 116 117 118 119 120 121 122 123 124 125 126 127 128 129 130 131\n",
      " 132 133 134 135 136 137 138 139 140 141 142 143 144 145 146 147 148 149\n",
      " 150 151 152 153 154 157 158 159 160 161 162 163 164 165 166 167 168 169\n",
      " 170 171 172 173 174 175 176 177 178 179 180 181 182 183 184 185 186 187\n",
      " 188 189 190 191 192 193 194 195 196 197 198 199 200 201 202 203 204 205\n",
      " 206 207 208 209 210 211 212 213 214 215 216 217 218 219 220 221 222 223\n",
      " 224 225 226 227 228 229 230 231 232]\n",
      "<class 'numpy.ndarray'>\n",
      "<AtomGroup [<Atom 1: N of type N of resname ILE, resid 3 and segid A and altLoc >, <Atom 2: CA of type C of resname ILE, resid 3 and segid A and altLoc >, <Atom 3: C of type C of resname ILE, resid 3 and segid A and altLoc >, ..., <Atom 1702: CG of type C of resname ASN, resid 226 and segid A and altLoc >, <Atom 1703: OD1 of type O of resname ASN, resid 226 and segid A and altLoc >, <Atom 1704: ND2 of type N of resname ASN, resid 226 and segid A and altLoc >]>\n",
      "[  -2   -1    0 ... 1122 1123 1171]\n",
      "<class 'numpy.ndarray'>\n"
     ]
    }
   ],
   "source": [
    "offsets = {'A': 0, 'B': 0, 'C': -6}\n",
    "for chain in offsets:\n",
    "    chain_nooffset = u.select_atoms('segid ' + 'A')\n",
    "    print(chain_nooffset)\n",
    "    chainGroup = u.select_atoms('segid ' + chain)\n",
    "    #print(chainGroup)\n",
    "    chainGroup.residues.resids = chainGroup.residues.resids + offsets[chain]\n",
    "    print(chainGroup.residues.resids)\n",
    "    print(type(chainGroup.residues.resids))"
   ]
  },
  {
   "cell_type": "code",
   "execution_count": 91,
   "id": "5a34360d-b3e0-41a1-9916-e2cd57f49c22",
   "metadata": {},
   "outputs": [],
   "source": [
    "dist = MDAnalysis.lib.distances.distance_array(u.select_atoms(\"resname MG\").positions, u.select_atoms(\"resname ZN\").positions)"
   ]
  },
  {
   "cell_type": "code",
   "execution_count": 92,
   "id": "c8783852-149d-401e-b3e4-f572e001f61e",
   "metadata": {},
   "outputs": [
    {
     "data": {
      "text/plain": [
       "array([[41.85556056, 61.94065611]])"
      ]
     },
     "execution_count": 92,
     "metadata": {},
     "output_type": "execute_result"
    }
   ],
   "source": [
    "dist"
   ]
  },
  {
   "cell_type": "code",
   "execution_count": 93,
   "id": "cd1c3335-d4e9-4c53-88ed-de2adfbb0aec",
   "metadata": {},
   "outputs": [
    {
     "data": {
      "text/plain": [
       "array([41.85556056, 61.94065611])"
      ]
     },
     "execution_count": 93,
     "metadata": {},
     "output_type": "execute_result"
    }
   ],
   "source": [
    "dist[0]"
   ]
  },
  {
   "cell_type": "code",
   "execution_count": 94,
   "id": "37ad8c81-a008-4a41-9a46-aa005f8b02ab",
   "metadata": {},
   "outputs": [],
   "source": [
    "amino_acid_3to1letter = {'CYS': 'C', 'ASP': 'D', 'SER': 'S', 'GLN': 'Q', 'LYS': 'K',\n",
    "     'ILE': 'I', 'PRO': 'P', 'THR': 'T', 'PHE': 'F', 'ASN': 'N',\n",
    "     'GLY': 'G', 'HIS': 'H', 'LEU': 'L', 'ARG': 'R', 'TRP': 'W',\n",
    "     'ALA': 'A', 'VAL':'V', 'GLU': 'E', 'TYR': 'Y', 'MET': 'M'}"
   ]
  },
  {
   "cell_type": "code",
   "execution_count": 95,
   "id": "660c8266-0b23-4b41-80c6-a3c52c45ddcc",
   "metadata": {},
   "outputs": [],
   "source": [
    "def one_letter(row):\n",
    "            return(amino_acid_3to1letter[row.resname])"
   ]
  },
  {
   "cell_type": "code",
   "execution_count": 107,
   "id": "5a3f4541-d639-411f-92bc-a91ac57de5f9",
   "metadata": {},
   "outputs": [
    {
     "ename": "NameError",
     "evalue": "name 'reference_com' is not defined",
     "output_type": "error",
     "traceback": [
      "\u001b[0;31m---------------------------------------------------------------------------\u001b[0m",
      "\u001b[0;31mNameError\u001b[0m                                 Traceback (most recent call last)",
      "\u001b[0;32m/var/folders/r0/pkdkgy3s32v47mrcf6rzdf240000gq/T/ipykernel_55702/3452421250.py\u001b[0m in \u001b[0;36m<module>\u001b[0;34m\u001b[0m\n\u001b[1;32m      2\u001b[0m \u001b[0mCa_all\u001b[0m \u001b[0;34m=\u001b[0m \u001b[0mu\u001b[0m\u001b[0;34m.\u001b[0m\u001b[0mselect_atoms\u001b[0m\u001b[0;34m(\u001b[0m\u001b[0;34m\"name CA\"\u001b[0m\u001b[0;34m)\u001b[0m\u001b[0;34m\u001b[0m\u001b[0;34m\u001b[0m\u001b[0m\n\u001b[1;32m      3\u001b[0m \u001b[0;34m\u001b[0m\u001b[0m\n\u001b[0;32m----> 4\u001b[0;31m \u001b[0mdistances\u001b[0m \u001b[0;34m=\u001b[0m \u001b[0mMDAnalysis\u001b[0m\u001b[0;34m.\u001b[0m\u001b[0mlib\u001b[0m\u001b[0;34m.\u001b[0m\u001b[0mdistances\u001b[0m\u001b[0;34m.\u001b[0m\u001b[0mdistance_array\u001b[0m\u001b[0;34m(\u001b[0m\u001b[0mreference_com\u001b[0m\u001b[0;34m,\u001b[0m \u001b[0mCa_all\u001b[0m\u001b[0;34m.\u001b[0m\u001b[0mpositions\u001b[0m\u001b[0;34m)\u001b[0m\u001b[0;34m\u001b[0m\u001b[0;34m\u001b[0m\u001b[0m\n\u001b[0m\u001b[1;32m      5\u001b[0m \u001b[0;34m\u001b[0m\u001b[0m\n\u001b[1;32m      6\u001b[0m Ca_data = {'segid': Ca_all.segids, 'resid': Ca_all.resids,\n",
      "\u001b[0;31mNameError\u001b[0m: name 'reference_com' is not defined"
     ]
    }
   ],
   "source": [
    "mg = sbmlcore.StructuralDistances('tests/5uh6.pdb','resname MG', 'Mg_distance', offsets = {'A': 0, 'B': 0, 'C': -6})\n",
    "Ca_all = u.select_atoms(\"name CA\")\n",
    "\n",
    "\n",
    "distances = MDAnalysis.lib.distances.distance_array(reference_com, Ca_all.positions)\n",
    "\n",
    "Ca_data = {'segid': Ca_all.segids, 'resid': Ca_all.resids,\n",
    "                   'resname': Ca_all.resnames, distance_name: distances[0]}"
   ]
  },
  {
   "cell_type": "code",
   "execution_count": null,
   "id": "36a75be2-7714-484e-926c-ec17c2bc420f",
   "metadata": {},
   "outputs": [],
   "source": []
  }
 ],
 "metadata": {
  "kernelspec": {
   "display_name": "Python 3 (ipykernel)",
   "language": "python",
   "name": "python3"
  },
  "language_info": {
   "codemirror_mode": {
    "name": "ipython",
    "version": 3
   },
   "file_extension": ".py",
   "mimetype": "text/x-python",
   "name": "python",
   "nbconvert_exporter": "python",
   "pygments_lexer": "ipython3",
   "version": "3.9.9"
  }
 },
 "nbformat": 4,
 "nbformat_minor": 5
}
