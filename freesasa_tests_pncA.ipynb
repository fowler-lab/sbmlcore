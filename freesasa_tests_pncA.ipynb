{
 "cells": [
  {
   "cell_type": "code",
   "execution_count": 222,
   "id": "9fa610e6-e0e1-4731-9d35-eee136698e88",
   "metadata": {},
   "outputs": [
    {
     "name": "stdout",
     "output_type": "stream",
     "text": [
      "The autoreload extension is already loaded. To reload it, use:\n",
      "  %reload_ext autoreload\n"
     ]
    }
   ],
   "source": [
    "import sbmlcore, pandas, numpy, pytest\n",
    "import freesasa\n",
    "import os.path\n",
    "%load_ext autoreload\n",
    "%autoreload 2"
   ]
  },
  {
   "cell_type": "markdown",
   "id": "01f004f6-27e7-40c0-9d94-5abb144fdd08",
   "metadata": {},
   "source": [
    "Documentation on installing: https://freesasa.github.io/ </br>\n",
    "Documentation on using: https://freesasa.github.io/python/intro.html </br>\n",
    "Documentation on classes: https://freesasa.github.io/python/classes.html </br>\n",
    "Selection syntax (N.B. uses Pymol syntax!): https://freesasa.github.io/doxygen/Selection.html"
   ]
  },
  {
   "cell_type": "code",
   "execution_count": 141,
   "id": "87cbe4f4-030a-4b9f-83d5-91559703fb7f",
   "metadata": {
    "tags": []
   },
   "outputs": [
    {
     "name": "stdout",
     "output_type": "stream",
     "text": [
      "Total : 8544.47 A2\n",
      "Polar : 3938.05 A2\n",
      "Apolar : 4606.42 A2\n",
      "Total number of atoms:  1372\n",
      "Atom area for atom 5 in A^2 14.037357366842954\n",
      "<freesasa.ResidueArea object at 0x16ea14370>\n",
      "alanine : 707.16 A2\n",
      "r1_10 : 159.29 A2\n",
      "{'r1': 96.20442808708866, 'r1_10': 159.289093338855}\n",
      "{'resid2': 57.3917691721817, 'r3': 0.0, 'r4': 0.1038304284352447}\n",
      "<class 'dict'>\n"
     ]
    },
    {
     "data": {
      "text/html": [
       "<div>\n",
       "<style scoped>\n",
       "    .dataframe tbody tr th:only-of-type {\n",
       "        vertical-align: middle;\n",
       "    }\n",
       "\n",
       "    .dataframe tbody tr th {\n",
       "        vertical-align: top;\n",
       "    }\n",
       "\n",
       "    .dataframe thead th {\n",
       "        text-align: right;\n",
       "    }\n",
       "</style>\n",
       "<table border=\"1\" class=\"dataframe\">\n",
       "  <thead>\n",
       "    <tr style=\"text-align: right;\">\n",
       "      <th></th>\n",
       "      <th>segid</th>\n",
       "      <th>mutation</th>\n",
       "    </tr>\n",
       "  </thead>\n",
       "  <tbody>\n",
       "    <tr>\n",
       "      <th>0</th>\n",
       "      <td>A</td>\n",
       "      <td>M1D</td>\n",
       "    </tr>\n",
       "    <tr>\n",
       "      <th>1</th>\n",
       "      <td>A</td>\n",
       "      <td>R2K</td>\n",
       "    </tr>\n",
       "    <tr>\n",
       "      <th>2</th>\n",
       "      <td>A</td>\n",
       "      <td>A3V</td>\n",
       "    </tr>\n",
       "  </tbody>\n",
       "</table>\n",
       "</div>"
      ],
      "text/plain": [
       "  segid mutation\n",
       "0     A      M1D\n",
       "1     A      R2K\n",
       "2     A      A3V"
      ]
     },
     "execution_count": 141,
     "metadata": {},
     "output_type": "execute_result"
    }
   ],
   "source": [
    "#Test for pncA structure\n",
    "structure = freesasa.Structure(\"tests/3pl1.pdb\")\n",
    "result = freesasa.calc(structure)\n",
    "area_classes = freesasa.classifyResults(result, structure)\n",
    "\n",
    "print(\"Total : %.2f A2\" % result.totalArea())\n",
    "for key in area_classes:\n",
    "    print(key, \": %.2f A2\" % area_classes[key])\n",
    "    \n",
    "print(\"Total number of atoms: \", result.nAtoms())\n",
    "print(\"Atom area for atom 5 in A^2\", result.atomArea(5))\n",
    "#print(\"Residue area for resid 5\", result.residueAreas()) #seems to return objects, not floats...\n",
    "\n",
    "res_areas = result.residueAreas()\n",
    "print(res_areas[\"A\"][\"5\"])\n",
    "\n",
    "#To get SASA of different residues, uses Pymol syntax\n",
    "# ('selection-name, selector', 'selection-name, selector')\n",
    "# Notes on syntax are here: https://freesasa.github.io/doxygen/Selection.html\n",
    "selections = freesasa.selectArea(('alanine, resn ala', 'r1_10, resi 1-10'), \n",
    "                                 structure, result)\n",
    "for key in selections:\n",
    "    print(key, \": %.2f A2\" % selections[key])\n",
    "\n",
    "first_residue = freesasa.selectArea(('alanine, resn ala', 'proline, resn pro'), structure, result)\n",
    "first_residue = freesasa.selectArea(['r1, resi 1', 'r1_10, resi 1-10'], \n",
    "                                 structure, result)\n",
    "print(first_residue)\n",
    "\n",
    "second_third_fourth_residue = freesasa.selectArea(('resid2, chain A and resi 2', 'r3, resi 3', 'r4, resi 4'), \n",
    "                                 structure, result)\n",
    "\n",
    "print(second_third_fourth_residue)\n",
    "print(type(second_third_fourth_residue))\n",
    "\n",
    "b = {'segid': ['A', 'A', 'A'], 'mutation': ['M1D','R2K', 'A3V']}\n",
    "df = pandas.DataFrame.from_dict(b)\n",
    "df\n",
    "\n",
    "# [i for i in range(10)]\n",
    "#test = freesasa.Classifier.classify('alanine, resn ala') #Doesn't take str as argument, but documentation says it does? https://freesasa.github.io/python/classes.html "
   ]
  },
  {
   "cell_type": "code",
   "execution_count": 142,
   "id": "4631a237-0283-474d-9119-93ac83f1aa9a",
   "metadata": {},
   "outputs": [
    {
     "data": {
      "text/html": [
       "<div>\n",
       "<style scoped>\n",
       "    .dataframe tbody tr th:only-of-type {\n",
       "        vertical-align: middle;\n",
       "    }\n",
       "\n",
       "    .dataframe tbody tr th {\n",
       "        vertical-align: top;\n",
       "    }\n",
       "\n",
       "    .dataframe thead th {\n",
       "        text-align: right;\n",
       "    }\n",
       "</style>\n",
       "<table border=\"1\" class=\"dataframe\">\n",
       "  <thead>\n",
       "    <tr style=\"text-align: right;\">\n",
       "      <th></th>\n",
       "      <th>segid</th>\n",
       "      <th>mutation</th>\n",
       "      <th>resid</th>\n",
       "    </tr>\n",
       "    <tr>\n",
       "      <th>id</th>\n",
       "      <th></th>\n",
       "      <th></th>\n",
       "      <th></th>\n",
       "    </tr>\n",
       "  </thead>\n",
       "  <tbody>\n",
       "    <tr>\n",
       "      <th>A1</th>\n",
       "      <td>A</td>\n",
       "      <td>M1D</td>\n",
       "      <td>1</td>\n",
       "    </tr>\n",
       "    <tr>\n",
       "      <th>A2</th>\n",
       "      <td>A</td>\n",
       "      <td>R2K</td>\n",
       "      <td>2</td>\n",
       "    </tr>\n",
       "    <tr>\n",
       "      <th>A3</th>\n",
       "      <td>A</td>\n",
       "      <td>A3V</td>\n",
       "      <td>3</td>\n",
       "    </tr>\n",
       "  </tbody>\n",
       "</table>\n",
       "</div>"
      ],
      "text/plain": [
       "   segid mutation  resid\n",
       "id                      \n",
       "A1     A      M1D      1\n",
       "A2     A      R2K      2\n",
       "A3     A      A3V      3"
      ]
     },
     "execution_count": 142,
     "metadata": {},
     "output_type": "execute_result"
    }
   ],
   "source": [
    "def split_mutation(row):\n",
    "    m=row.mutation\n",
    "    return(int(m[1:-1]))\n",
    "\n",
    "df['resid'] = df.apply(split_mutation, axis=1)\n",
    "df['id'] = df['segid'] + df['resid'].astype(str)\n",
    "df.set_index('id', inplace=True)\n",
    "df"
   ]
  },
  {
   "cell_type": "code",
   "execution_count": 143,
   "id": "fb856bdd-c3a5-4ff4-9a33-0f39c61c4ca4",
   "metadata": {},
   "outputs": [
    {
     "data": {
      "text/plain": [
       "['A1, resi 1 and chain A', 'A2, resi 2 and chain A', 'A3, resi 3 and chain A']"
      ]
     },
     "execution_count": 143,
     "metadata": {},
     "output_type": "execute_result"
    }
   ],
   "source": [
    "sele_text = [\"%s%i, resi %i and chain %s\" % (j,i,i,j) for i,j in zip(df.resid, df.segid)]\n",
    "sele_text"
   ]
  },
  {
   "cell_type": "code",
   "execution_count": 144,
   "id": "5696c645-d0d1-4842-a0c5-041d2018bac5",
   "metadata": {},
   "outputs": [
    {
     "name": "stdout",
     "output_type": "stream",
     "text": [
      "{'A1': 96.20442808708866, 'A2': 57.3917691721817, 'A3': 0.0}\n"
     ]
    },
    {
     "data": {
      "text/html": [
       "<div>\n",
       "<style scoped>\n",
       "    .dataframe tbody tr th:only-of-type {\n",
       "        vertical-align: middle;\n",
       "    }\n",
       "\n",
       "    .dataframe tbody tr th {\n",
       "        vertical-align: top;\n",
       "    }\n",
       "\n",
       "    .dataframe thead th {\n",
       "        text-align: right;\n",
       "    }\n",
       "</style>\n",
       "<table border=\"1\" class=\"dataframe\">\n",
       "  <thead>\n",
       "    <tr style=\"text-align: right;\">\n",
       "      <th></th>\n",
       "      <th>surface_area</th>\n",
       "    </tr>\n",
       "  </thead>\n",
       "  <tbody>\n",
       "    <tr>\n",
       "      <th>A1</th>\n",
       "      <td>96.204428</td>\n",
       "    </tr>\n",
       "    <tr>\n",
       "      <th>A2</th>\n",
       "      <td>57.391769</td>\n",
       "    </tr>\n",
       "    <tr>\n",
       "      <th>A3</th>\n",
       "      <td>0.000000</td>\n",
       "    </tr>\n",
       "  </tbody>\n",
       "</table>\n",
       "</div>"
      ],
      "text/plain": [
       "    surface_area\n",
       "A1     96.204428\n",
       "A2     57.391769\n",
       "A3      0.000000"
      ]
     },
     "execution_count": 144,
     "metadata": {},
     "output_type": "execute_result"
    }
   ],
   "source": [
    "results = freesasa.selectArea(sele_text, structure, result)\n",
    "print(results)\n",
    "s = pandas.Series(results)\n",
    "b = pandas.DataFrame(s, columns=['surface_area'])\n",
    "b"
   ]
  },
  {
   "cell_type": "code",
   "execution_count": 145,
   "id": "73149ffa-69ab-497b-942c-b9f1f32114e6",
   "metadata": {},
   "outputs": [
    {
     "data": {
      "text/html": [
       "<div>\n",
       "<style scoped>\n",
       "    .dataframe tbody tr th:only-of-type {\n",
       "        vertical-align: middle;\n",
       "    }\n",
       "\n",
       "    .dataframe tbody tr th {\n",
       "        vertical-align: top;\n",
       "    }\n",
       "\n",
       "    .dataframe thead th {\n",
       "        text-align: right;\n",
       "    }\n",
       "</style>\n",
       "<table border=\"1\" class=\"dataframe\">\n",
       "  <thead>\n",
       "    <tr style=\"text-align: right;\">\n",
       "      <th></th>\n",
       "      <th>segid</th>\n",
       "      <th>mutation</th>\n",
       "      <th>resid</th>\n",
       "      <th>surface_area</th>\n",
       "    </tr>\n",
       "    <tr>\n",
       "      <th>id</th>\n",
       "      <th></th>\n",
       "      <th></th>\n",
       "      <th></th>\n",
       "      <th></th>\n",
       "    </tr>\n",
       "  </thead>\n",
       "  <tbody>\n",
       "    <tr>\n",
       "      <th>A1</th>\n",
       "      <td>A</td>\n",
       "      <td>M1D</td>\n",
       "      <td>1</td>\n",
       "      <td>96.204428</td>\n",
       "    </tr>\n",
       "    <tr>\n",
       "      <th>A2</th>\n",
       "      <td>A</td>\n",
       "      <td>R2K</td>\n",
       "      <td>2</td>\n",
       "      <td>57.391769</td>\n",
       "    </tr>\n",
       "    <tr>\n",
       "      <th>A3</th>\n",
       "      <td>A</td>\n",
       "      <td>A3V</td>\n",
       "      <td>3</td>\n",
       "      <td>0.000000</td>\n",
       "    </tr>\n",
       "  </tbody>\n",
       "</table>\n",
       "</div>"
      ],
      "text/plain": [
       "   segid mutation  resid  surface_area\n",
       "id                                    \n",
       "A1     A      M1D      1     96.204428\n",
       "A2     A      R2K      2     57.391769\n",
       "A3     A      A3V      3      0.000000"
      ]
     },
     "execution_count": 145,
     "metadata": {},
     "output_type": "execute_result"
    }
   ],
   "source": [
    "df.join(b, how='left')"
   ]
  },
  {
   "cell_type": "code",
   "execution_count": 146,
   "id": "03d99b91-ccb4-4863-ad75-d03bdf1d09b6",
   "metadata": {},
   "outputs": [
    {
     "name": "stdout",
     "output_type": "stream",
     "text": [
      "Total : 140821.76 A2\n",
      "Polar : 68137.62 A2\n",
      "Apolar : 72684.14 A2\n"
     ]
    }
   ],
   "source": [
    "#Test for RNAP structure\n",
    "structure = freesasa.Structure(\"tests/5uh6.pdb\")\n",
    "result = freesasa.calc(structure)\n",
    "area_classes = freesasa.classifyResults(result, structure)\n",
    "\n",
    "print(\"Total : %.2f A2\" % result.totalArea())\n",
    "for key in area_classes:\n",
    "    print(key, \": %.2f A2\" % area_classes[key])"
   ]
  },
  {
   "cell_type": "code",
   "execution_count": 147,
   "id": "0041a06c-0632-4d85-93dc-4c70212434ff",
   "metadata": {},
   "outputs": [
    {
     "data": {
      "text/plain": [
       "<module 'freesasa' from '/opt/homebrew/Caskroom/miniconda/base/envs/sbmlcore/lib/python3.9/site-packages/freesasa.cpython-39-darwin.so'>"
      ]
     },
     "execution_count": 147,
     "metadata": {},
     "output_type": "execute_result"
    }
   ],
   "source": [
    "freesasa"
   ]
  },
  {
   "cell_type": "code",
   "execution_count": 244,
   "id": "07f51186-8286-4e70-a386-7e03846f8694",
   "metadata": {},
   "outputs": [
    {
     "data": {
      "text/html": [
       "<div>\n",
       "<style scoped>\n",
       "    .dataframe tbody tr th:only-of-type {\n",
       "        vertical-align: middle;\n",
       "    }\n",
       "\n",
       "    .dataframe tbody tr th {\n",
       "        vertical-align: top;\n",
       "    }\n",
       "\n",
       "    .dataframe thead th {\n",
       "        text-align: right;\n",
       "    }\n",
       "</style>\n",
       "<table border=\"1\" class=\"dataframe\">\n",
       "  <thead>\n",
       "    <tr style=\"text-align: right;\">\n",
       "      <th></th>\n",
       "      <th>segid</th>\n",
       "      <th>mutation</th>\n",
       "    </tr>\n",
       "  </thead>\n",
       "  <tbody>\n",
       "    <tr>\n",
       "      <th>0</th>\n",
       "      <td>A</td>\n",
       "      <td>I3D</td>\n",
       "    </tr>\n",
       "    <tr>\n",
       "      <th>1</th>\n",
       "      <td>A</td>\n",
       "      <td>S4K</td>\n",
       "    </tr>\n",
       "    <tr>\n",
       "      <th>2</th>\n",
       "      <td>A</td>\n",
       "      <td>Q5V</td>\n",
       "    </tr>\n",
       "    <tr>\n",
       "      <th>3</th>\n",
       "      <td>B</td>\n",
       "      <td>R6D</td>\n",
       "    </tr>\n",
       "    <tr>\n",
       "      <th>4</th>\n",
       "      <td>C</td>\n",
       "      <td>S450F</td>\n",
       "    </tr>\n",
       "    <tr>\n",
       "      <th>5</th>\n",
       "      <td>C</td>\n",
       "      <td>D435F</td>\n",
       "    </tr>\n",
       "  </tbody>\n",
       "</table>\n",
       "</div>"
      ],
      "text/plain": [
       "  segid mutation\n",
       "0     A      I3D\n",
       "1     A      S4K\n",
       "2     A      Q5V\n",
       "3     B      R6D\n",
       "4     C    S450F\n",
       "5     C    D435F"
      ]
     },
     "execution_count": 244,
     "metadata": {},
     "output_type": "execute_result"
    }
   ],
   "source": [
    "#Test on RNAP structure with offsets\n",
    "file = sbmlcore.FreeSASA('tests/5uh6.pdb', offsets = {'A': 0, 'B': 0, 'Z': -6}) #\n",
    "b = {'segid': ['A', 'A', 'A', 'B', 'C', 'C'], 'mutation': ['I3D','S4K', 'Q5V', 'R6D', 'S450F', 'D435F']} #N.B. Mutation must include offset\n",
    "df = pandas.DataFrame(b)\n",
    "df"
   ]
  },
  {
   "cell_type": "code",
   "execution_count": 245,
   "id": "883b3dcb-8998-4122-8019-097174db3059",
   "metadata": {},
   "outputs": [
    {
     "ename": "AssertionError",
     "evalue": "Need to specify a segid that exists in pdb!",
     "output_type": "error",
     "traceback": [
      "\u001b[0;31m---------------------------------------------------------------------------\u001b[0m",
      "\u001b[0;31mAssertionError\u001b[0m                            Traceback (most recent call last)",
      "Input \u001b[0;32mIn [245]\u001b[0m, in \u001b[0;36m<module>\u001b[0;34m\u001b[0m\n\u001b[0;32m----> 1\u001b[0m new_df \u001b[38;5;241m=\u001b[39m \u001b[43mfile\u001b[49m\u001b[38;5;241;43m.\u001b[39;49m\u001b[43madd_feature\u001b[49m\u001b[43m(\u001b[49m\u001b[43mdf\u001b[49m\u001b[43m)\u001b[49m \u001b[38;5;66;03m#, offsets = {'A': 0, 'B': 0, 'C': -6}\u001b[39;00m\n\u001b[1;32m      2\u001b[0m new_df\n",
      "File \u001b[0;32m~/Documents/Documents – Charlotte’s MacBook Pro 2/ML-postdoc-code/sbmlcore/sbmlcore/ExternalCode.py:160\u001b[0m, in \u001b[0;36madd_feature\u001b[0;34m(self, other)\u001b[0m\n",
      "\u001b[0;31mAssertionError\u001b[0m: Need to specify a segid that exists in pdb!"
     ]
    }
   ],
   "source": [
    "new_df = file.add_feature(df) #, offsets = {'A': 0, 'B': 0, 'C': -6}\n",
    "new_df"
   ]
  },
  {
   "cell_type": "code",
   "execution_count": null,
   "id": "c448fa48-30de-401d-89ed-f246f75c45f4",
   "metadata": {},
   "outputs": [],
   "source": []
  },
  {
   "cell_type": "code",
   "execution_count": 173,
   "id": "05d5b3ab-ae98-4465-8fd5-f0e2a074cc24",
   "metadata": {},
   "outputs": [
    {
     "data": {
      "text/html": [
       "<div>\n",
       "<style scoped>\n",
       "    .dataframe tbody tr th:only-of-type {\n",
       "        vertical-align: middle;\n",
       "    }\n",
       "\n",
       "    .dataframe tbody tr th {\n",
       "        vertical-align: top;\n",
       "    }\n",
       "\n",
       "    .dataframe thead th {\n",
       "        text-align: right;\n",
       "    }\n",
       "</style>\n",
       "<table border=\"1\" class=\"dataframe\">\n",
       "  <thead>\n",
       "    <tr style=\"text-align: right;\">\n",
       "      <th></th>\n",
       "      <th>segid</th>\n",
       "      <th>mutation</th>\n",
       "    </tr>\n",
       "  </thead>\n",
       "  <tbody>\n",
       "    <tr>\n",
       "      <th>0</th>\n",
       "      <td>A</td>\n",
       "      <td>M1D</td>\n",
       "    </tr>\n",
       "    <tr>\n",
       "      <th>1</th>\n",
       "      <td>A</td>\n",
       "      <td>R2K</td>\n",
       "    </tr>\n",
       "    <tr>\n",
       "      <th>2</th>\n",
       "      <td>A</td>\n",
       "      <td>A3V</td>\n",
       "    </tr>\n",
       "  </tbody>\n",
       "</table>\n",
       "</div>"
      ],
      "text/plain": [
       "  segid mutation\n",
       "0     A      M1D\n",
       "1     A      R2K\n",
       "2     A      A3V"
      ]
     },
     "execution_count": 173,
     "metadata": {},
     "output_type": "execute_result"
    }
   ],
   "source": [
    "#Test on pncA\n",
    "a = sbmlcore.FreeSASA('tests/3pl1.pdb')\n",
    "\n",
    "b = {'segid': ['A', 'A', 'A'], 'mutation': ['M1D','R2K', 'A3V']}\n",
    "df = pandas.DataFrame.from_dict(b)\n",
    "df"
   ]
  },
  {
   "cell_type": "code",
   "execution_count": 174,
   "id": "8e188f15-8884-4876-921f-c281ca4ac2e4",
   "metadata": {},
   "outputs": [
    {
     "data": {
      "text/html": [
       "<div>\n",
       "<style scoped>\n",
       "    .dataframe tbody tr th:only-of-type {\n",
       "        vertical-align: middle;\n",
       "    }\n",
       "\n",
       "    .dataframe tbody tr th {\n",
       "        vertical-align: top;\n",
       "    }\n",
       "\n",
       "    .dataframe thead th {\n",
       "        text-align: right;\n",
       "    }\n",
       "</style>\n",
       "<table border=\"1\" class=\"dataframe\">\n",
       "  <thead>\n",
       "    <tr style=\"text-align: right;\">\n",
       "      <th></th>\n",
       "      <th>segid</th>\n",
       "      <th>mutation</th>\n",
       "      <th>resid</th>\n",
       "      <th>surface_area</th>\n",
       "    </tr>\n",
       "    <tr>\n",
       "      <th>id</th>\n",
       "      <th></th>\n",
       "      <th></th>\n",
       "      <th></th>\n",
       "      <th></th>\n",
       "    </tr>\n",
       "  </thead>\n",
       "  <tbody>\n",
       "    <tr>\n",
       "      <th>A1</th>\n",
       "      <td>A</td>\n",
       "      <td>M1D</td>\n",
       "      <td>1</td>\n",
       "      <td>96.204428</td>\n",
       "    </tr>\n",
       "    <tr>\n",
       "      <th>A2</th>\n",
       "      <td>A</td>\n",
       "      <td>R2K</td>\n",
       "      <td>2</td>\n",
       "      <td>57.391769</td>\n",
       "    </tr>\n",
       "    <tr>\n",
       "      <th>A3</th>\n",
       "      <td>A</td>\n",
       "      <td>A3V</td>\n",
       "      <td>3</td>\n",
       "      <td>0.000000</td>\n",
       "    </tr>\n",
       "  </tbody>\n",
       "</table>\n",
       "</div>"
      ],
      "text/plain": [
       "   segid mutation  resid  surface_area\n",
       "id                                    \n",
       "A1     A      M1D      1     96.204428\n",
       "A2     A      R2K      2     57.391769\n",
       "A3     A      A3V      3      0.000000"
      ]
     },
     "execution_count": 174,
     "metadata": {},
     "output_type": "execute_result"
    }
   ],
   "source": [
    "df = a.add_feature(df)\n",
    "df"
   ]
  },
  {
   "cell_type": "code",
   "execution_count": null,
   "id": "60bdd0f0-4e8e-4997-bb4e-f9081c86ab90",
   "metadata": {},
   "outputs": [],
   "source": []
  }
 ],
 "metadata": {
  "kernelspec": {
   "display_name": "Python 3",
   "language": "python",
   "name": "python3"
  },
  "language_info": {
   "codemirror_mode": {
    "name": "ipython",
    "version": 3
   },
   "file_extension": ".py",
   "mimetype": "text/x-python",
   "name": "python",
   "nbconvert_exporter": "python",
   "pygments_lexer": "ipython3",
   "version": "3.9.9"
  }
 },
 "nbformat": 4,
 "nbformat_minor": 5
}
