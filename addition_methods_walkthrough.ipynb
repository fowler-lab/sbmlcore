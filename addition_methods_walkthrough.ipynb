{
 "cells": [
  {
   "cell_type": "code",
   "execution_count": 173,
   "id": "d045f724-0ffe-483b-be58-49e24e64793b",
   "metadata": {},
   "outputs": [
    {
     "name": "stdout",
     "output_type": "stream",
     "text": [
      "The autoreload extension is already loaded. To reload it, use:\n",
      "  %reload_ext autoreload\n"
     ]
    }
   ],
   "source": [
    "import sbmlcore, pandas, numpy, pytest\n",
    "%load_ext autoreload\n",
    "%autoreload 2"
   ]
  },
  {
   "cell_type": "markdown",
   "id": "157dc346-9da0-43e6-9666-e643401fd969",
   "metadata": {},
   "source": [
    "## Overview of feature addition methods\n",
    "\n",
    "First create a mutation dataframe using sbmlcore.FeatureDataset. \n",
    "\n",
    "There are then several methods for adding on features to an existing mutation dataframe:\n",
    "1. `features.add_feature([list of classes])` - this returns a `sbmlcore.FeaturesDataFrame.FeatureDataset` object\n",
    "2. `mutation_dataframe + feature` - this returns a `sbmlcore.FeaturesDataFrame.FeatureDataset` object\n",
    "3. Use the internal `._add_feature(args)` of each sbmlcore class - but in this case the mutation dataframe to add to must \n",
    "   already be a `pandas.core.frame.DataFrame` and the method returns a `pandas.core.frame.DataFrame`. "
   ]
  },
  {
   "cell_type": "markdown",
   "id": "377b7ab2-7e3c-4718-b15b-70c96b052dec",
   "metadata": {},
   "source": [
    "### Create a mutation dataframe"
   ]
  },
  {
   "cell_type": "code",
   "execution_count": 174,
   "id": "c6d088fd-0d4d-4d7f-89c8-72576e6a4a5d",
   "metadata": {},
   "outputs": [
    {
     "data": {
      "text/html": [
       "<div>\n",
       "<style scoped>\n",
       "    .dataframe tbody tr th:only-of-type {\n",
       "        vertical-align: middle;\n",
       "    }\n",
       "\n",
       "    .dataframe tbody tr th {\n",
       "        vertical-align: top;\n",
       "    }\n",
       "\n",
       "    .dataframe thead th {\n",
       "        text-align: right;\n",
       "    }\n",
       "</style>\n",
       "<table border=\"1\" class=\"dataframe\">\n",
       "  <thead>\n",
       "    <tr style=\"text-align: right;\">\n",
       "      <th></th>\n",
       "      <th>segid</th>\n",
       "      <th>mutation</th>\n",
       "    </tr>\n",
       "  </thead>\n",
       "  <tbody>\n",
       "    <tr>\n",
       "      <th>0</th>\n",
       "      <td>A</td>\n",
       "      <td>M1D</td>\n",
       "    </tr>\n",
       "    <tr>\n",
       "      <th>1</th>\n",
       "      <td>A</td>\n",
       "      <td>R2K</td>\n",
       "    </tr>\n",
       "    <tr>\n",
       "      <th>2</th>\n",
       "      <td>A</td>\n",
       "      <td>A3V</td>\n",
       "    </tr>\n",
       "    <tr>\n",
       "      <th>3</th>\n",
       "      <td>A</td>\n",
       "      <td>A3F</td>\n",
       "    </tr>\n",
       "  </tbody>\n",
       "</table>\n",
       "</div>"
      ],
      "text/plain": [
       "  segid mutation\n",
       "0     A      M1D\n",
       "1     A      R2K\n",
       "2     A      A3V\n",
       "3     A      A3F"
      ]
     },
     "execution_count": 174,
     "metadata": {},
     "output_type": "execute_result"
    }
   ],
   "source": [
    "a = {'segid': ['A', 'A', 'A', 'A'], 'mutation': ['M1D','R2K', 'A3V', 'A3F']}\n",
    "df1 = pandas.DataFrame.from_dict(a)\n",
    "df1"
   ]
  },
  {
   "cell_type": "markdown",
   "id": "c4e86223-a70c-415d-9650-ba8ae25a5ac5",
   "metadata": {},
   "source": [
    "### Import mutation dataframe into sbmlcore"
   ]
  },
  {
   "cell_type": "code",
   "execution_count": 175,
   "id": "159210e0-722f-4759-b859-fce8280414ec",
   "metadata": {},
   "outputs": [
    {
     "data": {
      "text/plain": [
       "species:          M. tuberculosis\n",
       "gene name:        pncA\n",
       "protein name:     pncA\n",
       "number of rows:   4\n",
       "\n",
       "  segid mutation\n",
       "0     A      M1D\n",
       "1     A      R2K\n",
       "2     A      A3V"
      ]
     },
     "execution_count": 175,
     "metadata": {},
     "output_type": "execute_result"
    }
   ],
   "source": [
    "features = sbmlcore.FeatureDataset(df1, species='M. tuberculosis', gene='pncA', protein='pncA')\n",
    "features"
   ]
  },
  {
   "cell_type": "markdown",
   "id": "cca9eaea-525f-4a2e-8d98-c7f4ad6951d8",
   "metadata": {},
   "source": [
    "### Adding features method 1: `.add_feature(list)`"
   ]
  },
  {
   "cell_type": "markdown",
   "id": "3dc8d157-3bfe-42e8-8ddd-575daf092181",
   "metadata": {},
   "source": [
    "You can add multiple features at once:"
   ]
  },
  {
   "cell_type": "code",
   "execution_count": 176,
   "id": "55df37e7-2070-4d6e-a017-d1e6db84d60f",
   "metadata": {},
   "outputs": [
    {
     "data": {
      "text/plain": [
       "species:          M. tuberculosis\n",
       "gene name:        pncA\n",
       "protein name:     pncA\n",
       "number of rows:   4\n",
       "\n",
       "  segid mutation  d_hydropathy_KD  d_hydropathy_WW\n",
       "0     A      M1D             -5.4             2.85\n",
       "1     A      R2K              0.6             0.81\n",
       "2     A      A3V              2.4            -0.86"
      ]
     },
     "execution_count": 176,
     "metadata": {},
     "output_type": "execute_result"
    }
   ],
   "source": [
    "a = sbmlcore.AminoAcidHydropathyChangeKyteDoolittle()\n",
    "b = sbmlcore.AminoAcidHydropathyChangeWimleyWhite()\n",
    "features.add_feature([a, b])\n",
    "features #Returns sbmlcore.FeaturesDataFrame.FeatureDataset object"
   ]
  },
  {
   "cell_type": "markdown",
   "id": "1ab54740-afad-4d52-9556-09b26b5add3e",
   "metadata": {},
   "source": [
    "Or one feature at a time (in which case you don't have to specify the features as a list):"
   ]
  },
  {
   "cell_type": "code",
   "execution_count": 177,
   "id": "b85c11c0-cfa5-42c5-b7c4-7355620b91de",
   "metadata": {},
   "outputs": [
    {
     "data": {
      "text/plain": [
       "species:          M. tuberculosis\n",
       "gene name:        pncA\n",
       "protein name:     pncA\n",
       "number of rows:   4\n",
       "\n",
       "  segid mutation  d_hydropathy_KD  d_hydropathy_WW  d_volume\n",
       "0     A      M1D             -5.4             2.85     -51.8\n",
       "1     A      R2K              0.6             0.81      -4.8\n",
       "2     A      A3V              2.4            -0.86      51.4"
      ]
     },
     "execution_count": 177,
     "metadata": {},
     "output_type": "execute_result"
    }
   ],
   "source": [
    "c = sbmlcore.AminoAcidVolumeChange()\n",
    "features.add_feature(c)\n",
    "features #Returns sbmlcore.FeaturesDataFrame.FeatureDataset object"
   ]
  },
  {
   "cell_type": "markdown",
   "id": "d3abcc33-e83d-4f88-89f4-b2d5c5054178",
   "metadata": {},
   "source": [
    "You can convert the `sbmlcore.FeaturesDataFrame.FeatureDataset` object to a `pandas.core.frame.DataFrame` via:"
   ]
  },
  {
   "cell_type": "code",
   "execution_count": 178,
   "id": "c0ac9de2-bc13-4a82-b886-83a1400f45a4",
   "metadata": {},
   "outputs": [
    {
     "data": {
      "text/html": [
       "<div>\n",
       "<style scoped>\n",
       "    .dataframe tbody tr th:only-of-type {\n",
       "        vertical-align: middle;\n",
       "    }\n",
       "\n",
       "    .dataframe tbody tr th {\n",
       "        vertical-align: top;\n",
       "    }\n",
       "\n",
       "    .dataframe thead th {\n",
       "        text-align: right;\n",
       "    }\n",
       "</style>\n",
       "<table border=\"1\" class=\"dataframe\">\n",
       "  <thead>\n",
       "    <tr style=\"text-align: right;\">\n",
       "      <th></th>\n",
       "      <th>segid</th>\n",
       "      <th>mutation</th>\n",
       "      <th>d_hydropathy_KD</th>\n",
       "      <th>d_hydropathy_WW</th>\n",
       "      <th>d_volume</th>\n",
       "    </tr>\n",
       "  </thead>\n",
       "  <tbody>\n",
       "    <tr>\n",
       "      <th>0</th>\n",
       "      <td>A</td>\n",
       "      <td>M1D</td>\n",
       "      <td>-5.4</td>\n",
       "      <td>2.85</td>\n",
       "      <td>-51.8</td>\n",
       "    </tr>\n",
       "    <tr>\n",
       "      <th>1</th>\n",
       "      <td>A</td>\n",
       "      <td>R2K</td>\n",
       "      <td>0.6</td>\n",
       "      <td>0.81</td>\n",
       "      <td>-4.8</td>\n",
       "    </tr>\n",
       "    <tr>\n",
       "      <th>2</th>\n",
       "      <td>A</td>\n",
       "      <td>A3V</td>\n",
       "      <td>2.4</td>\n",
       "      <td>-0.86</td>\n",
       "      <td>51.4</td>\n",
       "    </tr>\n",
       "    <tr>\n",
       "      <th>3</th>\n",
       "      <td>A</td>\n",
       "      <td>A3F</td>\n",
       "      <td>1.0</td>\n",
       "      <td>-0.91</td>\n",
       "      <td>101.3</td>\n",
       "    </tr>\n",
       "  </tbody>\n",
       "</table>\n",
       "</div>"
      ],
      "text/plain": [
       "  segid mutation  d_hydropathy_KD  d_hydropathy_WW  d_volume\n",
       "0     A      M1D             -5.4             2.85     -51.8\n",
       "1     A      R2K              0.6             0.81      -4.8\n",
       "2     A      A3V              2.4            -0.86      51.4\n",
       "3     A      A3F              1.0            -0.91     101.3"
      ]
     },
     "execution_count": 178,
     "metadata": {},
     "output_type": "execute_result"
    }
   ],
   "source": [
    "features.df"
   ]
  },
  {
   "cell_type": "markdown",
   "id": "d9bfce30-1038-48e0-988a-3fe3fb778405",
   "metadata": {},
   "source": [
    "### Adding features method 2: addition overloading"
   ]
  },
  {
   "cell_type": "code",
   "execution_count": 179,
   "id": "96d53169-dc74-4e15-bb59-4f2452a4ed01",
   "metadata": {},
   "outputs": [
    {
     "data": {
      "text/plain": [
       "species:          M. tuberculosis\n",
       "gene name:        pncA\n",
       "protein name:     pncA\n",
       "number of rows:   4\n",
       "\n",
       "  segid mutation  d_hydropathy_KD  d_hydropathy_WW  d_volume       SASA\n",
       "0     A      M1D             -5.4             2.85     -51.8  96.204428\n",
       "1     A      R2K              0.6             0.81      -4.8  57.391769\n",
       "2     A      A3V              2.4            -0.86      51.4   0.000000"
      ]
     },
     "execution_count": 179,
     "metadata": {},
     "output_type": "execute_result"
    }
   ],
   "source": [
    "d = sbmlcore.FreeSASA('tests/3pl1.pdb')\n",
    "features = features + d\n",
    "features #Returns a sbmlcore.FeaturesDataFrame.FeatureDataset object"
   ]
  },
  {
   "cell_type": "markdown",
   "id": "cdeb990f-5cf9-4cad-a460-947edd7c04ff",
   "metadata": {},
   "source": [
    "Or you can use addition overloading AND convert to a `pandas.core.frame.DataFrame` at the same time:"
   ]
  },
  {
   "cell_type": "code",
   "execution_count": 180,
   "id": "714b5fa2-2822-42b4-a0a0-982bbced3da6",
   "metadata": {},
   "outputs": [
    {
     "data": {
      "text/html": [
       "<div>\n",
       "<style scoped>\n",
       "    .dataframe tbody tr th:only-of-type {\n",
       "        vertical-align: middle;\n",
       "    }\n",
       "\n",
       "    .dataframe tbody tr th {\n",
       "        vertical-align: top;\n",
       "    }\n",
       "\n",
       "    .dataframe thead th {\n",
       "        text-align: right;\n",
       "    }\n",
       "</style>\n",
       "<table border=\"1\" class=\"dataframe\">\n",
       "  <thead>\n",
       "    <tr style=\"text-align: right;\">\n",
       "      <th></th>\n",
       "      <th>segid</th>\n",
       "      <th>mutation</th>\n",
       "      <th>d_hydropathy_KD</th>\n",
       "      <th>d_hydropathy_WW</th>\n",
       "      <th>d_volume</th>\n",
       "      <th>SASA</th>\n",
       "      <th>d_MW</th>\n",
       "    </tr>\n",
       "  </thead>\n",
       "  <tbody>\n",
       "    <tr>\n",
       "      <th>0</th>\n",
       "      <td>A</td>\n",
       "      <td>M1D</td>\n",
       "      <td>-5.4</td>\n",
       "      <td>2.85</td>\n",
       "      <td>-51.8</td>\n",
       "      <td>96.204428</td>\n",
       "      <td>-16.1</td>\n",
       "    </tr>\n",
       "    <tr>\n",
       "      <th>1</th>\n",
       "      <td>A</td>\n",
       "      <td>R2K</td>\n",
       "      <td>0.6</td>\n",
       "      <td>0.81</td>\n",
       "      <td>-4.8</td>\n",
       "      <td>57.391769</td>\n",
       "      <td>-28.0</td>\n",
       "    </tr>\n",
       "    <tr>\n",
       "      <th>2</th>\n",
       "      <td>A</td>\n",
       "      <td>A3V</td>\n",
       "      <td>2.4</td>\n",
       "      <td>-0.86</td>\n",
       "      <td>51.4</td>\n",
       "      <td>0.000000</td>\n",
       "      <td>28.0</td>\n",
       "    </tr>\n",
       "    <tr>\n",
       "      <th>3</th>\n",
       "      <td>A</td>\n",
       "      <td>A3F</td>\n",
       "      <td>1.0</td>\n",
       "      <td>-0.91</td>\n",
       "      <td>101.3</td>\n",
       "      <td>0.000000</td>\n",
       "      <td>76.1</td>\n",
       "    </tr>\n",
       "  </tbody>\n",
       "</table>\n",
       "</div>"
      ],
      "text/plain": [
       "  segid mutation  d_hydropathy_KD  d_hydropathy_WW  d_volume       SASA  d_MW\n",
       "0     A      M1D             -5.4             2.85     -51.8  96.204428 -16.1\n",
       "1     A      R2K              0.6             0.81      -4.8  57.391769 -28.0\n",
       "2     A      A3V              2.4            -0.86      51.4   0.000000  28.0\n",
       "3     A      A3F              1.0            -0.91     101.3   0.000000  76.1"
      ]
     },
     "execution_count": 180,
     "metadata": {},
     "output_type": "execute_result"
    }
   ],
   "source": [
    "e = sbmlcore.AminoAcidMWChange()\n",
    "features1 = (features + e).df #using overloading AND converting to pandas.core.frame.DataFrame\n",
    "features1"
   ]
  },
  {
   "cell_type": "markdown",
   "id": "a8e808bb-291d-437a-95f9-830063e85ddf",
   "metadata": {},
   "source": [
    "### Adding features method 3: using the internal `._add_feature(args)` of each sbmlcore class\n",
    "N.B. This only works if the dataframe to be added to is a `pandas.core.frame.DataFrame`!"
   ]
  },
  {
   "cell_type": "code",
   "execution_count": 181,
   "id": "a59d4ae5-679b-4acf-a675-7e8549a0d3a5",
   "metadata": {},
   "outputs": [
    {
     "data": {
      "text/html": [
       "<div>\n",
       "<style scoped>\n",
       "    .dataframe tbody tr th:only-of-type {\n",
       "        vertical-align: middle;\n",
       "    }\n",
       "\n",
       "    .dataframe tbody tr th {\n",
       "        vertical-align: top;\n",
       "    }\n",
       "\n",
       "    .dataframe thead th {\n",
       "        text-align: right;\n",
       "    }\n",
       "</style>\n",
       "<table border=\"1\" class=\"dataframe\">\n",
       "  <thead>\n",
       "    <tr style=\"text-align: right;\">\n",
       "      <th></th>\n",
       "      <th>segid</th>\n",
       "      <th>mutation</th>\n",
       "      <th>d_hydropathy_KD</th>\n",
       "      <th>d_hydropathy_WW</th>\n",
       "      <th>d_volume</th>\n",
       "      <th>SASA</th>\n",
       "      <th>d_MW</th>\n",
       "      <th>d_Pi</th>\n",
       "    </tr>\n",
       "  </thead>\n",
       "  <tbody>\n",
       "    <tr>\n",
       "      <th>0</th>\n",
       "      <td>A</td>\n",
       "      <td>M1D</td>\n",
       "      <td>-5.4</td>\n",
       "      <td>2.85</td>\n",
       "      <td>-51.8</td>\n",
       "      <td>96.204428</td>\n",
       "      <td>-16.1</td>\n",
       "      <td>-2.97</td>\n",
       "    </tr>\n",
       "    <tr>\n",
       "      <th>1</th>\n",
       "      <td>A</td>\n",
       "      <td>R2K</td>\n",
       "      <td>0.6</td>\n",
       "      <td>0.81</td>\n",
       "      <td>-4.8</td>\n",
       "      <td>57.391769</td>\n",
       "      <td>-28.0</td>\n",
       "      <td>-1.02</td>\n",
       "    </tr>\n",
       "    <tr>\n",
       "      <th>2</th>\n",
       "      <td>A</td>\n",
       "      <td>A3V</td>\n",
       "      <td>2.4</td>\n",
       "      <td>-0.86</td>\n",
       "      <td>51.4</td>\n",
       "      <td>0.000000</td>\n",
       "      <td>28.0</td>\n",
       "      <td>-0.04</td>\n",
       "    </tr>\n",
       "    <tr>\n",
       "      <th>3</th>\n",
       "      <td>A</td>\n",
       "      <td>A3F</td>\n",
       "      <td>1.0</td>\n",
       "      <td>-0.91</td>\n",
       "      <td>101.3</td>\n",
       "      <td>0.000000</td>\n",
       "      <td>76.1</td>\n",
       "      <td>-0.52</td>\n",
       "    </tr>\n",
       "  </tbody>\n",
       "</table>\n",
       "</div>"
      ],
      "text/plain": [
       "  segid mutation  d_hydropathy_KD  d_hydropathy_WW  d_volume       SASA  d_MW  \\\n",
       "0     A      M1D             -5.4             2.85     -51.8  96.204428 -16.1   \n",
       "1     A      R2K              0.6             0.81      -4.8  57.391769 -28.0   \n",
       "2     A      A3V              2.4            -0.86      51.4   0.000000  28.0   \n",
       "3     A      A3F              1.0            -0.91     101.3   0.000000  76.1   \n",
       "\n",
       "   d_Pi  \n",
       "0 -2.97  \n",
       "1 -1.02  \n",
       "2 -0.04  \n",
       "3 -0.52  "
      ]
     },
     "execution_count": 181,
     "metadata": {},
     "output_type": "execute_result"
    }
   ],
   "source": [
    "f = sbmlcore.AminoAcidPiChange()\n",
    "features1 = f._add_feature(features1)\n",
    "features1 #N.B. Returns a pandas.core.frame.DataFrame"
   ]
  },
  {
   "cell_type": "code",
   "execution_count": null,
   "id": "d2641b82-b132-4312-b15d-e5443b624711",
   "metadata": {},
   "outputs": [],
   "source": []
  },
  {
   "cell_type": "code",
   "execution_count": null,
   "id": "3dc8404b-5949-41a6-9fda-bfced19a834d",
   "metadata": {},
   "outputs": [],
   "source": []
  }
 ],
 "metadata": {
  "kernelspec": {
   "display_name": "Python 3 (ipykernel)",
   "language": "python",
   "name": "python3"
  },
  "language_info": {
   "codemirror_mode": {
    "name": "ipython",
    "version": 3
   },
   "file_extension": ".py",
   "mimetype": "text/x-python",
   "name": "python",
   "nbconvert_exporter": "python",
   "pygments_lexer": "ipython3",
   "version": "3.9.13"
  }
 },
 "nbformat": 4,
 "nbformat_minor": 5
}
