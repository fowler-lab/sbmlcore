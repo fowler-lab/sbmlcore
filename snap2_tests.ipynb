{
 "cells": [
  {
   "cell_type": "code",
   "execution_count": 13,
   "id": "261de0f9-ddca-42fe-ba13-f7559a46c94a",
   "metadata": {},
   "outputs": [
    {
     "name": "stdout",
     "output_type": "stream",
     "text": [
      "The autoreload extension is already loaded. To reload it, use:\n",
      "  %reload_ext autoreload\n"
     ]
    }
   ],
   "source": [
    "import sbmlcore, pandas\n",
    "%load_ext autoreload\n",
    "%autoreload 2"
   ]
  },
  {
   "cell_type": "code",
   "execution_count": 18,
   "id": "9a258719-7b23-4952-8ebf-66fb886b999b",
   "metadata": {},
   "outputs": [
    {
     "name": "stdout",
     "output_type": "stream",
     "text": [
      "offsets = None, are you sure?\n",
      "     Variant Predicted Effect  Score Expected Accuracy\n",
      "0        M1A           effect     39               66%\n",
      "1        M1R           effect     44               71%\n",
      "2        M1N           effect     59               75%\n",
      "3        M1D           effect     74               85%\n",
      "4        M1C           effect      9               53%\n",
      "...      ...              ...    ...               ...\n",
      "3715   S186S          neutral    -79               87%\n",
      "3716   S186T          neutral    -73               87%\n",
      "3717   S186W           effect     45               71%\n",
      "3718   S186Y           effect     38               66%\n",
      "3719   S186V          neutral     -6               53%\n",
      "\n",
      "[3720 rows x 4 columns]\n"
     ]
    }
   ],
   "source": [
    "a = sbmlcore.SNAP2('tests/3pl1-snap2.csv')"
   ]
  },
  {
   "cell_type": "code",
   "execution_count": 10,
   "id": "2c1ee60e-6655-4175-94b5-b18ed4bc24fe",
   "metadata": {},
   "outputs": [
    {
     "data": {
      "text/html": [
       "<div>\n",
       "<style scoped>\n",
       "    .dataframe tbody tr th:only-of-type {\n",
       "        vertical-align: middle;\n",
       "    }\n",
       "\n",
       "    .dataframe tbody tr th {\n",
       "        vertical-align: top;\n",
       "    }\n",
       "\n",
       "    .dataframe thead th {\n",
       "        text-align: right;\n",
       "    }\n",
       "</style>\n",
       "<table border=\"1\" class=\"dataframe\">\n",
       "  <thead>\n",
       "    <tr style=\"text-align: right;\">\n",
       "      <th></th>\n",
       "      <th>Variant</th>\n",
       "      <th>Predicted Effect</th>\n",
       "      <th>Score</th>\n",
       "      <th>Expected Accuracy</th>\n",
       "    </tr>\n",
       "  </thead>\n",
       "  <tbody>\n",
       "    <tr>\n",
       "      <th>0</th>\n",
       "      <td>M1A</td>\n",
       "      <td>effect</td>\n",
       "      <td>39</td>\n",
       "      <td>66%</td>\n",
       "    </tr>\n",
       "    <tr>\n",
       "      <th>1</th>\n",
       "      <td>M1R</td>\n",
       "      <td>effect</td>\n",
       "      <td>44</td>\n",
       "      <td>71%</td>\n",
       "    </tr>\n",
       "    <tr>\n",
       "      <th>2</th>\n",
       "      <td>M1N</td>\n",
       "      <td>effect</td>\n",
       "      <td>59</td>\n",
       "      <td>75%</td>\n",
       "    </tr>\n",
       "    <tr>\n",
       "      <th>3</th>\n",
       "      <td>M1D</td>\n",
       "      <td>effect</td>\n",
       "      <td>74</td>\n",
       "      <td>85%</td>\n",
       "    </tr>\n",
       "    <tr>\n",
       "      <th>4</th>\n",
       "      <td>M1C</td>\n",
       "      <td>effect</td>\n",
       "      <td>9</td>\n",
       "      <td>53%</td>\n",
       "    </tr>\n",
       "    <tr>\n",
       "      <th>...</th>\n",
       "      <td>...</td>\n",
       "      <td>...</td>\n",
       "      <td>...</td>\n",
       "      <td>...</td>\n",
       "    </tr>\n",
       "    <tr>\n",
       "      <th>3715</th>\n",
       "      <td>S186S</td>\n",
       "      <td>neutral</td>\n",
       "      <td>-79</td>\n",
       "      <td>87%</td>\n",
       "    </tr>\n",
       "    <tr>\n",
       "      <th>3716</th>\n",
       "      <td>S186T</td>\n",
       "      <td>neutral</td>\n",
       "      <td>-73</td>\n",
       "      <td>87%</td>\n",
       "    </tr>\n",
       "    <tr>\n",
       "      <th>3717</th>\n",
       "      <td>S186W</td>\n",
       "      <td>effect</td>\n",
       "      <td>45</td>\n",
       "      <td>71%</td>\n",
       "    </tr>\n",
       "    <tr>\n",
       "      <th>3718</th>\n",
       "      <td>S186Y</td>\n",
       "      <td>effect</td>\n",
       "      <td>38</td>\n",
       "      <td>66%</td>\n",
       "    </tr>\n",
       "    <tr>\n",
       "      <th>3719</th>\n",
       "      <td>S186V</td>\n",
       "      <td>neutral</td>\n",
       "      <td>-6</td>\n",
       "      <td>53%</td>\n",
       "    </tr>\n",
       "  </tbody>\n",
       "</table>\n",
       "<p>3720 rows × 4 columns</p>\n",
       "</div>"
      ],
      "text/plain": [
       "     Variant Predicted Effect  Score Expected Accuracy\n",
       "0        M1A           effect     39               66%\n",
       "1        M1R           effect     44               71%\n",
       "2        M1N           effect     59               75%\n",
       "3        M1D           effect     74               85%\n",
       "4        M1C           effect      9               53%\n",
       "...      ...              ...    ...               ...\n",
       "3715   S186S          neutral    -79               87%\n",
       "3716   S186T          neutral    -73               87%\n",
       "3717   S186W           effect     45               71%\n",
       "3718   S186Y           effect     38               66%\n",
       "3719   S186V          neutral     -6               53%\n",
       "\n",
       "[3720 rows x 4 columns]"
      ]
     },
     "execution_count": 10,
     "metadata": {},
     "output_type": "execute_result"
    }
   ],
   "source": [
    "b = pandas.read_csv('tests/3pl1-snap2.csv')\n",
    "b"
   ]
  },
  {
   "cell_type": "code",
   "execution_count": null,
   "id": "33c2417d-b13b-485d-a536-d001d07b3dc2",
   "metadata": {},
   "outputs": [],
   "source": [
    "#Thoughts - filter for above 50% accuracy? "
   ]
  },
  {
   "cell_type": "code",
   "execution_count": null,
   "id": "16c19d9d-3414-47ba-a4b8-01b9b5dfcc29",
   "metadata": {},
   "outputs": [],
   "source": []
  }
 ],
 "metadata": {
  "kernelspec": {
   "display_name": "Python 3",
   "language": "python",
   "name": "python3"
  },
  "language_info": {
   "codemirror_mode": {
    "name": "ipython",
    "version": 3
   },
   "file_extension": ".py",
   "mimetype": "text/x-python",
   "name": "python",
   "nbconvert_exporter": "python",
   "pygments_lexer": "ipython3",
   "version": "3.9.9"
  }
 },
 "nbformat": 4,
 "nbformat_minor": 5
}
