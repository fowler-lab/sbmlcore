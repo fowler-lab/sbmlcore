{
 "cells": [
  {
   "cell_type": "code",
   "execution_count": 90,
   "id": "59d75ddc-4788-43c1-874d-cd8a6b6017ce",
   "metadata": {},
   "outputs": [
    {
     "name": "stdout",
     "output_type": "stream",
     "text": [
      "The autoreload extension is already loaded. To reload it, use:\n",
      "  %reload_ext autoreload\n"
     ]
    }
   ],
   "source": [
    "import sbmlcore, pandas, numpy, pytest\n",
    "%load_ext autoreload\n",
    "%autoreload 2"
   ]
  },
  {
   "cell_type": "markdown",
   "id": "bf263ec2-50cf-4193-bcb7-9babadd2da5b",
   "metadata": {},
   "source": [
    "Create/load in an initial dataframe of mutations \n",
    "N.B. These mutations must be named using residues that actually exist in the wild-type!"
   ]
  },
  {
   "cell_type": "code",
   "execution_count": 91,
   "id": "e7575e11-3575-44e7-b80c-c19c809a1271",
   "metadata": {},
   "outputs": [],
   "source": [
    "file = sbmlcore.FreeSASA('tests/3pl1.pdb')\n"
   ]
  },
  {
   "cell_type": "code",
   "execution_count": 92,
   "id": "e9c2887e-6a80-4e7a-9346-6809da2c830a",
   "metadata": {},
   "outputs": [
    {
     "data": {
      "text/html": [
       "<div>\n",
       "<style scoped>\n",
       "    .dataframe tbody tr th:only-of-type {\n",
       "        vertical-align: middle;\n",
       "    }\n",
       "\n",
       "    .dataframe tbody tr th {\n",
       "        vertical-align: top;\n",
       "    }\n",
       "\n",
       "    .dataframe thead th {\n",
       "        text-align: right;\n",
       "    }\n",
       "</style>\n",
       "<table border=\"1\" class=\"dataframe\">\n",
       "  <thead>\n",
       "    <tr style=\"text-align: right;\">\n",
       "      <th></th>\n",
       "      <th>segid</th>\n",
       "      <th>mutation</th>\n",
       "    </tr>\n",
       "  </thead>\n",
       "  <tbody>\n",
       "    <tr>\n",
       "      <th>0</th>\n",
       "      <td>A</td>\n",
       "      <td>M1D</td>\n",
       "    </tr>\n",
       "    <tr>\n",
       "      <th>1</th>\n",
       "      <td>A</td>\n",
       "      <td>R2K</td>\n",
       "    </tr>\n",
       "    <tr>\n",
       "      <th>2</th>\n",
       "      <td>A</td>\n",
       "      <td>A3V</td>\n",
       "    </tr>\n",
       "  </tbody>\n",
       "</table>\n",
       "</div>"
      ],
      "text/plain": [
       "  segid mutation\n",
       "0     A      M1D\n",
       "1     A      R2K\n",
       "2     A      A3V"
      ]
     },
     "execution_count": 92,
     "metadata": {},
     "output_type": "execute_result"
    }
   ],
   "source": [
    "b = {'segid': ['A', 'A', 'A'], 'mutation': ['M1D','R2K', 'A3V']}\n",
    "df = pandas.DataFrame.from_dict(b)\n",
    "df"
   ]
  },
  {
   "cell_type": "markdown",
   "id": "50669a13-687f-4650-9c05-b0bd65f97a56",
   "metadata": {},
   "source": [
    "Now calculate the surface accessible surface areas for each residue and attach to the mutation dataframe. "
   ]
  },
  {
   "cell_type": "code",
   "execution_count": 93,
   "id": "6ea283f9-8a3a-421e-b655-85e49c71e146",
   "metadata": {},
   "outputs": [],
   "source": [
    "a = sbmlcore.FreeSASA('tests/3pl1.pdb')"
   ]
  },
  {
   "cell_type": "code",
   "execution_count": 94,
   "id": "74f7c2ce-3bf1-45c3-ace0-6e60a85f7e72",
   "metadata": {},
   "outputs": [],
   "source": [
    "df = a.add_feature(df)"
   ]
  },
  {
   "cell_type": "code",
   "execution_count": 95,
   "id": "d0a59a06-2cbd-4b45-973f-9271f353172d",
   "metadata": {},
   "outputs": [
    {
     "data": {
      "text/html": [
       "<div>\n",
       "<style scoped>\n",
       "    .dataframe tbody tr th:only-of-type {\n",
       "        vertical-align: middle;\n",
       "    }\n",
       "\n",
       "    .dataframe tbody tr th {\n",
       "        vertical-align: top;\n",
       "    }\n",
       "\n",
       "    .dataframe thead th {\n",
       "        text-align: right;\n",
       "    }\n",
       "</style>\n",
       "<table border=\"1\" class=\"dataframe\">\n",
       "  <thead>\n",
       "    <tr style=\"text-align: right;\">\n",
       "      <th></th>\n",
       "      <th>segid</th>\n",
       "      <th>mutation</th>\n",
       "      <th>resid</th>\n",
       "      <th>surface_area</th>\n",
       "    </tr>\n",
       "    <tr>\n",
       "      <th>id</th>\n",
       "      <th></th>\n",
       "      <th></th>\n",
       "      <th></th>\n",
       "      <th></th>\n",
       "    </tr>\n",
       "  </thead>\n",
       "  <tbody>\n",
       "    <tr>\n",
       "      <th>A1</th>\n",
       "      <td>A</td>\n",
       "      <td>M1D</td>\n",
       "      <td>1</td>\n",
       "      <td>96.204428</td>\n",
       "    </tr>\n",
       "    <tr>\n",
       "      <th>A2</th>\n",
       "      <td>A</td>\n",
       "      <td>R2K</td>\n",
       "      <td>2</td>\n",
       "      <td>57.391769</td>\n",
       "    </tr>\n",
       "    <tr>\n",
       "      <th>A3</th>\n",
       "      <td>A</td>\n",
       "      <td>A3V</td>\n",
       "      <td>3</td>\n",
       "      <td>0.000000</td>\n",
       "    </tr>\n",
       "  </tbody>\n",
       "</table>\n",
       "</div>"
      ],
      "text/plain": [
       "   segid mutation  resid  surface_area\n",
       "id                                    \n",
       "A1     A      M1D      1     96.204428\n",
       "A2     A      R2K      2     57.391769\n",
       "A3     A      A3V      3      0.000000"
      ]
     },
     "execution_count": 95,
     "metadata": {},
     "output_type": "execute_result"
    }
   ],
   "source": [
    "df"
   ]
  },
  {
   "cell_type": "code",
   "execution_count": null,
   "id": "ef336d5c-6dd2-4e69-8da4-f7e12cbbd813",
   "metadata": {},
   "outputs": [],
   "source": []
  }
 ],
 "metadata": {
  "kernelspec": {
   "display_name": "Python 3",
   "language": "python",
   "name": "python3"
  },
  "language_info": {
   "codemirror_mode": {
    "name": "ipython",
    "version": 3
   },
   "file_extension": ".py",
   "mimetype": "text/x-python",
   "name": "python",
   "nbconvert_exporter": "python",
   "pygments_lexer": "ipython3",
   "version": "3.9.9"
  }
 },
 "nbformat": 4,
 "nbformat_minor": 5
}
